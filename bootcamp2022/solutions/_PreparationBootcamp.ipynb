{
 "cells": [
  {
   "cell_type": "markdown",
   "id": "2a57ad24-f9cf-40da-b68e-c045d2fe54cc",
   "metadata": {},
   "source": [
    "# Code used to prepare Exercises for Bootcamp (Just for reference)"
   ]
  },
  {
   "cell_type": "code",
   "execution_count": null,
   "id": "df1badcd-2d3a-4666-8cdc-5282975b5b82",
   "metadata": {},
   "outputs": [],
   "source": [
    "# allows update of external libraries without need to reload package\n",
    "%load_ext autoreload\n",
    "%autoreload 2"
   ]
  },
  {
   "cell_type": "code",
   "execution_count": null,
   "id": "067746c1-b69d-4aba-a282-09367ccdf416",
   "metadata": {},
   "outputs": [],
   "source": [
    "import sys\n",
    "import os\n",
    "import pathlib\n",
    "import datetime\n",
    "import numpy as np\n",
    "import xarray\n",
    "import matplotlib\n",
    "\n",
    "sys.path.append(\"../scripts\")\n",
    "import normalize_text_bootcamp\n",
    "import dataset_bootcamp\n",
    "import utils_bootcamp\n",
    "import plotting\n",
    "\n",
    "import re"
   ]
  },
  {
   "cell_type": "code",
   "execution_count": null,
   "id": "3ff0c69a-5b8b-469c-9936-5de7464d69cb",
   "metadata": {},
   "outputs": [],
   "source": [
    "FOLDER_TO_TWEETS = \"/p/project/training2223/a2/data/tweets/tweets_2017_normalized.nc\"\n",
    "FOLDER_TO_TWEETS = \"../../data/tweets/tweets_2017_normalized.nc\"\n",
    "FOLDER_TO_TWEETS = \"/p/project/training2223/a2/base_data/\"\n",
    "FILE_TWEETS = FOLDER_TO_TWEETS + \"2017_2020_tweets_rain_sun_vocab_emojis_locations_bba_Tp_era5_no_bots.nc\"\n",
    "\n",
    "\n",
    "def load_tweets(folder):\n",
    "    ds = xarray.load_dataset(folder)\n",
    "    ds = dataset_bootcamp.reset_index_coordinate(ds)\n",
    "    return ds"
   ]
  },
  {
   "cell_type": "code",
   "execution_count": null,
   "id": "7030c22d-8142-4918-876d-5376398b0ea5",
   "metadata": {},
   "outputs": [],
   "source": [
    "ds = load_tweets(FILE_TWEETS)"
   ]
  },
  {
   "cell_type": "code",
   "execution_count": null,
   "id": "adc20fab-a86e-4dd0-ba9c-4c7bfbc57cfa",
   "metadata": {},
   "outputs": [],
   "source": [
    "ds"
   ]
  },
  {
   "cell_type": "code",
   "execution_count": null,
   "id": "aaada90f-71d5-4f52-9a6b-88d021ca8da4",
   "metadata": {},
   "outputs": [],
   "source": [
    "ds = dataset_bootcamp.reset_index_coordinate(\n",
    "    ds.drop(\n",
    "        [\n",
    "            \"withheld.copyright\",\n",
    "            \"withheld.country_codes\",\n",
    "            \"withheld.scope\",\n",
    "            \"time\",\n",
    "        ]\n",
    "    )\n",
    ")\n",
    "ds"
   ]
  },
  {
   "cell_type": "code",
   "execution_count": null,
   "id": "b42c9416-f5bb-4379-9608-849096432a3d",
   "metadata": {},
   "outputs": [],
   "source": [
    "ds[\"text_original\"] = ([\"index\"], ds.text.values.copy())\n",
    "ds_norm = normalize_text_bootcamp.normalize_text_dataset(ds)"
   ]
  },
  {
   "cell_type": "code",
   "execution_count": null,
   "id": "5d133761-49e0-4ff0-ab54-8ea77b281aa4",
   "metadata": {},
   "outputs": [],
   "source": [
    "ds_norm"
   ]
  },
  {
   "cell_type": "code",
   "execution_count": null,
   "id": "246c190b-23c0-488b-b39e-1ac0adcbbc0d",
   "metadata": {},
   "outputs": [],
   "source": [
    "def generate_datasets(ds, subfix):\n",
    "    ds_17 = ds.where(\n",
    "        (ds.created_at > np.datetime64(\"2017-01-01T00:00:00\")) & (ds.created_at < np.datetime64(\"2018-01-01T00:00:00\")),\n",
    "        drop=True,\n",
    "    )\n",
    "    ds_17.to_netcdf(FOLDER_TO_TWEETS + f\"tweets_2017_{subfix}.nc\")\n",
    "    ds_17_01 = ds.where(\n",
    "        (ds.created_at > np.datetime64(\"2017-01-01T00:00:00\")) & (ds.created_at < np.datetime64(\"2017-02-01T00:00:00\")),\n",
    "        drop=True,\n",
    "    )\n",
    "    ds_17_01.to_netcdf(FOLDER_TO_TWEETS + f\"tweets_2017_01_{subfix}.nc\")\n",
    "    ds.to_netcdf(FOLDER_TO_TWEETS + f\"tweets_2017-2020_{subfix}.nc\")\n",
    "\n",
    "\n",
    "generate_datasets(ds_norm, \"era5_normed\")"
   ]
  },
  {
   "cell_type": "code",
   "execution_count": null,
   "id": "2e2a8d86-804a-4fa0-9a2d-fde3a56aab26",
   "metadata": {},
   "outputs": [],
   "source": [
    "ds_norm_filtered = normalize_text_bootcamp.normalize_filter_dataset(ds)"
   ]
  },
  {
   "cell_type": "code",
   "execution_count": null,
   "id": "eedbc8da-4e92-45aa-8dd0-a6a537933b6f",
   "metadata": {},
   "outputs": [],
   "source": [
    "generate_datasets(ds_norm_filtered, \"era5_normed_filtered\")"
   ]
  },
  {
   "cell_type": "markdown",
   "id": "377fb140-ed96-48d5-9dd4-aea494ffd009",
   "metadata": {},
   "source": [
    "### **Precipitation**"
   ]
  },
  {
   "cell_type": "code",
   "execution_count": null,
   "id": "028bdf80-c5f4-4131-a091-c0c076128bf6",
   "metadata": {},
   "outputs": [],
   "source": [
    "ds_p = xarray.load_dataset(\"/p/project/training2223/a2/data/precipitation/ds_prec_era5_uk_2017-2020.nc\")"
   ]
  },
  {
   "cell_type": "code",
   "execution_count": null,
   "id": "f6fcc526-a691-4842-9e94-5ed0a14d134e",
   "metadata": {},
   "outputs": [],
   "source": [
    "ds_p"
   ]
  },
  {
   "cell_type": "code",
   "execution_count": null,
   "id": "fc5a1cba-3239-4579-999e-23e1fb0a38e4",
   "metadata": {},
   "outputs": [],
   "source": [
    "def split_dataset_by_year(\n",
    "    ds,\n",
    "    prefix=\"ds_precipitation_\",\n",
    "    years=[2017, 2021],\n",
    "    folder=\"/p/project/training2223/a2/data/precipitation/\",\n",
    "):\n",
    "    years_range = np.arange(*years)\n",
    "    for y in years_range:\n",
    "        ds_y = ds.where(\n",
    "            (ds.time > np.datetime64(f\"{y}-01-01T00:00:00\")) & (ds.time < np.datetime64(f\"{y+1}-01-01T00:00:00\")),\n",
    "            drop=True,\n",
    "        )\n",
    "        ds_y.to_netcdf(f\"{folder}{prefix}{y}.nc\")\n",
    "\n",
    "\n",
    "split_dataset_by_year(ds_p)\n",
    "ds_p"
   ]
  },
  {
   "cell_type": "code",
   "execution_count": null,
   "id": "bc2c1875-46ee-4730-87ec-1d2bd8c3a3c0",
   "metadata": {},
   "outputs": [],
   "source": [
    "ds_17 = xa"
   ]
  },
  {
   "cell_type": "markdown",
   "id": "c3819e8d-5750-4838-87e2-5e07f1a3f232",
   "metadata": {},
   "source": [
    "## Filtered (normalized) dataset version"
   ]
  },
  {
   "cell_type": "code",
   "execution_count": null,
   "id": "bd90a32b-fa3e-41c3-82a8-337cb2d4d603",
   "metadata": {},
   "outputs": [],
   "source": [
    "ds_tweets_full = load_tweets(\"../../data/tweets/tweets_2017-2020_normalized.nc\")"
   ]
  },
  {
   "cell_type": "code",
   "execution_count": null,
   "id": "ec681415-7fd2-4180-818a-3468ade0de35",
   "metadata": {},
   "outputs": [],
   "source": [
    "ds_tweets_fn = normalize_text_bootcamp.normalize_filter_dataset(ds_tweets_full)"
   ]
  },
  {
   "cell_type": "code",
   "execution_count": null,
   "id": "343c822b-908e-4c96-bac1-6708879d8dd3",
   "metadata": {},
   "outputs": [],
   "source": [
    "ds_tweets_fn.to_netcdf(\"../../data/tweets/tweets_2017-2020_normalized_filtered.nc\")"
   ]
  },
  {
   "cell_type": "code",
   "execution_count": null,
   "id": "f0344df8-3b2a-49c4-8ffc-3ceb3e5f832e",
   "metadata": {},
   "outputs": [],
   "source": [
    "ds_tweets_fn"
   ]
  },
  {
   "cell_type": "code",
   "execution_count": null,
   "id": "1a9f164a-9e7c-4205-b336-9cd2094f7252",
   "metadata": {},
   "outputs": [],
   "source": [
    "# small dataset"
   ]
  },
  {
   "cell_type": "code",
   "execution_count": null,
   "id": "eca7a0e1-7b55-4caa-82a9-bfbb105af9a9",
   "metadata": {},
   "outputs": [],
   "source": [
    "ds_tweets_17 = load_tweets(\"../../data/tweets/tweets_2017_normalized.nc\")"
   ]
  },
  {
   "cell_type": "code",
   "execution_count": null,
   "id": "7b679173-2c66-4492-b57b-08ac229fe108",
   "metadata": {},
   "outputs": [],
   "source": [
    "ds_tweets_17_fn = normalize_text_bootcamp.normalize_filter_dataset(ds_tweets_17)"
   ]
  },
  {
   "cell_type": "code",
   "execution_count": null,
   "id": "3042bacf-d213-4607-9271-d84af398b2c7",
   "metadata": {},
   "outputs": [],
   "source": [
    "ds_tweets_17_fn.to_netcdf(\"../../data/tweets/tweets_2017_normalized_filtered.nc\")"
   ]
  },
  {
   "cell_type": "code",
   "execution_count": null,
   "id": "9fabcadc-b07f-41f4-b9bc-71bc7820f6bb",
   "metadata": {},
   "outputs": [],
   "source": [
    "ds_tweets_17_fn"
   ]
  },
  {
   "cell_type": "code",
   "execution_count": null,
   "id": "022dc948-ba5b-4d45-bc44-e1b95ba854a4",
   "metadata": {},
   "outputs": [],
   "source": [
    "def drop_var_save(drop_variables=[\"text\"]):\n",
    "    FOLDER_TWEETS = \"../../data/tweets/\"\n",
    "    folders = [\n",
    "        FOLDER_TWEETS + x\n",
    "        for x in [\n",
    "            \"tweets_2017-2020_normalized_filtered.nc\",\n",
    "            \"tweets_2017-2020_normalized.nc\",\n",
    "            \"tweets_2017_normalized.nc\",\n",
    "            \"tweets_2017_normalized_filtered.nc\",\n",
    "        ]\n",
    "    ]\n",
    "    for f in folders:\n",
    "        ds_tweets = load_tweets(f)\n",
    "        for var in drop_variables:\n",
    "            if var in ds_tweets.variables.keys():\n",
    "                ds_tweets.drop([var])\n",
    "        ds_tweets.to_netcdf(f)\n",
    "\n",
    "\n",
    "drop_var_save()"
   ]
  },
  {
   "cell_type": "markdown",
   "id": "af8f204d-ee9f-4e78-83cd-9d0153b735e6",
   "metadata": {},
   "source": [
    "## ERA5 dataset preprocess"
   ]
  },
  {
   "cell_type": "code",
   "execution_count": null,
   "id": "86553a55-29a9-457c-a72c-d80cfab5d17f",
   "metadata": {},
   "outputs": [],
   "source": [
    "ds_tp = xarray.load_dataset(\n",
    "    \"/home/kristian/Downloads/adaptor.mars.internal-1663932222.0837457-20356-1-fc1bb587-1cee-4ba4-8686-658e3cd9bca8.nc\"\n",
    ")"
   ]
  },
  {
   "cell_type": "code",
   "execution_count": null,
   "id": "ec1e457f-2223-4b74-a72b-460306a7b0dd",
   "metadata": {},
   "outputs": [],
   "source": [
    "ds_tp"
   ]
  },
  {
   "cell_type": "code",
   "execution_count": null,
   "id": "9955f6a0-3f85-46ac-b7e7-4fd3d7a31f20",
   "metadata": {},
   "outputs": [],
   "source": [
    "ds_tp.tp.shape"
   ]
  },
  {
   "cell_type": "code",
   "execution_count": null,
   "id": "c70d227d-f5bf-4dd3-a88b-9a50e1f400a0",
   "metadata": {},
   "outputs": [],
   "source": [
    "ds_tp.time.values"
   ]
  },
  {
   "cell_type": "code",
   "execution_count": null,
   "id": "cb91b298-849f-43bb-a92e-371417c38227",
   "metadata": {},
   "outputs": [],
   "source": [
    "time_half = ds_tp.time.values + np.timedelta64(datetime.timedelta(minutes=30))\n",
    "time_half = time_half[:-1]\n",
    "time_half"
   ]
  },
  {
   "cell_type": "code",
   "execution_count": null,
   "id": "cc1df1b1-41d7-404c-8ef0-4a2331880f8a",
   "metadata": {},
   "outputs": [],
   "source": [
    "ds = xarray.Dataset(\n",
    "    coords=dict(\n",
    "        longitude=ds_tp.longitude.values,\n",
    "        latitude=ds_tp.latitude.values,\n",
    "        time=time_half,\n",
    "    ),\n",
    "    data_vars=dict(tp=([\"time\", \"latitude\", \"longitude\"], np.diff(ds_tp.tp.values, axis=0))),\n",
    ")"
   ]
  },
  {
   "cell_type": "code",
   "execution_count": null,
   "id": "a41b11c5-a1cc-46df-a7b3-af37ceb6e813",
   "metadata": {},
   "outputs": [],
   "source": [
    "# ds.to_netcdf('../../data/precipitation/ds_prec_era5_uk_2017-2020.nc')"
   ]
  },
  {
   "cell_type": "code",
   "execution_count": null,
   "id": "72ea3861-efe7-4756-ba8a-eacee8f5d26b",
   "metadata": {},
   "outputs": [],
   "source": [
    "ds.sel(time=np.datetime64(\"2020-01-01T02:30:00.000000000\")).tp.plot()"
   ]
  },
  {
   "cell_type": "code",
   "execution_count": null,
   "id": "9d352137-611f-4cfa-a760-f3d3ea24c53f",
   "metadata": {},
   "outputs": [],
   "source": [
    "ds_old = xarray.load_dataset(\"../../data/precipitation/ds_precipitation_2020.nc\")"
   ]
  },
  {
   "cell_type": "code",
   "execution_count": null,
   "id": "5bf6d287-c445-4f4f-9944-ecab423b1d9f",
   "metadata": {},
   "outputs": [],
   "source": [
    "ds_old.sel(time=np.datetime64(\"2020-01-01T02:30:00.000000000\")).tp.plot(\n",
    "    xlim=[-9, 3],\n",
    "    ylim=[49, 61],\n",
    "    norm=matplotlib.colors.LogNorm(vmax=1e-3, vmin=1e-6),\n",
    "    cmap=\"ocean_r\",\n",
    ")"
   ]
  },
  {
   "cell_type": "code",
   "execution_count": null,
   "id": "9be0d3a5-46e5-4554-9b8c-260261b69d57",
   "metadata": {},
   "outputs": [],
   "source": [
    "ds.sel(time=np.datetime64(\"2020-01-01T02:30:00.000000000\")).tp.plot(\n",
    "    xlim=[-9, 3],\n",
    "    ylim=[49, 61],\n",
    "    norm=matplotlib.colors.LogNorm(vmax=1e-3, vmin=1e-6),\n",
    "    cmap=\"ocean_r\",\n",
    ")"
   ]
  },
  {
   "cell_type": "code",
   "execution_count": null,
   "id": "0acda89a-0c8a-4eda-bab4-75435f1cad71",
   "metadata": {},
   "outputs": [],
   "source": [
    "ds_old_red = ds_old.where(\n",
    "    (ds_old.latitude <= 61)\n",
    "    & (ds_old.latitude >= 49)\n",
    "    & (ds_old.longitude >= -9)\n",
    "    & (ds_old.longitude <= 3)\n",
    "    & (ds.time <= np.datetime64(\"2020-12-31T22:30:00\")),\n",
    "    drop=True,\n",
    ")"
   ]
  },
  {
   "cell_type": "code",
   "execution_count": null,
   "id": "97f0f552-31e3-47bf-9376-dacedc8169a0",
   "metadata": {},
   "outputs": [],
   "source": [
    "# ds_old_red.to_netcdf('../../data/precipitation/ds_prec_uk_2020.nc')"
   ]
  },
  {
   "cell_type": "code",
   "execution_count": null,
   "id": "c69a6ab7-e195-4dd0-b1ed-5d41e11d9317",
   "metadata": {},
   "outputs": [],
   "source": [
    "ds_old_red"
   ]
  },
  {
   "cell_type": "code",
   "execution_count": null,
   "id": "3623c704-f5d7-4c9e-9cb3-82ba5a40d826",
   "metadata": {},
   "outputs": [],
   "source": [
    "ds"
   ]
  },
  {
   "cell_type": "code",
   "execution_count": null,
   "id": "a622bc6f-3439-4b6d-b9d6-51d858568402",
   "metadata": {},
   "outputs": [],
   "source": [
    "ds_2020 = ds.where(\n",
    "    (ds.time >= np.datetime64(\"2020-01-01T00:30:00\")) & (ds.time < np.datetime64(\"2021-01-01T00:30:00\")),\n",
    "    drop=True,\n",
    ")"
   ]
  },
  {
   "cell_type": "code",
   "execution_count": null,
   "id": "6bb96053-54f4-4e13-9cbd-d591fe92ad69",
   "metadata": {},
   "outputs": [],
   "source": [
    "# ds_2020.to_netcdf('../../data/precipitation/ds_prec_era5_uk_2020.nc')"
   ]
  },
  {
   "cell_type": "code",
   "execution_count": null,
   "id": "8b8b2aab-a4ab-42ce-b6d9-fa284bf275dd",
   "metadata": {},
   "outputs": [],
   "source": [
    "mask = ~np.isnan(ds_2020.tp.values)\n",
    "x = ds_2020.tp.values[mask]\n",
    "y = ds_old_red.tp.values[mask]\n",
    "plotting.histograms.plot_histogram_2d(\n",
    "    x,\n",
    "    y,\n",
    "    label_x=\"new tp\",\n",
    "    label_y=\"old tp\",\n",
    "    log=\"symlog\",\n",
    "    linear_thresh=1e-8,\n",
    "    norm=\"log\",\n",
    "    cmap=\"tab20c\",\n",
    ")"
   ]
  },
  {
   "cell_type": "code",
   "execution_count": null,
   "id": "ac5e7db0-9b5b-4a28-9448-88ef32be213c",
   "metadata": {},
   "outputs": [],
   "source": [
    "np.sum(x > 0) / np.sum(y > 0)"
   ]
  },
  {
   "cell_type": "code",
   "execution_count": null,
   "id": "fac061ad-93c7-445a-afef-c7c83bb7eb89",
   "metadata": {},
   "outputs": [],
   "source": []
  }
 ],
 "metadata": {
  "kernelspec": {
   "display_name": "ap2",
   "language": "python",
   "name": "ap2"
  },
  "language_info": {
   "codemirror_mode": {
    "name": "ipython",
    "version": 3
   },
   "file_extension": ".py",
   "mimetype": "text/x-python",
   "name": "python",
   "nbconvert_exporter": "python",
   "pygments_lexer": "ipython3",
   "version": "3.8.10"
  }
 },
 "nbformat": 4,
 "nbformat_minor": 5
}
