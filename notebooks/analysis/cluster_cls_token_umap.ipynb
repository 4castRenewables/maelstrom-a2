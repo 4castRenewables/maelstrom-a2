{
 "cells": [
  {
   "cell_type": "code",
   "execution_count": null,
   "metadata": {},
   "outputs": [],
   "source": [
    "# allows update of external libraries without need to reload package\n",
    "%load_ext autoreload\n",
    "%autoreload 2"
   ]
  },
  {
   "cell_type": "code",
   "execution_count": null,
   "metadata": {},
   "outputs": [],
   "source": [
    "import numpy as np\n",
    "import plotly.express\n",
    "import matplotlib.pyplot as plt\n",
    "import sklearn.manifold\n",
    "import gc\n",
    "import sys\n",
    "import guppy\n",
    "import tqdm\n",
    "import memory_profiler\n",
    "import torch\n",
    "import umap\n",
    "\n",
    "import a2.training.training_hugging\n",
    "import a2.training.evaluate_hugging\n",
    "import a2.training.dataset_hugging\n",
    "import a2.dataset"
   ]
  },
  {
   "cell_type": "code",
   "execution_count": null,
   "metadata": {},
   "outputs": [],
   "source": [
    "FOLDER_MODEL_PRETRAINED = \"../../models/model_weights/output_rainprediction_simpledeberta/era5/checkpoint-7617/\"\n",
    "FOLDER_MODEL = \"microsoft/deberta-v3-small\"\n",
    "# FILE_TWEETS = \"../../../maelstrom_bootcamp/Applications/AP2/bootcamp2022_data/tweets/tweets_2017_01_era5_normed_filtered.nc\"\n",
    "FOLDER_TWEETS = \"/home/kristian/Projects/a2/data/tweets/\"\n",
    "FILE_TWEETS = FOLDER_TWEETS + \"tweets_2017_era5_normed_filtered_predicted_simpledeberta.nc\"\n",
    "FOLDER_EMBEDDINGS = \"/home/kristian/Projects/a2/data/embeddings/cls_token/\"\n",
    "FILE_EMBEDDINGS = FOLDER_EMBEDDINGS + \"cls_tokenstweets_2017_era5_normed_filtered.nc.npy\"\n",
    "!ls $FILE_TWEETS\n",
    "!ls $FILE_EMBEDDINGS"
   ]
  },
  {
   "cell_type": "code",
   "execution_count": null,
   "metadata": {},
   "outputs": [],
   "source": [
    "ds = a2.dataset.load_dataset.load_tweets_dataset(FILE_TWEETS)\n",
    "ds[\"raining\"] = ([\"index\"], np.array(ds.tp_h.values > 1e-8, dtype=int))"
   ]
  },
  {
   "cell_type": "code",
   "execution_count": null,
   "metadata": {},
   "outputs": [],
   "source": [
    "cls_tokens = np.load(FILE_EMBEDDINGS)"
   ]
  },
  {
   "cell_type": "code",
   "execution_count": null,
   "metadata": {},
   "outputs": [],
   "source": [
    "mask = a2.utils.utils.get_random_indices(10000, ds.index.shape[0])"
   ]
  },
  {
   "cell_type": "code",
   "execution_count": null,
   "metadata": {},
   "outputs": [],
   "source": [
    "fit = umap.UMAP()\n",
    "projections = fit.fit_transform(cls_tokens[mask])"
   ]
  },
  {
   "cell_type": "code",
   "execution_count": null,
   "metadata": {},
   "outputs": [],
   "source": [
    "n_neighbors = [10, 200]\n",
    "min_dist = [0.1, 0.8]\n",
    "metrics = [\"correlation\", \"mahalanobis\", \"wminkowski\"]\n",
    "n_cols = len(n_neighbors)\n",
    "n_rows = len(min_dist)\n",
    "backend = \"plotly\"\n",
    "if backend != \"plotly\":\n",
    "    fig, axes = plt.subplots(ncols=n_cols, nrows=n_rows, figsize=(15, 5 * n_rows))\n",
    "\n",
    "\n",
    "def cluster_plot(\n",
    "    ax: plt.axes,\n",
    "    n_neighbors: int = 15,\n",
    "    min_dist: float = 0.1,\n",
    "    n_components: int = 2,\n",
    "    metric: str = \"euclidean\",\n",
    "    title: str = \"\",\n",
    "    backend: str = \"plotly\",\n",
    "):\n",
    "    fit = umap.UMAP(\n",
    "        n_neighbors=n_neighbors,\n",
    "        min_dist=min_dist,\n",
    "        n_components=n_components,\n",
    "        metric=metric,\n",
    "    )\n",
    "    projections = fit.fit_transform(cls_tokens[mask])\n",
    "    if backend == \"plotly\":\n",
    "        hover_keys = [\"text_normalized\", \"raining\"]\n",
    "        fig = plotly.express.scatter(\n",
    "            data_frame=ds.sel(index=mask).to_dataframe(),\n",
    "            x=projections.T[0],\n",
    "            y=projections.T[1],\n",
    "            title=title,\n",
    "            color=\"prediction_probability_raining\",\n",
    "            hover_data=hover_keys,\n",
    "            facet_col=\"raining\",  # hover_data=[get_values(ds_test, x) for x in hover_keys],\n",
    "            color_continuous_scale=\"Aggrnyl\",\n",
    "            opacity=0.1,\n",
    "        )\n",
    "        fig.show()\n",
    "    else:\n",
    "        ax.scatter(x=projections.T[0], y=projections.T[1], alpha=0.1)\n",
    "        ax.set_title(title)\n",
    "\n",
    "\n",
    "axes = a2.plotting.utils_plotting.create_axes_grid(len(min_dist), len(n_neighbors))\n",
    "for i_n, n_ngb in enumerate(n_neighbors):\n",
    "    for j_d, dist in enumerate(min_dist):\n",
    "        for m in enumerate(metrics):\n",
    "            ax = axes[j_d, i_n]\n",
    "            cluster_plot(\n",
    "                ax,\n",
    "                n_neighbors=n_ngb,\n",
    "                min_dist=dist,\n",
    "                n_components=2,\n",
    "                metric=m,\n",
    "                backend=backend,\n",
    "                title=f\"n_neighbors: {n_ngb}, min_dist: {dist}, metric: {m}\",\n",
    "            )"
   ]
  },
  {
   "cell_type": "code",
   "execution_count": null,
   "metadata": {},
   "outputs": [],
   "source": []
  }
 ],
 "metadata": {
  "kernelspec": {
   "display_name": ".venv",
   "language": "python",
   "name": "python3"
  },
  "language_info": {
   "codemirror_mode": {
    "name": "ipython",
    "version": 3
   },
   "file_extension": ".py",
   "mimetype": "text/x-python",
   "name": "python",
   "nbconvert_exporter": "python",
   "pygments_lexer": "ipython3",
   "version": "3.10.6 (main, Nov 14 2022, 16:10:14) [GCC 11.3.0]"
  },
  "vscode": {
   "interpreter": {
    "hash": "06c3f19a037da30281d10f8fbda7f2df02465bd919ed005b52297a6fc2623835"
   }
  }
 },
 "nbformat": 4,
 "nbformat_minor": 2
}
