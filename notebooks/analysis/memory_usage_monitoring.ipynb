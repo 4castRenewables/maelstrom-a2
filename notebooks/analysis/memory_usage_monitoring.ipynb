{
 "cells": [
  {
   "cell_type": "code",
   "execution_count": null,
   "metadata": {},
   "outputs": [],
   "source": [
    "import psutil\n",
    "import time\n",
    "\n",
    "while True:\n",
    "    memory_usage = psutil.virtual_memory()\n",
    "    print(f\"Memory Usage: {memory_usage.percent}%\")\n",
    "    time.sleep(1)"
   ]
  },
  {
   "cell_type": "code",
   "execution_count": null,
   "metadata": {},
   "outputs": [],
   "source": [
    "import os\n",
    "\n",
    "tot_m, used_m, free_m = map(int, os.popen(\"free -t -m\").readlines()[-1].split()[1:])\n",
    "tot_m, used_m, free_m"
   ]
  },
  {
   "cell_type": "code",
   "execution_count": null,
   "metadata": {},
   "outputs": [],
   "source": [
    "import os\n",
    "\n",
    "mem = str(os.popen(\"free -t -m\").readlines())\n",
    "\"\"\"\n",
    "Get a whole line of memory output, it will be something like below\n",
    "['             total       used       free     shared    buffers     cached\\n', \n",
    "'Mem:           925        591        334         14         30        355\\n', \n",
    "'-/+ buffers/cache:        205        719\\n', \n",
    "'Swap:           99          0         99\\n', \n",
    "'Total:        1025        591        434\\n']\n",
    " So, we need total memory, usage and free memory.\n",
    " We should find the index of capital T which is unique at this string\n",
    "\"\"\"\n",
    "T_ind = mem.index(\"T\")\n",
    "\"\"\"\n",
    "Than, we can recreate the string with this information. After T we have,\n",
    "\"Total:        \" which has 14 characters, so we can start from index of T +14\n",
    "and last 4 characters are also not necessary.\n",
    "We can create a new sub-string using this information\n",
    "\"\"\"\n",
    "mem_G = mem[T_ind + 14 : -4]\n",
    "\"\"\"\n",
    "The result will be like\n",
    "1025        603        422\n",
    "we need to find first index of the first space, and we can start our substring\n",
    "from from 0 to this index number, this will give us the string of total memory\n",
    "\"\"\"\n",
    "S1_ind = mem_G.index(\" \")\n",
    "mem_T = mem_G[0:S1_ind]\n",
    "\"\"\"\n",
    "Similarly we will create a new sub-string, which will start at the second value. \n",
    "The resulting string will be like\n",
    "603        422\n",
    "Again, we should find the index of first space and than the \n",
    "take the Used Memory and Free memory.\n",
    "\"\"\"\n",
    "mem_G1 = mem_G[S1_ind + 8 :]\n",
    "S2_ind = mem_G1.index(\" \")\n",
    "mem_U = mem_G1[0:S2_ind]\n",
    "\n",
    "mem_F = mem_G1[S2_ind + 8 :]\n",
    "print(\"Summary = \" + mem_G)\n",
    "print(\"Total Memory = \" + mem_T + \" MB\")\n",
    "print(\"Used Memory = \" + mem_U + \" MB\")\n",
    "print(\"Free Memory = \" + mem_F + \" MB\")"
   ]
  },
  {
   "cell_type": "code",
   "execution_count": null,
   "metadata": {},
   "outputs": [],
   "source": [
    "# importing the library\n",
    "from memory_profiler import profile\n",
    "\n",
    "\n",
    "# instantiating the decorator\n",
    "# code for which memory has to\n",
    "# be monitored\n",
    "@profile\n",
    "def my_func():\n",
    "    x = [x for x in range(0, 1000)]\n",
    "    y = [y * 100 for y in range(0, 1500)]\n",
    "    del x\n",
    "    return y\n",
    "\n",
    "\n",
    "if __name__ == \"__main__\":\n",
    "    my_func()"
   ]
  }
 ],
 "metadata": {
  "kernelspec": {
   "display_name": ".venv",
   "language": "python",
   "name": "python3"
  },
  "language_info": {
   "codemirror_mode": {
    "name": "ipython",
    "version": 3
   },
   "file_extension": ".py",
   "mimetype": "text/x-python",
   "name": "python",
   "nbconvert_exporter": "python",
   "pygments_lexer": "ipython3",
   "version": "3.10.12"
  }
 },
 "nbformat": 4,
 "nbformat_minor": 2
}
