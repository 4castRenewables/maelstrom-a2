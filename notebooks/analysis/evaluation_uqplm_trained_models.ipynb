{
 "cells": [
  {
   "cell_type": "markdown",
   "id": "d20f9fb1",
   "metadata": {},
   "source": []
  },
  {
   "cell_type": "code",
   "execution_count": null,
   "id": "f9df62f4-1243-46c0-9eef-e0c0e0b248f4",
   "metadata": {},
   "outputs": [],
   "source": [
    "# allows update of external libraries without need to reload package\n",
    "%load_ext autoreload\n",
    "%autoreload 2"
   ]
  },
  {
   "cell_type": "code",
   "execution_count": null,
   "id": "1e174881-1a4f-4761-904b-03c1d2db261e",
   "metadata": {},
   "outputs": [],
   "source": [
    "!which pip"
   ]
  },
  {
   "cell_type": "code",
   "execution_count": null,
   "id": "7eb0565a-3f16-40a0-bf5d-ebc3078df580",
   "metadata": {},
   "outputs": [],
   "source": [
    "!pip install bayesian_torch"
   ]
  },
  {
   "cell_type": "code",
   "execution_count": null,
   "id": "c55fcc00-d263-42c9-99e1-8fa8863eb59e",
   "metadata": {},
   "outputs": [],
   "source": [
    "ls $FOLDER_UQ_PLM/\"Code\""
   ]
  },
  {
   "cell_type": "code",
   "execution_count": null,
   "id": "6a5d95fa-e5ab-4196-ad53-d532c847a0ec",
   "metadata": {},
   "outputs": [],
   "source": [
    "import sys\n",
    "import pickle\n",
    "import matplotlib.pyplot as plt\n",
    "import pickle\n",
    "import pathlib\n",
    "import collections\n",
    "import os\n",
    "import importlib\n",
    "\n",
    "\n",
    "def load_module_by_path(file_path, module_name, module_alias):\n",
    "    spec = importlib.util.spec_from_file_location(module_name, file_path)\n",
    "    module = importlib.util.module_from_spec(spec)\n",
    "    sys.modules[module_alias] = module\n",
    "    spec.loader.exec_module(module)\n",
    "\n",
    "\n",
    "import numpy as np\n",
    "import warnings\n",
    "import dataclasses\n",
    "import sklearn.metrics\n",
    "import scipy.stats\n",
    "import torch.nn.functional\n",
    "\n",
    "FOLDER_UQ_PLM = pathlib.Path(\"/p/project/deepacf/maelstrom/ehlert1/UQ-PLM/\")\n",
    "sys.path.append(FOLDER_UQ_PLM / \"Code/\")\n",
    "import model, util\n",
    "\n",
    "load_module_by_path(FOLDER_UQ_PLM / \"Code/test.py\", \"test\", \"test_uqplm\")\n",
    "import info as info_package"
   ]
  },
  {
   "cell_type": "code",
   "execution_count": null,
   "id": "2c18b04a-ac08-4083-bf20-83ef204eca1c",
   "metadata": {},
   "outputs": [],
   "source": [
    "import test_uqplm"
   ]
  },
  {
   "cell_type": "code",
   "execution_count": null,
   "id": "12a2bfda-2509-4b16-ac28-8ce20014f9fd",
   "metadata": {},
   "outputs": [],
   "source": [
    "os.environ[\"FOLDER_UQPLM_DATA\"] = \"/p/scratch/deepacf/maelstrom/maelstrom_data/ap2/data/UQ-PLM/\""
   ]
  },
  {
   "cell_type": "code",
   "execution_count": null,
   "id": "a867a3be-5ce6-4a37-97ff-3ff3274e00bf",
   "metadata": {},
   "outputs": [],
   "source": [
    "FOLDER_RESULTS = FOLDER_UQ_PLM / \"Result/Task4/electra_base-fl/\""
   ]
  },
  {
   "cell_type": "code",
   "execution_count": null,
   "id": "f175e160-935c-4a50-94ca-bb498b598407",
   "metadata": {},
   "outputs": [],
   "source": [
    "def load_pickle(filename):\n",
    "    with open(filename, \"rb\") as input_file:\n",
    "        return pickle.load(input_file)"
   ]
  },
  {
   "cell_type": "code",
   "execution_count": null,
   "id": "082a17d8-6dee-442d-8b4a-b412edae994a",
   "metadata": {},
   "outputs": [],
   "source": [
    "model = load_pickle(FOLDER_RESULTS / r\"model_det_0.pkl\")"
   ]
  },
  {
   "cell_type": "code",
   "execution_count": null,
   "id": "3175a7a7-edf2-494e-9195-10684b5d1111",
   "metadata": {},
   "outputs": [],
   "source": [
    "os.chdir(\"/p/project/deepacf/maelstrom/ehlert1/UQ-PLM/notebooks\")"
   ]
  },
  {
   "cell_type": "code",
   "execution_count": null,
   "id": "ac6e455a-7936-47cb-91c9-4a74a96f1ec6",
   "metadata": {},
   "outputs": [],
   "source": [
    "@dataclasses.dataclass\n",
    "class Args:\n",
    "    task_id: str\n",
    "    model_name: str\n",
    "    stage: str\n",
    "\n",
    "\n",
    "args = Args(task_id=\"Task4\", model_name=\"electra_base-fl\", stage=\"test\")\n",
    "info = info_package.Info(args)\n",
    "inputs_list = util.load(args, info, args.stage)\n",
    "all_labels, all_probs, all_scores = {}, collections.defaultdict(list), collections.defaultdict(list)"
   ]
  },
  {
   "cell_type": "code",
   "execution_count": null,
   "id": "96492fd8-0b2c-4a74-b165-4cc87ca1999a",
   "metadata": {},
   "outputs": [],
   "source": [
    "info.DIR_OUTPUT"
   ]
  },
  {
   "cell_type": "code",
   "execution_count": null,
   "id": "cba91547-3aea-4d23-8f74-38a7089dbd67",
   "metadata": {},
   "outputs": [],
   "source": [
    "def myprint(to_print, mode):\n",
    "    print(to_print)\n",
    "\n",
    "\n",
    "for model_id, model_file in enumerate(info.FILE_MODELS[info.VERSION_DET]):\n",
    "    myprint(f\"Load {info.VERSION_DET} Model {model_id}\", info.FILE_STDOUT)\n",
    "    model = pickle.load(open(model_file, \"rb\")).to(info.DEVICE_GPU)\n",
    "    myprint(\"-\" * 20, info.FILE_STDOUT)\n",
    "\n",
    "    in_confs = None\n",
    "    vanilla_logits = {}\n",
    "    for type, inputs in zip(info.TYPE_TESTS, inputs_list[1:]):\n",
    "        myprint(\n",
    "            f\"Uncertainty for {type} Data via {info.VERSION_DET} Model {model_id} and {info.METHOD_VANILLA}\",\n",
    "            info.FILE_STDOUT,\n",
    "        )\n",
    "        each_logits, each_labels = test_uqplm.process(info, info.METHOD_VANILLA, inputs, model, if_eval=True, num_mc=1)\n",
    "        each_probs = torch.nn.functional.softmax(each_logits, dim=-1)\n",
    "        vanilla_logits[type] = each_logits\n",
    "        each_confs, each_scores = test_uqplm.evaluate(args, info, type, each_probs, each_labels, in_confs=in_confs)\n",
    "        test_uqplm.feed(\n",
    "            info, type, info.METHOD_VANILLA, all_labels, all_probs, all_scores, each_labels, each_probs, each_scores\n",
    "        )\n",
    "        if type == info.TYPE_TEST_IN:\n",
    "            in_confs = each_confs\n",
    "    myprint(\"-\" * 20, info.FILE_STDOUT)"
   ]
  },
  {
   "cell_type": "code",
   "execution_count": null,
   "id": "c0aebc1d-9404-4bfd-8bd6-f1c06da33615",
   "metadata": {},
   "outputs": [],
   "source": []
  }
 ],
 "metadata": {
  "kernelspec": {
   "display_name": "a2",
   "language": "python",
   "name": "a2"
  },
  "language_info": {
   "codemirror_mode": {
    "name": "ipython",
    "version": 3
   },
   "file_extension": ".py",
   "mimetype": "text/x-python",
   "name": "python",
   "nbconvert_exporter": "python",
   "pygments_lexer": "ipython3",
   "version": "3.10.6"
  }
 },
 "nbformat": 4,
 "nbformat_minor": 5
}
