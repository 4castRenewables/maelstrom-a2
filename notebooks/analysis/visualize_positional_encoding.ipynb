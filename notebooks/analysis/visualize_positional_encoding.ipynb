{
 "cells": [
  {
   "cell_type": "markdown",
   "id": "651f9abc",
   "metadata": {},
   "source": [
    "# Visualize positional encoder of BERT\n",
    "Compute and plot encoding \"weights\" for positional encoding as defined in their original paper. "
   ]
  },
  {
   "cell_type": "code",
   "execution_count": null,
   "id": "f01cc6be-8b7d-4f9f-85c3-6568f79515d5",
   "metadata": {},
   "outputs": [],
   "source": [
    "import numpy as np\n",
    "import matplotlib.pyplot as plt\n",
    "import matplotlib"
   ]
  },
  {
   "cell_type": "code",
   "execution_count": null,
   "id": "6155387b-c8ad-4016-80e9-70cb6d1f6d95",
   "metadata": {},
   "outputs": [],
   "source": [
    "def positional_encoding(dim, pos, d_model):\n",
    "    \"\"\"\n",
    "    dim: embedding dimension -> along vector of embedding\n",
    "    pos: varies relative to position of embedded vector in list of embeddings that make up the \"sentence\"\n",
    "    d_model: size of embeddings dimension\n",
    "    \"\"\"\n",
    "    if dim % 2:\n",
    "        encoding = np.cos(pos / 10000 ** (2 * dim / d_model))\n",
    "    else:\n",
    "        encoding = np.sin(pos / 10000 ** (2 * dim / d_model))\n",
    "    return encoding"
   ]
  },
  {
   "cell_type": "code",
   "execution_count": null,
   "id": "08afafb0-558c-4397-b67e-ea85d4087b3a",
   "metadata": {},
   "outputs": [],
   "source": [
    "positions = np.arange(0, 10)\n",
    "embedding_dimension = np.arange(0, 64)\n",
    "d_model = len(embedding_dimension)\n",
    "\n",
    "X, Y = np.meshgrid(embedding_dimension, positions)"
   ]
  },
  {
   "cell_type": "code",
   "execution_count": null,
   "id": "bd2b5983-6540-4011-aedd-05d08a4bea2a",
   "metadata": {},
   "outputs": [],
   "source": [
    "Z = [positional_encoding(x, y, d_model) for x, y in zip(X.flatten(), Y.flatten())]\n",
    "Z = np.array(Z).reshape(X.shape)"
   ]
  },
  {
   "cell_type": "code",
   "execution_count": null,
   "id": "d602db7a-75a5-41e5-aa39-6edb66387303",
   "metadata": {},
   "outputs": [],
   "source": [
    "font_size = 18\n",
    "font = {\"family\": \"DejaVu Sans\", \"weight\": \"normal\", \"size\": font_size}\n",
    "\n",
    "matplotlib.rc(\"font\", **font)"
   ]
  },
  {
   "cell_type": "code",
   "execution_count": null,
   "id": "10ac2e39-7a77-4ab6-9b53-c9ba3b376c03",
   "metadata": {},
   "outputs": [],
   "source": [
    "plt.pcolormesh(X, Y, Z, cmap=\"coolwarm\")\n",
    "plt.colorbar()\n",
    "plt.clim(-1, 1)\n",
    "plt.xlabel(\"Embedding dimension\")\n",
    "plt.ylabel(\"Token position\")\n",
    "fig = plt.gcf()\n",
    "fig.tight_layout()\n",
    "fig.savefig(\"positional_encoding_example.png\", dpi=400, bbox_inches=\"tight\")"
   ]
  },
  {
   "cell_type": "code",
   "execution_count": null,
   "id": "b3cc9276-f166-4c7f-bdf4-fb3ffdef76d3",
   "metadata": {},
   "outputs": [],
   "source": []
  }
 ],
 "metadata": {
  "kernelspec": {
   "display_name": "Python 3.10.6 ('a2-laF_Cm_L-py3.10')",
   "language": "python",
   "name": "python3"
  },
  "language_info": {
   "codemirror_mode": {
    "name": "ipython",
    "version": 3
   },
   "file_extension": ".py",
   "mimetype": "text/x-python",
   "name": "python",
   "nbconvert_exporter": "python",
   "pygments_lexer": "ipython3",
   "version": "3.10.6"
  },
  "vscode": {
   "interpreter": {
    "hash": "a06658bfc983828e336131948d402e02953311214b959ca171c834c9d9b531a9"
   }
  }
 },
 "nbformat": 4,
 "nbformat_minor": 5
}
