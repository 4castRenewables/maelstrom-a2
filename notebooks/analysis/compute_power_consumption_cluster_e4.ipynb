{
 "cells": [
  {
   "cell_type": "markdown",
   "metadata": {},
   "source": [
    "## Check power consumption\n",
    "Using package `pynvml` power is measured for Maelstrom Deliverable 3.7 on the Juelich Super Computer.    \n",
    "Here, quick consistency checks are performed and values aggregated for the report. "
   ]
  },
  {
   "cell_type": "code",
   "execution_count": null,
   "metadata": {},
   "outputs": [],
   "source": [
    "# allows update of external libraries without need to reload package\n",
    "%load_ext autoreload\n",
    "%autoreload 2"
   ]
  },
  {
   "cell_type": "code",
   "execution_count": null,
   "metadata": {},
   "outputs": [],
   "source": [
    "import pandas as pd\n",
    "import numpy as np\n",
    "import matplotlib.pyplot as plt\n",
    "import os\n",
    "import glob"
   ]
  },
  {
   "cell_type": "code",
   "execution_count": null,
   "metadata": {},
   "outputs": [],
   "source": [
    "!ls ../../scripts/finetune_deberta/mlflow_projects/deberta_rain_classifier"
   ]
  },
  {
   "cell_type": "code",
   "execution_count": null,
   "metadata": {},
   "outputs": [],
   "source": [
    "# some_file.py\n",
    "import sys\n",
    "\n",
    "# caution: path[0] is reserved for script path (or '' in REPL)\n",
    "sys.path.insert(1, \"../../scripts/finetune_deberta/mlflow_projects/deberta_rain_classifier\")\n",
    "HARDWARE = \"amd\"\n",
    "import utils_scripts\n",
    "\n",
    "if HARDWARE == \"amd\":\n",
    "    import utils_energy_amd as utils_energy\n",
    "else:\n",
    "    import utils_energy_nvidia as utils_energy"
   ]
  },
  {
   "cell_type": "code",
   "execution_count": null,
   "metadata": {},
   "outputs": [],
   "source": [
    "ENERGY_FOLDERS_BASE = \"/home/kehlert/code/a2/cluster/benchmarks3.7/ap2_run/\"\n",
    "JUBE_IDS = [\n",
    "    # 111,\n",
    "    # 112,\n",
    "    # 113,\n",
    "    70,\n",
    "    71,\n",
    "    76,\n",
    "]\n",
    "NGPUS = 1\n",
    "CLUSTER = \"E4\""
   ]
  },
  {
   "cell_type": "code",
   "execution_count": null,
   "metadata": {},
   "outputs": [],
   "source": [
    "!source ~/.bashrc\n",
    "for jid in JUBE_IDS:\n",
    "    # !mkdir ${CLUSTER}/${jid}\n",
    "    os.makedirs(f\"{CLUSTER}/{jid}/\", exist_ok=True)\n",
    "    !rsync -Pvra kehlert@172.18.19.216:$ENERGY_FOLDERS_BASE/$(printf \"%06d\" $jid)/000000_submit/work/trained_models/dataset_split_thresh0M2/power/ $CLUSTER/$jid/"
   ]
  },
  {
   "cell_type": "code",
   "execution_count": null,
   "metadata": {},
   "outputs": [],
   "source": [
    "n_gpus = 1\n",
    "for jid in JUBE_IDS:\n",
    "    files = glob.glob(f\"{CLUSTER}/{jid}/*.csv\")\n",
    "    if len(files) != 1:\n",
    "        print(f\"Not only single csv found rather:\\n{files=}\")\n",
    "    power = utils_scripts.load_power(files[0])\n",
    "    # print(power)\n",
    "    print(f\"\\nLooking at Jube ID {jid}:\")\n",
    "    print(f\"Total energy [Wh]: {utils_scripts.total_power_consumption_Wh(power, n_gpus=n_gpus):.2f}\")\n",
    "    print(f\"Max power [W]: {utils_scripts.max_power_W(power, n_gpus=n_gpus):.2f}\")\n",
    "    print(f\"Max aggregate power [W]: {utils_scripts.max_aggegrate_power_W(power, n_gpus=n_gpus):.2f}\")\n",
    "    print(f\"Mean aggregate power [W]: {utils_scripts.mean_aggegrate_power_W(power, n_gpus=n_gpus):.2f}\")\n",
    "    # print(f\"Total power consumption per device [Wh]: {utils_scripts.total_power_consumption_Wh_per_device(power)}\")"
   ]
  },
  {
   "cell_type": "code",
   "execution_count": null,
   "metadata": {},
   "outputs": [],
   "source": [
    "power"
   ]
  },
  {
   "cell_type": "code",
   "execution_count": null,
   "metadata": {},
   "outputs": [],
   "source": [
    "power_gpus = utils_scripts.get_power_gpus(power, n_gpus)\n",
    "\n",
    "for i in range(np.shape(power_gpus)[1]):\n",
    "    plt.plot(power.index.values[:-1], power_gpus[:, i], label=i)\n",
    "plt.legend()"
   ]
  },
  {
   "cell_type": "code",
   "execution_count": null,
   "metadata": {},
   "outputs": [],
   "source": [
    "power_gpus"
   ]
  },
  {
   "cell_type": "code",
   "execution_count": null,
   "metadata": {},
   "outputs": [],
   "source": [
    "plt.hist(np.diff(power.index.values)[:, None])"
   ]
  },
  {
   "cell_type": "code",
   "execution_count": null,
   "metadata": {},
   "outputs": [],
   "source": [
    "def total_power_consumption_Wh_per_device(power):\n",
    "    return np.sum(power[power.columns].values[1:] * np.diff(power.index.values)[:, None] / 3600, axis=0)\n",
    "\n",
    "\n",
    "def average_consumption_W_per_device(power):\n",
    "    return np.mean(power[power.columns].values[1:], axis=0)\n",
    "\n",
    "\n",
    "def total_power_consumption_Wh(power):\n",
    "    return sum(total_power_consumption_Wh_per_device(power))\n",
    "\n",
    "\n",
    "total_power_consumption_Wh_per_device(power), total_power_consumption_Wh(power)"
   ]
  },
  {
   "cell_type": "code",
   "execution_count": null,
   "metadata": {},
   "outputs": [],
   "source": [
    "\"-\".join(np.array(average_consumption_W_per_device(power), str))"
   ]
  }
 ],
 "metadata": {
  "kernelspec": {
   "display_name": ".venv",
   "language": "python",
   "name": "python3"
  },
  "language_info": {
   "codemirror_mode": {
    "name": "ipython",
    "version": 3
   },
   "file_extension": ".py",
   "mimetype": "text/x-python",
   "name": "python",
   "nbconvert_exporter": "python",
   "pygments_lexer": "ipython3",
   "version": "3.10.12"
  }
 },
 "nbformat": 4,
 "nbformat_minor": 2
}
