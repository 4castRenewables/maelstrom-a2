{
 "cells": [
  {
   "cell_type": "markdown",
   "id": "4ccdb5bb-b20b-4d6a-9903-6d6316bbec4f",
   "metadata": {},
   "source": [
    "# Train simple DeBERTa model\n",
    "\n",
    "- Training model on model [DeBERTa small](https://huggingface.co/microsoft/deberta-v3-small/tree/main)\n",
    "- Results:\n",
    "    - Best model trained on all Tweets (2017-2020, ~1.3Mio) gives f1-score of minority class of 0.66\n",
    "    - Best model trained on small subset of Tweets (2020) gives f1-score of minority class of 0.64\n",
    "- `MLflow` logging included, with logging results saved on 'cloud.mantik.ai'\n",
    "- Visualize results in form of confusion matrix, roc curve and certainty of classifier \n",
    "- Plot weather maps around location of Tweet to check for clear discrepancies between weather forecast and information given in Tweets\n",
    "- Setting up environment as ipython kernel based on singularity image outlined in `singularity_images/README_singularity_image.md`"
   ]
  },
  {
   "cell_type": "code",
   "execution_count": null,
   "id": "72a948ea-30bc-4ef7-87de-cc9b5f65696e",
   "metadata": {},
   "outputs": [],
   "source": [
    "# allows update of external libraries without need to reload package\n",
    "%load_ext autoreload\n",
    "%autoreload 2"
   ]
  },
  {
   "cell_type": "code",
   "execution_count": null,
   "id": "588aeb83-1fdd-4421-a91a-ea878a1b7da6",
   "metadata": {},
   "outputs": [],
   "source": [
    "import sys\n",
    "\n",
    "LIBRARY_PATH = \"/p/home/jusers/ehlert1/juwels/a2/src/\"\n",
    "sys.path.append(LIBRARY_PATH)\n",
    "import pandas as pd\n",
    "import numpy as np\n",
    "import matplotlib.pyplot as plt\n",
    "import pathlib\n",
    "import re\n",
    "import os\n",
    "import logging\n",
    "\n",
    "logging.basicConfig(level=logging.DEBUG)\n",
    "\n",
    "import xarray\n",
    "import torch\n",
    "import torch.nn.functional\n",
    "import datasets\n",
    "\n",
    "import sklearn.metrics\n",
    "import sklearn.model_selection\n",
    "\n",
    "import transformers\n",
    "\n",
    "import ray\n",
    "import ray.tune\n",
    "import ray.tune.integration.mlflow\n",
    "import a2.plotting\n",
    "import a2.dataset\n",
    "import a2.utils\n",
    "import a2.training\n",
    "import a2.training.dataset_hugging\n",
    "import a2.training.training_hugging\n",
    "import a2.training.evaluate_hugging\n",
    "import mantik\n",
    "import mlflow"
   ]
  },
  {
   "cell_type": "markdown",
   "id": "45c9cf3f-560a-4b88-9224-16294497e3d0",
   "metadata": {},
   "source": [
    "## Setup environment and check for gpu availability"
   ]
  },
  {
   "cell_type": "code",
   "execution_count": null,
   "id": "a3d3402d-27cb-4852-bfff-5e8bf297d6f9",
   "metadata": {},
   "outputs": [],
   "source": [
    "os.environ[\"DISABLE_MLFLOW_INTEGRATION\"] = \"False\"\n",
    "!echo $DISABLE_MLFLOW_INTEGRATION"
   ]
  },
  {
   "cell_type": "code",
   "execution_count": null,
   "id": "c40de18f-07b4-42f3-9dc7-4f0763d443d9",
   "metadata": {},
   "outputs": [],
   "source": [
    "[torch.cuda.device(i) for i in range(torch.cuda.device_count())]"
   ]
  },
  {
   "cell_type": "code",
   "execution_count": null,
   "id": "9366a709-6eba-4e47-978d-c430b42746a5",
   "metadata": {},
   "outputs": [],
   "source": [
    "torch.cuda.empty_cache()  # empties gpu memory, may be required when interrupting training due bugs/user input"
   ]
  },
  {
   "cell_type": "code",
   "execution_count": null,
   "id": "177c1b5b-cf13-4b1d-97d0-d60be1caf4f8",
   "metadata": {},
   "outputs": [],
   "source": [
    "num_labels = 2"
   ]
  },
  {
   "cell_type": "code",
   "execution_count": null,
   "id": "5de94e38-4854-4230-9e44-0fd78b341c9e",
   "metadata": {},
   "outputs": [],
   "source": [
    "FOLDER_DATA = \"/p/scratch/deepacf/maelstrom/maelstrom_data/ap2/data/tweets/\"\n",
    "FILE_DATA = FOLDER_DATA + \"2017_2020_tweets_rain_sun_vocab_emojis_locations_bba_Tp_era5_no_bots_normalized_filtered.nc\"\n",
    "\n",
    "FOLDER_WEATHER_DATA = \"/p/scratch/deepacf/maelstrom/maelstrom_data/ap2/data/precipitation/\"\n",
    "\n",
    "FOLDER_MODEL_OUTPUT = \"/p/scratch/deepacf/maelstrom/maelstrom_data/ap2/models_output/\"\n",
    "print(f\"Tweet file: {FILE_DATA}\")"
   ]
  },
  {
   "cell_type": "code",
   "execution_count": null,
   "id": "60300630-8a1a-406e-b5ac-5bce6196bee1",
   "metadata": {},
   "outputs": [],
   "source": [
    "model_nm = (\n",
    "    \"/p/project/deepacf/maelstrom/ehlert1/deberta-v3-small\"  # model repo downloaded from hugging face see link above\n",
    ")"
   ]
  },
  {
   "cell_type": "markdown",
   "id": "a3063683-1584-4e46-b6c6-ba8b35cc6bf5",
   "metadata": {
    "tags": []
   },
   "source": [
    "## Loading prepared dataset"
   ]
  },
  {
   "cell_type": "code",
   "execution_count": null,
   "id": "8157f3e4-1e14-4dc5-a0e0-202b3d8e086c",
   "metadata": {},
   "outputs": [],
   "source": [
    "ds_raw = a2.dataset.load_dataset.load_tweets_dataset(FILE_DATA, raw=True)\n",
    "\n",
    "print(f\"loaded {ds_raw.index.shape[0]} tweets\")"
   ]
  },
  {
   "cell_type": "code",
   "execution_count": null,
   "id": "4d8fa0c0-1716-41a5-bc47-a748fe3d66ba",
   "metadata": {},
   "outputs": [],
   "source": [
    "ds_raw[\"text\"] = ([\"index\"], ds_raw.text_normalized.values.copy())"
   ]
  },
  {
   "cell_type": "code",
   "execution_count": null,
   "id": "a334e976-26ee-4fc5-b007-b86db7861c57",
   "metadata": {},
   "outputs": [],
   "source": [
    "ds_raw[\"raining\"] = ([\"index\"], np.array(ds_raw.tp_h.values > 1e-8, dtype=int))"
   ]
  },
  {
   "cell_type": "markdown",
   "id": "b5a0fd3b-a4c0-4282-9089-b35938c37106",
   "metadata": {},
   "source": [
    "## Build training/test set"
   ]
  },
  {
   "cell_type": "code",
   "execution_count": null,
   "id": "02b2aba2-b259-41ee-9070-6aca2da842c8",
   "metadata": {},
   "outputs": [],
   "source": [
    "indices_train, indices_test = sklearn.model_selection.train_test_split(\n",
    "    np.arange(ds_raw[\"index\"].shape[0]),\n",
    "    test_size=0.2,\n",
    "    random_state=42,\n",
    "    shuffle=True,\n",
    "    stratify=ds_raw.raining.values,\n",
    ")"
   ]
  },
  {
   "cell_type": "code",
   "execution_count": null,
   "id": "e0f72f6a-97f6-4bba-a815-cacfc2780f21",
   "metadata": {},
   "outputs": [],
   "source": [
    "%matplotlib inline\n",
    "ds_raw.sel(index=indices_test)[\"raining\"].plot.hist();"
   ]
  },
  {
   "cell_type": "code",
   "execution_count": null,
   "id": "5de045e7-19cb-4a90-8fbc-47db4625bb44",
   "metadata": {},
   "outputs": [],
   "source": [
    "ds_raw.sel(index=indices_train)[\"raining\"].plot.hist();"
   ]
  },
  {
   "cell_type": "code",
   "execution_count": null,
   "id": "b285574b-f036-4aaf-8192-7f273e51bcd6",
   "metadata": {},
   "outputs": [],
   "source": [
    "dataset_object = a2.training.dataset_hugging.DatasetHuggingFace(model_nm)"
   ]
  },
  {
   "cell_type": "code",
   "execution_count": null,
   "id": "09a5d868-25b0-468d-af18-422e671e93f5",
   "metadata": {},
   "outputs": [],
   "source": [
    "dataset = dataset_object.build(ds_raw, indices_train, indices_test)"
   ]
  },
  {
   "cell_type": "markdown",
   "id": "4b50f989-cd34-48b0-80bd-a580e3d07c82",
   "metadata": {},
   "source": [
    "## Training"
   ]
  },
  {
   "cell_type": "code",
   "execution_count": null,
   "id": "30df78b2-c504-4090-a385-5aaf7b359509",
   "metadata": {},
   "outputs": [],
   "source": [
    "hyper_parameters = a2.training.training_hugging.HyperParametersDebertaClassifier()\n",
    "print(hyper_parameters)\n",
    "FOLDER_OUTPUT = \"output_rainprediction_simpledeberta_large_dataset_finetuning/\""
   ]
  },
  {
   "cell_type": "code",
   "execution_count": null,
   "id": "b52fcae9-5ec3-45ae-bfce-e669b134290c",
   "metadata": {},
   "outputs": [],
   "source": [
    "trainer_object = a2.training.training_hugging.HuggingFaceTrainerClass(model_nm)"
   ]
  },
  {
   "cell_type": "code",
   "execution_count": null,
   "id": "3ed6abec-9d4e-4c32-a50c-20d7868efc97",
   "metadata": {},
   "outputs": [],
   "source": [
    "mlflow.end_run()\n",
    "a2.training.tracking.initialize_mantik()\n",
    "with mlflow.start_run(run_name=\"era5 whole dataset\"):\n",
    "    a2.training.tracking.initialize_mantik()\n",
    "    mlflow.log_param(\n",
    "        \"data_description\",\n",
    "        \"tweets 2017-2020, keywords emojis as description, keywords only, larage dataset\",\n",
    "    )\n",
    "    trainer = trainer_object.get_trainer(\n",
    "        dataset,\n",
    "        hyper_parameters,\n",
    "        tokenizer=dataset_object.tokenizer,\n",
    "        folder_output=FOLDER_MODEL_OUTPUT + FOLDER_OUTPUT,\n",
    "        hyper_tuning=HYPER_TUNING,\n",
    "        fp16=True,\n",
    "    )\n",
    "    trainer.train()\n",
    "    test_ds = dataset_object.build(ds_raw, indices_train, indices_test, train=False)\n",
    "    (\n",
    "        predictions,\n",
    "        prediction_probabilities,\n",
    "    ) = a2.training.evaluate_hugging.predict_dataset(test_ds, trainer)\n",
    "\n",
    "    ds_test = a2.training.evaluate_hugging.build_ds_test(\n",
    "        ds=ds_raw,\n",
    "        indices_test=indices_test,\n",
    "        predictions=predictions,\n",
    "        prediction_probabilities=prediction_probabilities,\n",
    "    )\n",
    "    truth = ds_test.raining.values\n",
    "\n",
    "    a2.training.tracking.log_metric_classification_report(truth, predictions, step=params[\"epochs\"])\n",
    "\n",
    "    a2.plotting.analysis.plot_prediction_certainty(\n",
    "        truth=ds_test[\"raining\"].values,\n",
    "        prediction_probabilities=ds_test[\"prediction_probability_raining\"].values,\n",
    "        filename=\"plot_2d_predictions_truth.pdf\",\n",
    "    )\n",
    "    mlflow.log_artifact(\"plot_2d_predictions_truth.pdf\")\n",
    "\n",
    "    a2.plotting.analysis.plot_roc(ds_test.raining.values, predictions, filename=\"roc.pdf\")\n",
    "    mlflow.log_artifact(\"roc.pdf\")"
   ]
  },
  {
   "cell_type": "code",
   "execution_count": null,
   "id": "0b4e61b4-2d16-4794-b7e7-854550aab1fc",
   "metadata": {},
   "outputs": [],
   "source": [
    "ds_test.prediction_probability_raining.plot.hist(bins=100);"
   ]
  },
  {
   "cell_type": "markdown",
   "id": "728687fa-0fcf-4706-a5e8-7f30a06d92f3",
   "metadata": {},
   "source": [
    "## Evaluate loaded model"
   ]
  },
  {
   "cell_type": "code",
   "execution_count": null,
   "id": "a72b8565-936e-467a-b1f0-3bda2c707819",
   "metadata": {},
   "outputs": [],
   "source": [
    "FOLDER_MODEL_TO_LOAD = \"/p/scratch/deepacf/maelstrom/maelstrom_data/ap2/models_output/output_rainprediction_simpledeberta_large_dataset/checkpoint-7617\""
   ]
  },
  {
   "cell_type": "code",
   "execution_count": null,
   "id": "01653dca-3d99-4e77-b64d-ae66561d588f",
   "metadata": {},
   "outputs": [],
   "source": [
    "(\n",
    "    truth,\n",
    "    predictions,\n",
    "    prediction_probabilities,\n",
    ") = a2.training.evaluate_hugging.make_predictions_loaded_model(ds_raw, indices_test, FOLDER_MODEL_TO_LOAD)"
   ]
  },
  {
   "cell_type": "code",
   "execution_count": null,
   "id": "58257b0f-2664-44ca-a137-0eee8e2b644f",
   "metadata": {},
   "outputs": [],
   "source": [
    "report = a2.plotting.analysis.check_prediction(truth, predictions)\n",
    "a2.plotting.analysis.plot_prediction_certainty(truth=truth, prediction_probabilities=prediction_probabilities[:, 1])\n",
    "a2.plotting.analysis.plot_roc(truth, prediction_probabilities[:, 1])\n",
    "print(report)"
   ]
  },
  {
   "cell_type": "markdown",
   "id": "adcf5758-db63-4f2a-b273-035bd553752a",
   "metadata": {
    "tags": []
   },
   "source": [
    "## Precipiation map analysis"
   ]
  },
  {
   "cell_type": "code",
   "execution_count": null,
   "id": "f6d5b165-31be-490d-b489-11442438631b",
   "metadata": {},
   "outputs": [],
   "source": [
    "ds_p = xarray.load_dataset(FOLDER_WEATHER_DATA + \"ds_prec_era5_uk_2017-2020.nc\")"
   ]
  },
  {
   "cell_type": "code",
   "execution_count": null,
   "id": "8129513b-4d17-47b8-8d15-95f360ff4cbd",
   "metadata": {},
   "outputs": [],
   "source": [
    "ds_test = a2.training.evaluate_hugging.build_ds_test(\n",
    "    ds=ds_raw,\n",
    "    indices_test=indices_test,\n",
    "    predictions=predictions,\n",
    "    prediction_probabilities=prediction_probabilities,\n",
    ")"
   ]
  },
  {
   "cell_type": "code",
   "execution_count": null,
   "id": "7d315283-c2f0-4072-99b0-aef802753144",
   "metadata": {},
   "outputs": [],
   "source": [
    "ds_test.raining.plot.hist()"
   ]
  },
  {
   "cell_type": "code",
   "execution_count": null,
   "id": "338d6533-febd-4121-a9ae-ee47b1d4584a",
   "metadata": {},
   "outputs": [],
   "source": [
    "ds = ds_test\n",
    "ds_selected = ds.where(\n",
    "    (ds.raining == 1) & (ds.prediction_probability_raining > 0.5) & (ds.tp_h > 1e-7) & (ds.tp_h < 2e-6),\n",
    "    drop=True,\n",
    ")\n",
    "print(\n",
    "    sklearn.metrics.classification_report(\n",
    "        ds.raining.values,\n",
    "        ds.prediction_probability_raining > 0.5,\n",
    "        target_names=[\"not raining\", \"raining\"],\n",
    "    )\n",
    ")\n",
    "a2.plotting.analysis.plot_prediction_certainty(\n",
    "    truth=ds[\"raining\"].values,\n",
    "    prediction_probabilities=ds[\"prediction_probability_raining\"].values,\n",
    ")\n",
    "\n",
    "ds_selected = a2.dataset.load_dataset.reset_index_coordinate(ds_selected)\n",
    "print(f\"found {ds_selected.index.shape[0]} tweets in total\")\n",
    "indices = np.random.choice(\n",
    "    ds_selected.index.shape[0],\n",
    "    40,\n",
    "    replace=False,\n",
    ")\n",
    "print(indices)\n",
    "a2.plotting.weather_maps.plot_precipiation_map(\n",
    "    ds_p,\n",
    "    ds_selected.sel(index=indices),\n",
    "    n_time=2,\n",
    "    delta_time=1,\n",
    "    delta_time_units=\"h\",\n",
    "    delta_longitude=1.2,\n",
    "    delta_latitude=1.2,\n",
    "    # filename=\"precipitation_maps_around_tweets.png\",\n",
    "    add_time_before_plot=pd.Timedelta(\"30min\"),\n",
    "    print_additional=[\n",
    "        \"bounding_box_area\",\n",
    "        \"prediction_probability_raining\",\n",
    "        \"tp_h\",\n",
    "    ],\n",
    ")"
   ]
  },
  {
   "cell_type": "code",
   "execution_count": null,
   "id": "5d6ff1d5-2fc7-4134-bd9c-66f1c80faa66",
   "metadata": {},
   "outputs": [],
   "source": [
    "a2.plotting.histograms.plot_histogram_2d(\n",
    "    ds_test.tp_h.values,\n",
    "    ds_test.prediction_probability_raining.values,\n",
    "    log=[\"symlog\", False],\n",
    "    linear_thresh=1e-9,\n",
    "    xlim=[-1, 1],\n",
    ")"
   ]
  },
  {
   "cell_type": "code",
   "execution_count": null,
   "id": "b9e064ff-3eca-48cb-b8b3-8dc57a4c84d9",
   "metadata": {},
   "outputs": [],
   "source": [
    "a2.plotting.histograms.plot_histogram_2d(\n",
    "    ds_test.tp_h.values,\n",
    "    ds_test.prediction_probability_raining.values,\n",
    "    log=[\"log\", False],\n",
    "    xlim=[1e-7, 1],\n",
    "    n_bins=120,\n",
    ")"
   ]
  },
  {
   "cell_type": "code",
   "execution_count": null,
   "id": "4a77cd87-95eb-468f-a3e8-2f3d680eab96",
   "metadata": {},
   "outputs": [],
   "source": []
  }
 ],
 "metadata": {
  "kernelspec": {
   "display_name": ".venv",
   "language": "python",
   "name": "python3"
  },
  "language_info": {
   "codemirror_mode": {
    "name": "ipython",
    "version": 3
   },
   "file_extension": ".py",
   "mimetype": "text/x-python",
   "name": "python",
   "nbconvert_exporter": "python",
   "pygments_lexer": "ipython3",
   "version": "3.10.6"
  },
  "vscode": {
   "interpreter": {
    "hash": "06c3f19a037da30281d10f8fbda7f2df02465bd919ed005b52297a6fc2623835"
   }
  }
 },
 "nbformat": 4,
 "nbformat_minor": 5
}
