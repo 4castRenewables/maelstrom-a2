{
 "cells": [
  {
   "cell_type": "markdown",
   "id": "4ccdb5bb-b20b-4d6a-9903-6d6316bbec4f",
   "metadata": {},
   "source": [
    "# Train DeBERTa model to assign relevance for rain prediction to Tweets\n",
    "\n",
    "- Training model on model [DeBERTa small](https://huggingface.co/microsoft/deberta-v3-small/tree/main)\n",
    "- Results:\n",
    "    - Best model trained on all Tweets (2017-2020, ~1.3Mio) gives f1-score of minority class of 0.66\n",
    "    - Best model trained on small subset of Tweets (2020) gives f1-score of minority class of 0.64\n",
    "- `MLflow` logging included, with logging results saved on 'cloud.mantik.ai'\n",
    "- Visualize results in form of confusion matrix, roc curve and certainty of classifier \n",
    "- Plot weather maps around location of Tweet to check for clear discrepancies between weather forecast and information given in Tweets\n",
    "- Setting up environment as ipython kernel based on singularity image outlined in `singularity_images/README_singularity_image.md`"
   ]
  },
  {
   "cell_type": "code",
   "execution_count": null,
   "id": "6e8eb831-8f04-4a37-89e4-3ed850621a82",
   "metadata": {},
   "outputs": [],
   "source": [
    "!pwd"
   ]
  },
  {
   "cell_type": "code",
   "execution_count": null,
   "id": "72a948ea-30bc-4ef7-87de-cc9b5f65696e",
   "metadata": {},
   "outputs": [],
   "source": [
    "# allows update of external libraries without need to reload package\n",
    "%load_ext autoreload\n",
    "%autoreload 2"
   ]
  },
  {
   "cell_type": "code",
   "execution_count": null,
   "id": "588aeb83-1fdd-4421-a91a-ea878a1b7da6",
   "metadata": {},
   "outputs": [],
   "source": [
    "import sys\n",
    "\n",
    "LIBRARY_PATH = \"/p/project/deepacf/maelstrom/ehlert1/a2/src/\"\n",
    "sys.path.append(LIBRARY_PATH)\n",
    "import pandas as pd\n",
    "import numpy as np\n",
    "import matplotlib.pyplot as plt\n",
    "import pathlib\n",
    "import re\n",
    "import os\n",
    "import logging\n",
    "\n",
    "logging.basicConfig(level=logging.INFO)\n",
    "\n",
    "import xarray\n",
    "import torch\n",
    "import torch.nn.functional\n",
    "import datasets\n",
    "\n",
    "import sklearn.metrics\n",
    "import sklearn.model_selection\n",
    "\n",
    "import transformers\n",
    "\n",
    "import ray\n",
    "import ray.tune\n",
    "import ray.tune.integration.mlflow\n",
    "\n",
    "import a2.utils.file_handling\n",
    "import a2.preprocess.normalize_text\n",
    "import a2.training.dataset_hugging\n",
    "import a2.training.training_hugging\n",
    "import a2.training.evaluate_hugging\n",
    "import mantik\n",
    "import mlflow"
   ]
  },
  {
   "cell_type": "markdown",
   "id": "45c9cf3f-560a-4b88-9224-16294497e3d0",
   "metadata": {},
   "source": [
    "## Setup environment and check for gpu availability"
   ]
  },
  {
   "cell_type": "code",
   "execution_count": null,
   "id": "a3d3402d-27cb-4852-bfff-5e8bf297d6f9",
   "metadata": {},
   "outputs": [],
   "source": [
    "os.environ[\"DISABLE_MLFLOW_INTEGRATION\"] = \"False\"\n",
    "!echo $DISABLE_MLFLOW_INTEGRATION"
   ]
  },
  {
   "cell_type": "code",
   "execution_count": null,
   "id": "c40de18f-07b4-42f3-9dc7-4f0763d443d9",
   "metadata": {},
   "outputs": [],
   "source": [
    "[torch.cuda.device(i) for i in range(torch.cuda.device_count())]"
   ]
  },
  {
   "cell_type": "code",
   "execution_count": null,
   "id": "9366a709-6eba-4e47-978d-c430b42746a5",
   "metadata": {},
   "outputs": [],
   "source": [
    "torch.cuda.empty_cache()  # empties gpu memory, may be required when interrupting training due bugs/user input"
   ]
  },
  {
   "cell_type": "code",
   "execution_count": null,
   "id": "5de94e38-4854-4230-9e44-0fd78b341c9e",
   "metadata": {},
   "outputs": [],
   "source": [
    "FOLDER_TWEETS = \"/p/scratch/deepacf/maelstrom/maelstrom_data/ap2/data/tweets/\"\n",
    "FILE_DATA = (\n",
    "    FOLDER_TWEETS + \"2017_2020_tweets_rain_sun_vocab_emojis_locations_bba_Tp_era5_no_bots_normalized_filtered.nc\"\n",
    ")\n",
    "FILE_DATA = (\n",
    "    FOLDER_TWEETS\n",
    "    + \"2017_2020_tweets_rain_sun_vocab_emojis_locations_bba_Tp_era5_no_bots_normalized_filtered_weather_stations_fix_predicted_simpledeberta_radar.nc\"\n",
    ")\n",
    "# FILE_DATA = FOLDER_TWEETS + \"2020_tweets_rain_sun_vocab_emojis_locations_bba_Tp_era5_no_bots_normalized_filtered_weather_stations_fix_predicted_simpledeberta_radar.nc\"\n",
    "# FILE_DATA = FOLDER_TWEETS + \"2017_2020_tweets_keywords_near_station.nc\"\n",
    "\n",
    "FOLDER_WEATHER_DATA = \"/p/scratch/deepacf/maelstrom/maelstrom_data/ap2/data/precipitation/\"\n",
    "FOLDER_MODEL_OUTPUT = \"/p/scratch/deepacf/maelstrom/maelstrom_data/ap2/models_output/\"\n",
    "print(f\"Tweet file: {FILE_DATA}\")"
   ]
  },
  {
   "cell_type": "code",
   "execution_count": null,
   "id": "f4000f99-ec8e-4320-bcd8-21e2003a899f",
   "metadata": {},
   "outputs": [],
   "source": [
    "all_files = a2.utils.file_handling.get_all_files(FOLDER_TWEETS + \"tweets_no_keywords/*.json\")\n",
    "ds_irr = a2.dataset.load_dataset.load_tweets_dataframe_from_jsons(all_files).to_xarray()\n",
    "print(f\"loaded {ds_irr.index.shape[0]} tweets\")"
   ]
  },
  {
   "cell_type": "code",
   "execution_count": null,
   "id": "80f39d8b-befb-4219-b16e-248c1fbd3504",
   "metadata": {},
   "outputs": [],
   "source": [
    "ds_irr"
   ]
  },
  {
   "cell_type": "code",
   "execution_count": null,
   "id": "60300630-8a1a-406e-b5ac-5bce6196bee1",
   "metadata": {},
   "outputs": [],
   "source": [
    "HYPER_TUNING = False\n",
    "\n",
    "FOLDER_MODEL = \"/p/scratch/deepacf/maelstrom/maelstrom_data/ap2/models_output/deberta-v3-base\"\n",
    "\n",
    "num_labels = 2"
   ]
  },
  {
   "cell_type": "markdown",
   "id": "a3063683-1584-4e46-b6c6-ba8b35cc6bf5",
   "metadata": {
    "tags": []
   },
   "source": [
    "## Loading prepared dataset"
   ]
  },
  {
   "cell_type": "code",
   "execution_count": null,
   "id": "8157f3e4-1e14-4dc5-a0e0-202b3d8e086c",
   "metadata": {},
   "outputs": [],
   "source": [
    "ds_rev = a2.dataset.load_dataset.load_tweets_dataset(FILE_DATA, raw=True)\n",
    "print(f\"loaded {ds_rev.index.shape[0]} tweets\")"
   ]
  },
  {
   "cell_type": "code",
   "execution_count": null,
   "id": "dce5a14b-cf9c-4983-9ce5-87dd0bdeb45d",
   "metadata": {},
   "outputs": [],
   "source": [
    "ds_rev_sel = ds_rev.sel(index=slice(0, ds_irr.index.shape[0]))"
   ]
  },
  {
   "cell_type": "code",
   "execution_count": null,
   "id": "bc43013f-5571-42d9-9031-202caccbe9de",
   "metadata": {},
   "outputs": [],
   "source": [
    "def merge_datasets_along_index(ds_top, ds_bottom):\n",
    "    ds_bottom_reindexed = ds_bottom.copy()\n",
    "    start_index = ds_top.index.shape[0]\n",
    "    ds_bottom_reindexed[\"index\"] = range(start_index, start_index + ds_bottom_reindexed.index.shape[0])\n",
    "    return xarray.merge([ds_top, ds_bottom_reindexed])"
   ]
  },
  {
   "cell_type": "code",
   "execution_count": null,
   "id": "048b2af3-cd39-40e2-9327-94725e529ff0",
   "metadata": {},
   "outputs": [],
   "source": [
    "ds_rev_sel[\"relevant\"] = ([\"index\"], np.ones(ds_rev_sel.index.shape[0], dtype=bool))\n",
    "ds_irr[\"relevant\"] = ([\"index\"], np.zeros(ds_irr.index.shape[0], dtype=bool))"
   ]
  },
  {
   "cell_type": "code",
   "execution_count": null,
   "id": "0c7ee9d3-e1f1-4544-aa23-70be1bcfd567",
   "metadata": {},
   "outputs": [],
   "source": [
    "ds_raw = merge_datasets_along_index(ds_rev_sel, ds_irr)"
   ]
  },
  {
   "cell_type": "code",
   "execution_count": null,
   "id": "e95f3737-4a6f-4ebd-86c2-9bf6088aa43f",
   "metadata": {},
   "outputs": [],
   "source": [
    "ds_raw[\"relevant\"].plot.hist()"
   ]
  },
  {
   "cell_type": "code",
   "execution_count": null,
   "id": "8259e147-d371-410c-b50d-ecd3dbb18daf",
   "metadata": {},
   "outputs": [],
   "source": [
    "ds_normalized_filtered = a2.preprocess.normalize_text.normalize_filter_dataset(\n",
    "    ds_raw,\n",
    "    keywords=None,\n",
    "    reset_index=True,\n",
    "    key_text_original=\"text\",\n",
    "    key_text_normalized=\"text_normalized\",\n",
    "    key_text_backup=\"text_original\",\n",
    "    ignore_non_ascii=False,\n",
    "    replace_keyword_emojis=False,\n",
    "    remove_punctuations=\"keep_basic_punctuations\",\n",
    "    reduce_punctuations=True,\n",
    "    use_lower_case=False,\n",
    "    do_split_punctuation_text=True,\n",
    "    remove_sun_confusing_terms=True,\n",
    "    only_text_containing_keywords=False,\n",
    "    maximum_bounding_box_area=None,\n",
    "    only_unique_text=True,\n",
    "    processes=-1,\n",
    "    keep_emojis=\"all\",\n",
    ")"
   ]
  },
  {
   "cell_type": "code",
   "execution_count": null,
   "id": "bc17ad30-dc99-427d-a2ac-9a95a23f2eb3",
   "metadata": {},
   "outputs": [],
   "source": [
    "a2.dataset.utils_dataset.print_tweet_sample(ds_normalized_filtered, additional_fields=[\"text_normalized\"])"
   ]
  },
  {
   "cell_type": "code",
   "execution_count": null,
   "id": "faebfcbc-52f1-47e6-ac50-f8ff3b032321",
   "metadata": {},
   "outputs": [],
   "source": [
    "key_label = \"relevant\"\n",
    "# key_label = \"raining\"\n",
    "key_inputs = \"text_normalized\""
   ]
  },
  {
   "cell_type": "code",
   "execution_count": null,
   "id": "4d8fa0c0-1716-41a5-bc47-a748fe3d66ba",
   "metadata": {},
   "outputs": [],
   "source": [
    "ds_raw[\"text\"] = ([\"index\"], ds_raw[key_inputs].values.copy())"
   ]
  },
  {
   "cell_type": "code",
   "execution_count": null,
   "id": "6446882f-6dcb-457e-9e2f-939bfd3b2b83",
   "metadata": {},
   "outputs": [],
   "source": [
    "trainer_object = a2.training.training_hugging.HuggingFaceTrainerClass(FOLDER_MODEL, num_labels=num_labels)"
   ]
  },
  {
   "cell_type": "markdown",
   "id": "b5a0fd3b-a4c0-4282-9089-b35938c37106",
   "metadata": {},
   "source": [
    "## Build training/test set"
   ]
  },
  {
   "cell_type": "code",
   "execution_count": null,
   "id": "02b2aba2-b259-41ee-9070-6aca2da842c8",
   "metadata": {},
   "outputs": [],
   "source": [
    "indices_train, indices_test = sklearn.model_selection.train_test_split(\n",
    "    np.arange(ds_raw[\"index\"].shape[0]),\n",
    "    test_size=0.2,\n",
    "    random_state=42,\n",
    "    shuffle=True,\n",
    "    stratify=ds_raw[key_label].values,\n",
    ")"
   ]
  },
  {
   "cell_type": "code",
   "execution_count": null,
   "id": "e0f72f6a-97f6-4bba-a815-cacfc2780f21",
   "metadata": {},
   "outputs": [],
   "source": [
    "%matplotlib inline\n",
    "ds_raw.sel(index=indices_test)[key_label].plot.hist();"
   ]
  },
  {
   "cell_type": "code",
   "execution_count": null,
   "id": "5de045e7-19cb-4a90-8fbc-47db4625bb44",
   "metadata": {},
   "outputs": [],
   "source": [
    "ds_raw.sel(index=indices_train)[key_label].plot.hist();"
   ]
  },
  {
   "cell_type": "code",
   "execution_count": null,
   "id": "b285574b-f036-4aaf-8192-7f273e51bcd6",
   "metadata": {},
   "outputs": [],
   "source": [
    "dataset_object = a2.training.dataset_hugging.DatasetHuggingFace(FOLDER_MODEL)"
   ]
  },
  {
   "cell_type": "code",
   "execution_count": null,
   "id": "09a5d868-25b0-468d-af18-422e671e93f5",
   "metadata": {},
   "outputs": [],
   "source": [
    "dataset = dataset_object.build(ds_raw, indices_train, indices_test, key_inputs=key_inputs, key_label=key_label)"
   ]
  },
  {
   "cell_type": "markdown",
   "id": "4b50f989-cd34-48b0-80bd-a580e3d07c82",
   "metadata": {},
   "source": [
    "## Training"
   ]
  },
  {
   "cell_type": "code",
   "execution_count": null,
   "id": "30df78b2-c504-4090-a385-5aaf7b359509",
   "metadata": {},
   "outputs": [],
   "source": [
    "hyper_parameters = a2.training.training_hugging.HyperParametersDebertaClassifier()\n",
    "print(hyper_parameters)\n",
    "# FOLDER_OUTPUT = \"output_rainprediction_simpledeberta_large_dataset_finetuning/\"\n",
    "FOLDER_OUTPUT = f\"output_{key_label}_modelling/\""
   ]
  },
  {
   "cell_type": "code",
   "execution_count": null,
   "id": "b52fcae9-5ec3-45ae-bfce-e669b134290c",
   "metadata": {},
   "outputs": [],
   "source": [
    "trainer_object = a2.training.training_hugging.HuggingFaceTrainerClass(FOLDER_MODEL, num_labels=num_labels)"
   ]
  },
  {
   "cell_type": "code",
   "execution_count": null,
   "id": "4460a9bc-7e21-402d-b1b6-6e7c70af7c18",
   "metadata": {},
   "outputs": [],
   "source": [
    "test_ds = dataset_object.build(ds_raw, indices_train, indices_test, train=False)\n",
    "\n",
    "# test_ds.drop_columns({'label': 'labels'})"
   ]
  },
  {
   "cell_type": "code",
   "execution_count": null,
   "id": "6c43c8d9-4ceb-41e4-8a0d-6500d249b5db",
   "metadata": {
    "jupyter": {
     "outputs_hidden": true
    },
    "tags": []
   },
   "outputs": [],
   "source": [
    "trainer = trainer_object.get_trainer(\n",
    "    dataset,\n",
    "    hyper_parameters,\n",
    "    tokenizer=dataset_object.tokenizer,\n",
    "    folder_output=FOLDER_MODEL_OUTPUT + FOLDER_OUTPUT,\n",
    "    hyper_tuning=HYPER_TUNING,\n",
    "    fp16=True,\n",
    ")\n",
    "trainer.train()"
   ]
  },
  {
   "cell_type": "code",
   "execution_count": null,
   "id": "3ed6abec-9d4e-4c32-a50c-20d7868efc97",
   "metadata": {},
   "outputs": [],
   "source": [
    "# trainer.predict(test_ds)\n",
    "(\n",
    "    predictions,\n",
    "    prediction_probabilities,\n",
    ") = a2.training.evaluate_hugging.predict_dataset(test_ds, trainer)\n",
    "\n",
    "ds_test = a2.training.evaluate_hugging.build_ds_test(\n",
    "    ds=ds_raw,\n",
    "    indices_test=indices_test,\n",
    "    predictions=predictions,\n",
    "    prediction_probabilities=prediction_probabilities,\n",
    ")\n",
    "truth = ds_test[key_label].values\n",
    "\n",
    "# a2.training.tracking.log_metric_classification_report(truth, predictions, step=params[\"epochs\"])\n",
    "\n",
    "# a2.plotting.analysis.plot_prediction_certainty(\n",
    "#     truth=ds_test[\"raining\"].values,\n",
    "#     prediction_probabilities=ds_test[\"prediction_probability_raining\"].values,\n",
    "#     filename=\"plot_2d_predictions_truth.pdf\",\n",
    "# )\n",
    "# mlflow.log_artifact(\"plot_2d_predictions_truth.pdf\")\n",
    "\n",
    "# a2.plotting.analysis.plot_roc(ds_test.raining.values, predictions, filename=\"roc.pdf\")\n",
    "# mlflow.log_artifact(\"roc.pdf\")"
   ]
  },
  {
   "cell_type": "markdown",
   "id": "728687fa-0fcf-4706-a5e8-7f30a06d92f3",
   "metadata": {},
   "source": [
    "## Evaluate loaded model"
   ]
  },
  {
   "cell_type": "code",
   "execution_count": null,
   "id": "a72b8565-936e-467a-b1f0-3bda2c707819",
   "metadata": {},
   "outputs": [],
   "source": [
    "FOLDER_MODEL_TO_LOAD = \"/p/scratch/deepacf/maelstrom/maelstrom_data/ap2/models_output/output_rainprediction_simpledeberta_large_dataset/checkpoint-7617\"\n",
    "FOLDER_MODEL_TO_LOAD = (\n",
    "    \"/p/scratch/deepacf/maelstrom/maelstrom_data/ap2/models_output/output_relevant_modelling/checkpoint-3000\"\n",
    ")"
   ]
  },
  {
   "cell_type": "code",
   "execution_count": null,
   "id": "01653dca-3d99-4e77-b64d-ae66561d588f",
   "metadata": {},
   "outputs": [],
   "source": [
    "(truth, predictions, prediction_probabilities,) = a2.training.evaluate_hugging.make_predictions_loaded_model(\n",
    "    ds_raw, indices_test, FOLDER_MODEL_TO_LOAD, key_inputs=key_inputs, key_label=key_label\n",
    ")"
   ]
  },
  {
   "cell_type": "code",
   "execution_count": null,
   "id": "58257b0f-2664-44ca-a137-0eee8e2b644f",
   "metadata": {},
   "outputs": [],
   "source": [
    "report = a2.plotting.analysis.check_prediction(truth, predictions)\n",
    "a2.plotting.analysis.plot_prediction_certainty(truth=truth, prediction_probabilities=prediction_probabilities[:, 1])\n",
    "a2.plotting.analysis.plot_roc(truth, prediction_probabilities[:, 1])\n",
    "print(report)"
   ]
  },
  {
   "cell_type": "markdown",
   "id": "af294b24-a6b1-4729-b277-2bbe66d8e53d",
   "metadata": {},
   "source": [
    "## Make predictions on custom Tweets "
   ]
  },
  {
   "cell_type": "code",
   "execution_count": null,
   "id": "3636305c-cc1c-4bcd-98a2-37882f03d748",
   "metadata": {
    "tags": []
   },
   "outputs": [],
   "source": [
    "ds_uncertain = ds_rev.where(\n",
    "    (ds_rev[\"prediction_probability_raining\"] > 0.3) & (ds_rev[\"prediction_probability_raining\"] < 0.7), drop=True\n",
    ")"
   ]
  },
  {
   "cell_type": "code",
   "execution_count": null,
   "id": "90453254-c899-442a-a7c4-c2bcd8fbbf5f",
   "metadata": {},
   "outputs": [],
   "source": [
    "ds_uncertain[key_label] = ([\"index\"], np.ones(ds_uncertain.index.shape[0], dtype=bool))"
   ]
  },
  {
   "cell_type": "code",
   "execution_count": null,
   "id": "22b620d7-8cee-4f5e-8554-f4402dd43874",
   "metadata": {},
   "outputs": [],
   "source": [
    "(truth, predictions, prediction_probabilities,) = a2.training.evaluate_hugging.make_predictions_loaded_model(\n",
    "    ds_uncertain, slice(None), FOLDER_MODEL_TO_LOAD, key_inputs=key_inputs, key_label=key_label\n",
    ")"
   ]
  },
  {
   "cell_type": "code",
   "execution_count": null,
   "id": "d3da1064-4b88-4fe9-944c-615f8fdc0e96",
   "metadata": {},
   "outputs": [],
   "source": [
    "report = a2.plotting.analysis.check_prediction(truth, predictions)\n",
    "a2.plotting.analysis.plot_prediction_certainty(truth=truth, prediction_probabilities=prediction_probabilities[:, 1])\n",
    "a2.plotting.analysis.plot_roc(truth, prediction_probabilities[:, 1])\n",
    "print(report)"
   ]
  },
  {
   "cell_type": "code",
   "execution_count": null,
   "id": "501e56d3-9b8e-4fda-830e-aed100a1ddb4",
   "metadata": {},
   "outputs": [],
   "source": [
    "prediction_probabilities[:, 1]"
   ]
  },
  {
   "cell_type": "code",
   "execution_count": null,
   "id": "c5ca741d-cd6a-48fe-ab64-c28c3eded3ae",
   "metadata": {},
   "outputs": [],
   "source": [
    "ds_uncertain[\"prediction_probability_relevant\"] = ([\"index\"], prediction_probabilities[:, 1])"
   ]
  },
  {
   "cell_type": "code",
   "execution_count": null,
   "id": "3c96d09f-5b11-458a-872a-5dadaa78b40e",
   "metadata": {},
   "outputs": [],
   "source": [
    "ds_irrev_pred = ds_uncertain.where(ds_uncertain[\"prediction_probability_relevant\"] < 0.7, drop=True)"
   ]
  },
  {
   "cell_type": "code",
   "execution_count": null,
   "id": "ab667104-3e35-4645-a6bb-477c6e8c4861",
   "metadata": {},
   "outputs": [],
   "source": [
    "a2.dataset.utils_dataset.print_tweet_sample(\n",
    "    ds_irrev_pred, additional_fields=[\"text_normalized\", \"prediction_probability_relevant\"]\n",
    ")"
   ]
  },
  {
   "cell_type": "markdown",
   "id": "731b0be8-1e65-49cb-9b03-b3e3602c827d",
   "metadata": {},
   "source": [
    "## Make rain predictions on \"certain\" dataset"
   ]
  },
  {
   "cell_type": "markdown",
   "id": "490bc6fe-c4a0-4e6e-bb3f-4a211db8b01e",
   "metadata": {},
   "source": [
    "### First make relevance prediction on whole dataset"
   ]
  },
  {
   "cell_type": "code",
   "execution_count": null,
   "id": "2a4caa9f-d811-4ebd-bacc-1fc0f2c73043",
   "metadata": {},
   "outputs": [],
   "source": [
    "from dotenv import load_dotenv\n",
    "\n",
    "load_dotenv(\"/p/project/deepacf/maelstrom/ehlert1/a2/cluster/research/env_dev.sh\")"
   ]
  },
  {
   "cell_type": "code",
   "execution_count": null,
   "id": "7518cd5e-e8c7-45e7-9202-18db3ca31e5e",
   "metadata": {},
   "outputs": [],
   "source": [
    "ds_rev[\"relevant\"] = ([\"index\"], np.ones(ds_rev.index.shape[0], dtype=bool))"
   ]
  },
  {
   "cell_type": "code",
   "execution_count": null,
   "id": "e26cc98f-5666-409e-a28d-042bfefe3fab",
   "metadata": {},
   "outputs": [],
   "source": [
    "tracker = a2.training.tracking.Tracker()"
   ]
  },
  {
   "cell_type": "code",
   "execution_count": null,
   "id": "78dbd061-d738-4c6c-9733-6f904a63d511",
   "metadata": {},
   "outputs": [],
   "source": [
    "(truth, predictions, prediction_probabilities,) = a2.training.evaluate_hugging.make_predictions_loaded_model(\n",
    "    ds_rev, slice(None), FOLDER_MODEL_TO_LOAD, key_inputs=key_inputs, key_label=key_label\n",
    ")"
   ]
  },
  {
   "cell_type": "code",
   "execution_count": null,
   "id": "ba1b13ba-6fbc-4b91-bdc4-41638503cbeb",
   "metadata": {},
   "outputs": [],
   "source": [
    "ds_rev[\"relevant_prediction\"] = ([\"index\"], predictions)\n",
    "ds_rev[\"relevant_prediction_probabilities\"] = ([\"index\"], prediction_probabilities[:, 1])"
   ]
  },
  {
   "cell_type": "code",
   "execution_count": null,
   "id": "15795b7e-46c4-4a0f-b8ae-2cfa5c05b0f8",
   "metadata": {},
   "outputs": [],
   "source": [
    "ds_rev"
   ]
  },
  {
   "cell_type": "code",
   "execution_count": null,
   "id": "ead2bc98-0baf-47c6-a792-8fc6aaa7f1ce",
   "metadata": {},
   "outputs": [],
   "source": [
    "FOLDER_MODEL_TO_LOAD = \"/p/scratch/deepacf/maelstrom/maelstrom_data/ap2/models/trained_models/deberta-v3-small/output_rainprediction_simpledeberta_large_dataset_finetuning/checkpoint-2500\""
   ]
  },
  {
   "cell_type": "code",
   "execution_count": null,
   "id": "529f9dfd-cf45-4974-890b-7a2f9eec2a3d",
   "metadata": {},
   "outputs": [],
   "source": [
    "ds_station = ds_rev.where(\n",
    "    (ds_rev[\"station_distance_km\"] < 2) & (~a2.dataset.utils_dataset.is_nan(ds_rev, \"station_tp_mm\")), drop=True\n",
    ")\n",
    "ds_station[\"raining_station\"] = ([\"index\"], ds_station[\"station_tp_mm\"].values > 0)"
   ]
  },
  {
   "cell_type": "code",
   "execution_count": null,
   "id": "984336d2-0a1a-4aa5-9b22-adb3e60d903a",
   "metadata": {},
   "outputs": [],
   "source": [
    "(truth, predictions, prediction_probabilities,) = a2.training.evaluate_hugging.make_predictions_loaded_model(\n",
    "    ds_station, slice(None), FOLDER_MODEL_TO_LOAD, key_inputs=\"text_normalized\", key_label=\"raining\"\n",
    ")"
   ]
  },
  {
   "cell_type": "code",
   "execution_count": null,
   "id": "9520b5e1-8396-46d4-b4d9-9ca90bb34a50",
   "metadata": {},
   "outputs": [],
   "source": [
    "experiment_id.experiment_id"
   ]
  },
  {
   "cell_type": "code",
   "execution_count": null,
   "id": "7c4c5f7f-27ec-4713-a6af-97945df881c9",
   "metadata": {},
   "outputs": [],
   "source": [
    "ds_station[\"relevant_prediction_probabilities\"].plot.hist()"
   ]
  },
  {
   "cell_type": "code",
   "execution_count": null,
   "id": "a03252ec-2f53-4352-933e-0d49d945c632",
   "metadata": {},
   "outputs": [],
   "source": [
    "tracker.end_run()\n",
    "experiment_id = tracker.create_experiment(\"maelstrom-a2-eval\")\n",
    "with tracker.start_run(experiment_id=experiment_id.experiment_id, run_name=\"evaluate_raining\"):\n",
    "    filename_check_prediction_plot = \"check_prediction_raining_stations_predprob0p7.pdf\"\n",
    "    report = a2.plotting.analysis.check_prediction(\n",
    "        truth=ds_station[\"raining_station\"].values,\n",
    "        prediction=ds_station[\"prediction_probability_raining\"].values > 0.7,\n",
    "        filename=filename_check_prediction_plot,\n",
    "    )\n",
    "    tracker.log_artifact(filename_check_prediction_plot)\n",
    "\n",
    "    filename_check_prediction_plot = \"check_prediction_raining_stations_predprob0p7_relevant.pdf\"\n",
    "    report = a2.plotting.analysis.check_prediction(\n",
    "        truth=ds_station.where(ds_station[\"relevant_prediction\"] == 1, drop=True)[\"raining_station\"].values,\n",
    "        prediction=ds_station.where(ds_station[\"relevant_prediction\"] == 1, drop=True)[\n",
    "            \"prediction_probability_raining\"\n",
    "        ].values\n",
    "        > 0.7,\n",
    "        filename=filename_check_prediction_plot,\n",
    "    )\n",
    "    tracker.log_artifact(filename_check_prediction_plot)\n",
    "\n",
    "    filename_check_prediction_plot = \"check_prediction_raining_stations_noSnow_predprob0p7_relevant.pdf\"\n",
    "    report = a2.plotting.analysis.check_prediction(\n",
    "        truth=ds_station.where(\n",
    "            (~ds_station[\"text_normalized\"].str.contains(\"[sS]now\")) & (ds_station[\"relevant_prediction\"] == 1),\n",
    "            drop=True,\n",
    "        )[\"raining_station\"].values,\n",
    "        prediction=ds_station.where(\n",
    "            (~ds_station[\"text_normalized\"].str.contains(\"[sS]now\")) & (ds_station[\"relevant_prediction\"] == 1),\n",
    "            drop=True,\n",
    "        )[\"prediction_probability_raining\"].values\n",
    "        > 0.7,\n",
    "        filename=filename_check_prediction_plot,\n",
    "    )\n",
    "    tracker.log_artifact(filename_check_prediction_plot)\n",
    "\n",
    "    filename_check_prediction_plot = \"check_prediction_raining_stations_predprob0p7_irrelevant.pdf\"\n",
    "    report = a2.plotting.analysis.check_prediction(\n",
    "        truth=ds_station.where(ds_station[\"relevant_prediction\"] == 0, drop=True)[\"raining_station\"].values,\n",
    "        prediction=ds_station.where(ds_station[\"relevant_prediction\"] == 0, drop=True)[\n",
    "            \"prediction_probability_raining\"\n",
    "        ].values\n",
    "        > 0.7,\n",
    "        filename=filename_check_prediction_plot,\n",
    "    )\n",
    "    tracker.log_artifact(filename_check_prediction_plot)\n",
    "\n",
    "    filename_check_prediction_plot = \"check_prediction.pdf\"\n",
    "    report = a2.plotting.analysis.check_prediction(truth, predictions, filename=filename_check_prediction_plot)\n",
    "    tracker.log_artifact(filename_check_prediction_plot)\n",
    "    a2.plotting.analysis.plot_prediction_certainty(truth=truth, prediction_probabilities=prediction_probabilities[:, 1])\n",
    "    a2.plotting.analysis.plot_roc(truth, prediction_probabilities[:, 1])\n",
    "    filename_check_prediction_plot = \"relevant_prediction_2d.pdf\"\n",
    "    a2.plotting.histograms.plot_histogram_2d(\n",
    "        x=\"relevant_prediction_probabilities\",\n",
    "        y=\"prediction_probability_raining\",\n",
    "        ds=ds_station,\n",
    "        facet_column=\"raining_station\",\n",
    "        n_bins=[10, 10],\n",
    "        spacing_x=spacing,\n",
    "        spacing_y=spacing,\n",
    "        font_size=10,\n",
    "        overplot_values=False,\n",
    "        filename=filename_check_prediction_plot,\n",
    "    )\n",
    "    tracker.log_artifact(filename_check_prediction_plot)\n",
    "\n",
    "print(report)"
   ]
  },
  {
   "cell_type": "code",
   "execution_count": null,
   "id": "c0720e66-5f7e-4271-b25c-2066b2f0d0b9",
   "metadata": {},
   "outputs": [],
   "source": [
    "a2.dataset.utils_dataset.print_tweet_sample(\n",
    "    ds_station.where(\n",
    "        (ds_station[\"relevant_prediction\"] == 1)\n",
    "        & (ds_station[\"raining_station\"] == 0)\n",
    "        & (ds_station[\"prediction_probability_raining\"] > 0.7),\n",
    "        drop=True,\n",
    "    ),\n",
    "    additional_fields=[\n",
    "        \"text_normalized\",\n",
    "        \"raining\",\n",
    "        \"prediction\",\n",
    "        \"raining_station\",\n",
    "        \"relevant_prediction_probabilities\",\n",
    "    ],\n",
    "    n_sample=20,\n",
    ")"
   ]
  },
  {
   "cell_type": "code",
   "execution_count": null,
   "id": "64200b0b-2f6a-433e-bba3-d9db8d2cb905",
   "metadata": {},
   "outputs": [],
   "source": [
    "ds_station[\"prediction_probability_raining_checkpoint2500\"] = ([\"index\"], prediction_probabilities[:, 1])"
   ]
  },
  {
   "cell_type": "code",
   "execution_count": null,
   "id": "6271112a-211f-4e88-805c-de1a0b2fe798",
   "metadata": {},
   "outputs": [],
   "source": [
    "spacing = 0.12\n",
    "a2.plotting.histograms.plot_histogram_2d(\n",
    "    x=\"prediction_probability_raining_checkpoint2500\",\n",
    "    y=\"prediction_probability_raining\",\n",
    "    ds=ds_station,\n",
    "    # facet_column='raining',\n",
    "    facet_row=\"raining_station\",\n",
    "    n_bins=[40, 40],\n",
    "    # xlim=[0, 3],\n",
    "    # ylim=[0,1],\n",
    "    spacing_x=spacing,\n",
    "    spacing_y=spacing,\n",
    "    font_size=10,\n",
    "    filename=\"/tmp/test.pdf\",\n",
    ")"
   ]
  },
  {
   "cell_type": "code",
   "execution_count": null,
   "id": "4c224900-b6d4-4ea1-86a0-8e49023e03e9",
   "metadata": {},
   "outputs": [],
   "source": [
    "ds_station.where((ds_station[\"station_tp_mm\"] > 0) & (ds_station[\"raining_station\"] == 0), drop=True)"
   ]
  },
  {
   "cell_type": "code",
   "execution_count": null,
   "id": "a0dc7605-54ce-484d-99b2-30db27379d8a",
   "metadata": {},
   "outputs": [],
   "source": [
    "spacing = 0.12\n",
    "a2.plotting.histograms.plot_histogram_2d(\n",
    "    x=\"relevant_prediction_probabilities\",\n",
    "    y=\"prediction_probability_raining\",\n",
    "    ds=ds_station,\n",
    "    facet_column=\"raining_station\",\n",
    "    n_bins=[10, 10],\n",
    "    # xlim=[0, 3],\n",
    "    # ylim=[0,1],\n",
    "    spacing_x=spacing,\n",
    "    spacing_y=spacing,\n",
    "    font_size=10,\n",
    "    # norm='log',\n",
    "    overplot_values=False,\n",
    "    filename=\"/tmp/test.pdf\",\n",
    ")"
   ]
  },
  {
   "cell_type": "code",
   "execution_count": null,
   "id": "74d27556-d19f-4716-8b68-ef57b6b5adbf",
   "metadata": {},
   "outputs": [],
   "source": [
    "# truth, predictions = ds_station['s\n",
    "\n",
    "report = a2.plotting.analysis.check_prediction(truth, predictions)\n",
    "# a2.plotting.analysis.plot_prediction_certainty(truth=truth, prediction_probabilities=prediction_probabilities)\n",
    "# a2.plotting.analysis.plot_roc(truth, prediction_probabilities)\n",
    "print(report)"
   ]
  },
  {
   "cell_type": "markdown",
   "id": "adcf5758-db63-4f2a-b273-035bd553752a",
   "metadata": {
    "tags": []
   },
   "source": [
    "## Precipiation map analysis"
   ]
  },
  {
   "cell_type": "code",
   "execution_count": null,
   "id": "f6d5b165-31be-490d-b489-11442438631b",
   "metadata": {},
   "outputs": [],
   "source": [
    "ds_p = xarray.load_dataset(FOLDER_WEATHER_DATA + \"ds_prec_era5_uk_2017-2020.nc\")"
   ]
  },
  {
   "cell_type": "code",
   "execution_count": null,
   "id": "8129513b-4d17-47b8-8d15-95f360ff4cbd",
   "metadata": {},
   "outputs": [],
   "source": [
    "ds_test = a2.training.evaluate_hugging.build_ds_test(\n",
    "    ds=ds_raw,\n",
    "    indices_test=indices_test,\n",
    "    predictions=predictions,\n",
    "    prediction_probabilities=prediction_probabilities,\n",
    ")"
   ]
  },
  {
   "cell_type": "code",
   "execution_count": null,
   "id": "7d315283-c2f0-4072-99b0-aef802753144",
   "metadata": {},
   "outputs": [],
   "source": [
    "ds_test.raining.plot.hist()"
   ]
  },
  {
   "cell_type": "code",
   "execution_count": null,
   "id": "338d6533-febd-4121-a9ae-ee47b1d4584a",
   "metadata": {},
   "outputs": [],
   "source": [
    "ds = ds_test\n",
    "ds_selected = ds.where(\n",
    "    (ds.raining == 1) & (ds.prediction_probability_raining > 0.5) & (ds.tp_h > 1e-7) & (ds.tp_h < 2e-6),\n",
    "    drop=True,\n",
    ")\n",
    "print(\n",
    "    sklearn.metrics.classification_report(\n",
    "        ds.raining.values,\n",
    "        ds.prediction_probability_raining > 0.5,\n",
    "        target_names=[\"not raining\", \"raining\"],\n",
    "    )\n",
    ")\n",
    "a2.plotting.analysis.plot_prediction_certainty(\n",
    "    truth=ds[\"raining\"].values,\n",
    "    prediction_probabilities=ds[\"prediction_probability_raining\"].values,\n",
    ")\n",
    "\n",
    "ds_selected = a2.dataset.load_dataset.reset_index_coordinate(ds_selected)\n",
    "print(f\"found {ds_selected.index.shape[0]} tweets in total\")\n",
    "indices = np.random.choice(\n",
    "    ds_selected.index.shape[0],\n",
    "    40,\n",
    "    replace=False,\n",
    ")\n",
    "print(indices)\n",
    "a2.plotting.weather_maps.plot_precipiation_map(\n",
    "    ds_p,\n",
    "    ds_selected.sel(index=indices),\n",
    "    n_time=2,\n",
    "    delta_time=1,\n",
    "    delta_time_units=\"h\",\n",
    "    delta_longitude=1.2,\n",
    "    delta_latitude=1.2,\n",
    "    # filename=\"precipitation_maps_around_tweets.png\",\n",
    "    add_time_before_plot=pd.Timedelta(\"30min\"),\n",
    "    print_additional=[\n",
    "        \"bounding_box_area\",\n",
    "        \"prediction_probability_raining\",\n",
    "        \"tp_h\",\n",
    "    ],\n",
    ")"
   ]
  },
  {
   "cell_type": "code",
   "execution_count": null,
   "id": "5d6ff1d5-2fc7-4134-bd9c-66f1c80faa66",
   "metadata": {},
   "outputs": [],
   "source": [
    "a2.plotting.histograms.plot_histogram_2d(\n",
    "    ds_test.tp_h.values,\n",
    "    ds_test.prediction_probability_raining.values,\n",
    "    log=[\"symlog\", False],\n",
    "    linear_thresh=1e-9,\n",
    "    xlim=[-1, 1],\n",
    ")"
   ]
  },
  {
   "cell_type": "code",
   "execution_count": null,
   "id": "b9e064ff-3eca-48cb-b8b3-8dc57a4c84d9",
   "metadata": {},
   "outputs": [],
   "source": [
    "a2.plotting.histograms.plot_histogram_2d(\n",
    "    ds_test.tp_h.values,\n",
    "    ds_test.prediction_probability_raining.values,\n",
    "    log=[\"log\", False],\n",
    "    xlim=[1e-7, 1],\n",
    "    n_bins=120,\n",
    ")"
   ]
  }
 ],
 "metadata": {
  "kernelspec": {
   "display_name": "ap2python3p10",
   "language": "python",
   "name": "ap2python3p10"
  },
  "language_info": {
   "codemirror_mode": {
    "name": "ipython",
    "version": 3
   },
   "file_extension": ".py",
   "mimetype": "text/x-python",
   "name": "python",
   "nbconvert_exporter": "python",
   "pygments_lexer": "ipython3",
   "version": "3.10.6"
  },
  "vscode": {
   "interpreter": {
    "hash": "06c3f19a037da30281d10f8fbda7f2df02465bd919ed005b52297a6fc2623835"
   }
  }
 },
 "nbformat": 4,
 "nbformat_minor": 5
}
