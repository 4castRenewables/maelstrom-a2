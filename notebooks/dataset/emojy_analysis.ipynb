{
 "cells": [
  {
   "cell_type": "markdown",
   "id": "2499481b-0732-41f7-a49c-6fe45cfff1d8",
   "metadata": {},
   "source": [
    "# Quick analysis to check naming conventions for emojis in encoding\n",
    "\n",
    "Result: usually 'FE0F' is only added and shifted through "
   ]
  },
  {
   "cell_type": "code",
   "execution_count": null,
   "id": "2f6a69ff-c304-4755-988e-e4d86200d910",
   "metadata": {},
   "outputs": [],
   "source": [
    "import pandas as pd"
   ]
  },
  {
   "cell_type": "code",
   "execution_count": null,
   "id": "381957b2-fcd3-48d4-80da-9a351dccd16a",
   "metadata": {},
   "outputs": [],
   "source": [
    "df_emoji = pd.read_csv(\"../data/emoji/emoji_df.csv\")\n",
    "df_emoji"
   ]
  },
  {
   "cell_type": "code",
   "execution_count": null,
   "id": "e0bfd8a1-0e32-485b-b04a-7572012f9ba1",
   "metadata": {},
   "outputs": [],
   "source": [
    "counts = df_emoji[\"name\"].value_counts().reset_index()\n",
    "counts.columns = [\"unique_values\", \"counts\"]\n",
    "counts[counts[\"counts\"] > 1].values"
   ]
  },
  {
   "cell_type": "code",
   "execution_count": null,
   "id": "a59b4d99-d4ef-4478-be46-a4522b8b1c07",
   "metadata": {},
   "outputs": [],
   "source": [
    "counts[counts[\"counts\"] == 4].unique_values.values"
   ]
  },
  {
   "cell_type": "code",
   "execution_count": null,
   "id": "cbfc4f7c-ac96-4fcf-a497-224f34828f17",
   "metadata": {},
   "outputs": [],
   "source": [
    "multiple_emojis = df_emoji.loc[df_emoji[\"name\"].isin(counts[counts[\"counts\"] > 1][\"unique_values\"].values)]"
   ]
  },
  {
   "cell_type": "code",
   "execution_count": null,
   "id": "62a069b0-bce2-4907-ae62-0a831361d674",
   "metadata": {},
   "outputs": [],
   "source": [
    "for n in counts[counts[\"counts\"] > 1][\"unique_values\"].values:\n",
    "    code = multiple_emojis[multiple_emojis[\"name\"] == n][\"codepoints\"].values\n",
    "    unique = []\n",
    "    for co in code:\n",
    "        for c in co.split():\n",
    "            if not all([c in x for x in code]):\n",
    "                if c not in unique:\n",
    "                    unique.append(c)\n",
    "        print(co)\n",
    "    break\n",
    "print(unique)"
   ]
  },
  {
   "cell_type": "code",
   "execution_count": null,
   "id": "0f30fb14-78c4-48ed-84b2-4c09fc41524b",
   "metadata": {},
   "outputs": [],
   "source": []
  }
 ],
 "metadata": {
  "kernelspec": {
   "display_name": "Python 3 (ipykernel)",
   "language": "python",
   "name": "python3"
  },
  "language_info": {
   "codemirror_mode": {
    "name": "ipython",
    "version": 3
   },
   "file_extension": ".py",
   "mimetype": "text/x-python",
   "name": "python",
   "nbconvert_exporter": "python",
   "pygments_lexer": "ipython3",
   "version": "3.10.4"
  }
 },
 "nbformat": 4,
 "nbformat_minor": 5
}
