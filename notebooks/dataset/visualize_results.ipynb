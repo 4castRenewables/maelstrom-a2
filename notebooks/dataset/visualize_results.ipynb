{
 "cells": [
  {
   "attachments": {},
   "cell_type": "markdown",
   "metadata": {},
   "source": [
    "# Create figures related to results for paper Tweet paper\n",
    "\n",
    "Included plots are:\n",
    "- 2d histogram on prediction confidence\n",
    "- confusion matrix\n",
    "- roc curve"
   ]
  },
  {
   "cell_type": "code",
   "execution_count": null,
   "metadata": {},
   "outputs": [],
   "source": [
    "# allows update of external libraries without need to reload package\n",
    "%load_ext autoreload\n",
    "%autoreload 2"
   ]
  },
  {
   "cell_type": "code",
   "execution_count": null,
   "metadata": {},
   "outputs": [],
   "source": [
    "import os\n",
    "import re\n",
    "import glob\n",
    "import zipfile\n",
    "import pathlib\n",
    "import logging\n",
    "import json\n",
    "import string\n",
    "\n",
    "import numpy as np\n",
    "import pandas as pd\n",
    "import matplotlib.font_manager\n",
    "import matplotlib.pyplot as plt\n",
    "import matplotlib\n",
    "\n",
    "import matplotlib.offsetbox\n",
    "\n",
    "\n",
    "import wget\n",
    "\n",
    "import requests\n",
    "import base64\n",
    "from bs4 import BeautifulSoup\n",
    "\n",
    "import wordcloud\n",
    "import tweepy\n",
    "import a2.twitter.downloader\n",
    "import a2.plotting\n",
    "import a2.dataset\n",
    "import a2.utils\n",
    "import a2.training\n",
    "import a2.plotting.analysis\n",
    "\n",
    "import joblib"
   ]
  },
  {
   "cell_type": "code",
   "execution_count": null,
   "metadata": {},
   "outputs": [],
   "source": [
    "# set up cache location\n",
    "location = \"./cachedir\"\n",
    "memory = joblib.Memory(location, verbose=1)"
   ]
  },
  {
   "cell_type": "code",
   "execution_count": null,
   "metadata": {},
   "outputs": [],
   "source": [
    "FOLDER_DATA = a2.utils.file_handling.get_folder_data()\n",
    "FOLDER_TWEETS = FOLDER_DATA / \"tweets/\"\n",
    "FILE_TWEETS = (\n",
    "    FOLDER_TWEETS\n",
    "    / \"2017_2020_tweets_rain_sun_vocab_emojis_locations_bba_Tp_era5_no_bots_normalized_filtered_weather_stations_fix_predicted_simpledeberta_radar.nc\"\n",
    ")\n",
    "FOLDER_FIGURES = pathlib.Path(\"../../figures/analysis/modelling/\")\n",
    "FILE_FONT = \"../fonts/noto/NotoEmoji-VariableFont_wght.ttf\"\n",
    "FOLDER_MODEL_TO_LOAD = \"../../models/model_weights/output_rainprediction_simpledeberta/era5/checkpoint-7617/\"\n",
    "FOLDER_RAW_MODEL = pathlib.Path(\"../../models/deberta-v3-small/\")"
   ]
  },
  {
   "cell_type": "code",
   "execution_count": null,
   "metadata": {},
   "outputs": [],
   "source": [
    "ds_tweets = a2.dataset.load_dataset.load_tweets_dataset(FILE_TWEETS)"
   ]
  },
  {
   "cell_type": "code",
   "execution_count": null,
   "metadata": {},
   "outputs": [],
   "source": [
    "evaluate_hugging_cached = memory.cache(a2.training.evaluate_hugging.make_predictions_loaded_model)"
   ]
  },
  {
   "cell_type": "code",
   "execution_count": null,
   "metadata": {},
   "outputs": [],
   "source": [
    "import pickle\n",
    "\n",
    "objects = []\n",
    "with (open(\"tpp.pickle\", \"rb\")) as openfile:\n",
    "    while True:\n",
    "        try:\n",
    "            objects.append(pickle.load(openfile))\n",
    "        except EOFError:\n",
    "            break"
   ]
  },
  {
   "cell_type": "code",
   "execution_count": null,
   "metadata": {},
   "outputs": [],
   "source": [
    "(\n",
    "    truth,\n",
    "    predictions,\n",
    "    prediction_probabilities,\n",
    ") = objects[0]"
   ]
  },
  {
   "cell_type": "code",
   "execution_count": null,
   "metadata": {},
   "outputs": [],
   "source": [
    "# (\n",
    "#     truth,\n",
    "#     predictions,\n",
    "#     prediction_probabilities,\n",
    "# ) = evaluate_hugging_cached(ds_tweets, ds_tweets.index.values, FOLDER_MODEL_TO_LOAD, folder_tokenizer=FOLDER_RAW_MODEL)"
   ]
  },
  {
   "cell_type": "code",
   "execution_count": null,
   "metadata": {},
   "outputs": [],
   "source": [
    "marginal_x = marginal_y = None\n",
    "a2.plotting.analysis.plot_prediction_certainty(\n",
    "    truth,\n",
    "    prediction_probabilities[:, 1],\n",
    "    overplot_round_base=-3,\n",
    "    label_x=\"Label\",\n",
    "    label_y=\"Prediction confidence for label 'raining'\",\n",
    "    marginal_x=marginal_x,\n",
    "    marginal_y=marginal_y,\n",
    "    marginal_color=\"navy\",\n",
    "    vmin=0,\n",
    "    vmax=160000,\n",
    "    font_size=15,\n",
    "    overplot_color=\"snow\",\n",
    "    colormap=\"cividis\",\n",
    ")\n",
    "fig = plt.gcf()\n",
    "fig.savefig(FOLDER_FIGURES / \"prediction_certainty_era5.pdf\")"
   ]
  },
  {
   "cell_type": "code",
   "execution_count": null,
   "metadata": {},
   "outputs": [],
   "source": [
    "fig, axes, axes_colorbar = a2.plotting.utils_plotting.create_axes_grid(\n",
    "    2,\n",
    "    1,\n",
    "    figure_size=[20, 7],\n",
    "    unravel=True,\n",
    "    colorbar_off=False,\n",
    "    spacing_colorbar=0.02,\n",
    "    colorbar_width=0.02,\n",
    "    colorbar_skip_row_col=[[0, 0]],\n",
    "    spacing_x=0.13,\n",
    "    left=0.06,\n",
    "    bottom=0.11,\n",
    ")\n",
    "marginal_x = marginal_y = None\n",
    "font_size = 26\n",
    "a2.plotting.analysis.plot_roc(truth, prediction_probabilities[:, 1], ax=axes[0], font_size=font_size, fig=fig)\n",
    "a2.plotting.analysis.plot_confusion_matrix(\n",
    "    truth,\n",
    "    predictions,\n",
    "    ax=axes[1],\n",
    "    ax_colorbar=axes_colorbar[1],\n",
    "    overplot_round_base=2,\n",
    "    text_color=\"firebrick\",\n",
    "    font_size=font_size,\n",
    "    vmin=0,\n",
    "    vmax=0.50,\n",
    ")\n",
    "fig.savefig(FOLDER_FIGURES / \"confusion_matrix_roc_era5.pdf\")"
   ]
  }
 ],
 "metadata": {
  "kernelspec": {
   "display_name": "Python 3.10.6 ('.venv': poetry)",
   "language": "python",
   "name": "python3"
  },
  "language_info": {
   "codemirror_mode": {
    "name": "ipython",
    "version": 3
   },
   "file_extension": ".py",
   "mimetype": "text/x-python",
   "name": "python",
   "nbconvert_exporter": "python",
   "pygments_lexer": "ipython3",
   "version": "3.10.6"
  },
  "vscode": {
   "interpreter": {
    "hash": "06c3f19a037da30281d10f8fbda7f2df02465bd919ed005b52297a6fc2623835"
   }
  }
 },
 "nbformat": 4,
 "nbformat_minor": 2
}
