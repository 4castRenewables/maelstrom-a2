{
 "cells": [
  {
   "attachments": {},
   "cell_type": "markdown",
   "metadata": {},
   "source": [
    "# Compare radar precipitation data to era5 and station data\n",
    "\n",
    "Radar data retrieved from the [CEDA Archive](https://catalogue.ceda.ac.uk/uuid/27dd6ffba67f667a18c62de5c3456350) compared to era5 has much higher spatial resolution (1km vs 10km) and temporal resolution (5min vs 1hour). However, accuraccy is crucial for this project. That is why we compare radar precipitation data from era5 and weather stations to decide if it is more precise than previously used era5 data.\n",
    "\n",
    "We plot:\n",
    "\n",
    "    - maps of radar data with overlaid data from weather stations (also reduced to Tweets that are very close to weather stations)\n",
    "    - maps that show weather stations and Tweet data from weather stations to verify that Tweets were correctly tagged.\n",
    "    - histograms of precipitation comparing era5 vs stations and radar vs stations  \n",
    "\n",
    "Radar data seems to inhibit systematic uncertainties especially with rain that is not detected by weather stations with an overall increased inaccuracy compared to era5 data. In conclusion, we abstain from using radar data for now (see also notebook radar_era5_station_comparison_timeline for analysis of precipitation timeseries near weather stations)."
   ]
  },
  {
   "cell_type": "code",
   "execution_count": null,
   "metadata": {},
   "outputs": [],
   "source": [
    "# allows update of external libraries without need to reload package\n",
    "%load_ext autoreload\n",
    "%autoreload 2"
   ]
  },
  {
   "cell_type": "code",
   "execution_count": null,
   "metadata": {},
   "outputs": [],
   "source": [
    "import os\n",
    "import re\n",
    "import glob\n",
    "import math\n",
    "import pandas as pd\n",
    "import numpy as np\n",
    "import matplotlib.pyplot as plt\n",
    "import matplotlib\n",
    "import logging\n",
    "import pathlib\n",
    "import datetime\n",
    "import tqdm\n",
    "import xarray\n",
    "import rioxarray\n",
    "import convertbng\n",
    "import pyproj\n",
    "import h5py\n",
    "import itertools\n",
    "import functools\n",
    "import collections\n",
    "import plotly.express\n",
    "\n",
    "logging.basicConfig(level=logging.INFO)\n",
    "\n",
    "\n",
    "import a2.utils\n",
    "import a2.dataset\n",
    "import a2.plotting"
   ]
  },
  {
   "cell_type": "code",
   "execution_count": null,
   "metadata": {},
   "outputs": [],
   "source": [
    "FOLDER_DATA = a2.utils.file_handling.get_folder_data()\n",
    "FOLDER_TWEETS = FOLDER_DATA / \"tweets/\"\n",
    "FILE_TWEETS = (\n",
    "    FOLDER_TWEETS\n",
    "    / \"2017_2020_tweets_rain_sun_vocab_emojis_locations_bba_Tp_era5_no_bots_normalized_filtered_weather_stations_fix_predicted_simpledeberta_radar.nc\"\n",
    ")\n",
    "FOLDER_WEATHER_STATIONS = FOLDER_DATA / \"weather_stations/\"\n",
    "FILE_WEATHER_STATIONS = FOLDER_WEATHER_STATIONS / \"weather_stations_hourly_rainfall_uk_2017-2020_station_number.csv\"\n",
    "\n",
    "FOLDER_ERA5 = FOLDER_DATA / \"precipitation/\"\n",
    "FILE_ERA5 = FOLDER_ERA5 / \"ds_prec_era5_uk_2017-2020_decum.nc\"\n",
    "\n",
    "FOLDER_RADAR_DAPCEDA = a2.utils.file_handling.get_folder_radar()"
   ]
  },
  {
   "cell_type": "code",
   "execution_count": null,
   "metadata": {},
   "outputs": [],
   "source": [
    "df_stations = a2.dataset.load_dataset.load_weather_stations(FILE_WEATHER_STATIONS)"
   ]
  },
  {
   "cell_type": "code",
   "execution_count": null,
   "metadata": {},
   "outputs": [],
   "source": [
    "ds_tweets = a2.dataset.load_dataset.load_tweets_dataset(FILE_TWEETS)"
   ]
  },
  {
   "cell_type": "code",
   "execution_count": null,
   "metadata": {},
   "outputs": [],
   "source": [
    "# faster for some operations with xarray\n",
    "ds_t = xarray.open_dataset(FILE_TWEETS)"
   ]
  },
  {
   "attachments": {},
   "cell_type": "markdown",
   "metadata": {},
   "source": [
    "## Maps comparing station and radar precipitation estimates"
   ]
  },
  {
   "cell_type": "code",
   "execution_count": null,
   "metadata": {},
   "outputs": [],
   "source": []
  },
  {
   "cell_type": "code",
   "execution_count": null,
   "metadata": {},
   "outputs": [],
   "source": [
    "a2.plotting.weather_maps.plot_tp_station_tweets(\n",
    "    ds_t,\n",
    "    df_stations.reset_index(),  # df_stations,\n",
    "    grid_shape=(3, 2),\n",
    "    colormap=\"tab20c\",\n",
    "    vmin=0,\n",
    "    vmax=1,\n",
    "    fontsize=14,\n",
    "    choice_type=\"increment_time\",\n",
    "    increment_time_value=np.datetime64(\"2017-05-27T12:30:00.000000000\"),\n",
    ")"
   ]
  },
  {
   "cell_type": "code",
   "execution_count": null,
   "metadata": {},
   "outputs": [],
   "source": [
    "f = a2.plotting.weather_maps.plot_radar_map_with_tweets(\n",
    "    ds=ds_t,\n",
    "    grid_shape=(4, 4),\n",
    "    figsize=None,\n",
    "    selection_delta_time=1,\n",
    "    selection_delta_time_units=\"h\",\n",
    "    selection_key_twitter_time=\"time_radar\",\n",
    "    selector_use_limits=[True, False],\n",
    "    # choice_type=\"increment_time\",\n",
    "    choice_type=\"increment_time\",\n",
    "    xlim=(-1.5, 1.5),\n",
    "    ylim=(50, 53),\n",
    "    path_to_dapceda=FOLDER_RADAR_DAPCEDA,\n",
    "    increment_time_value=np.datetime64(\"2019-10-09T11:00:00.000000000\"),\n",
    "    vmax=1,\n",
    "    cumulative_radar=True,\n",
    "    # circle_size_constant=0.1,\n",
    ")"
   ]
  },
  {
   "attachments": {},
   "cell_type": "markdown",
   "metadata": {},
   "source": [
    "## Histograms radar vs weather station"
   ]
  },
  {
   "cell_type": "code",
   "execution_count": null,
   "metadata": {},
   "outputs": [],
   "source": [
    "ds_no_nan = ds_tweets.where(\n",
    "    ~a2.dataset.utils_dataset.is_nan(ds_tweets, \"station_tp_mm\")\n",
    "    & ~a2.dataset.utils_dataset.is_nan(ds_tweets, \"tp_mm_radar\")\n",
    "    & (ds_tweets.tp_mm_radar != -np.inf),\n",
    "    drop=True,\n",
    ")\n",
    "ds_no_nan"
   ]
  },
  {
   "cell_type": "code",
   "execution_count": null,
   "metadata": {},
   "outputs": [],
   "source": [
    "ds_no_nan.where(ds_no_nan.station_distance_km < 0.4, drop=True)"
   ]
  },
  {
   "cell_type": "code",
   "execution_count": null,
   "metadata": {},
   "outputs": [],
   "source": [
    "ds_close_station = ds_no_nan.where(ds_no_nan.station_distance_km < 2, drop=True)"
   ]
  },
  {
   "attachments": {},
   "cell_type": "markdown",
   "metadata": {},
   "source": [
    "## Checking out specific time series in radar data"
   ]
  },
  {
   "cell_type": "code",
   "execution_count": null,
   "metadata": {},
   "outputs": [],
   "source": [
    "f = a2.plotting.weather_maps.plot_radar_map_with_tweets(\n",
    "    ds=ds_close_station,\n",
    "    grid_shape=(5, 4),\n",
    "    figsize=None,\n",
    "    selection_delta_time=1,\n",
    "    selection_delta_time_units=\"h\",\n",
    "    selection_key_twitter_time=\"time_radar\",\n",
    "    selector_use_limits=[True, False],\n",
    "    choice_type=\"increment_time\",\n",
    "    xlim=[-1.5, 1.5],\n",
    "    ylim=[50, 53],\n",
    "    increment_time_value=np.datetime64(\"2017-05-17T15:00:00.000000000\"),\n",
    "    increment_time_delta=1,\n",
    "    increment_time_delta_units=\"h\",\n",
    "    circle_size_constant=0.1,\n",
    "    cumulative_radar=True,\n",
    "    colormap=\"magma_r\",\n",
    "    circle_alpha=1.0,\n",
    "    vmax=1,\n",
    ")"
   ]
  },
  {
   "cell_type": "code",
   "execution_count": null,
   "metadata": {},
   "outputs": [],
   "source": [
    "f = a2.plotting.weather_maps.plot_radar_map_with_tweets(\n",
    "    ds=ds_close_station,\n",
    "    grid_shape=(5, 4),\n",
    "    figsize=None,\n",
    "    selection_delta_time=5,\n",
    "    selection_delta_time_units=\"m\",\n",
    "    selection_key_twitter_time=\"time_radar\",\n",
    "    selector_use_limits=[True, False],\n",
    "    choice_type=\"increment_time\",\n",
    "    xlim=[-1.5, 1.5],\n",
    "    ylim=[50, 53],\n",
    "    increment_time_value=np.datetime64(\"2018-04-17T12:00:00.000000000\"),\n",
    "    increment_time_delta=5,\n",
    "    increment_time_delta_units=\"m\",\n",
    "    circle_size_constant=0.1,\n",
    "    cumulative_radar=False,\n",
    "    colormap=\"magma_r\",\n",
    "    circle_alpha=1.0,\n",
    "    vmax=1,\n",
    ")"
   ]
  },
  {
   "cell_type": "code",
   "execution_count": null,
   "metadata": {},
   "outputs": [],
   "source": [
    "f = a2.plotting.weather_maps.plot_radar_map_with_tweets(\n",
    "    ds=ds_close_station,\n",
    "    grid_shape=(5, 4),\n",
    "    figsize=None,\n",
    "    selection_delta_time=5,\n",
    "    selection_delta_time_units=\"m\",\n",
    "    selection_key_twitter_time=\"time_radar\",\n",
    "    selector_use_limits=[True, False],\n",
    "    choice_type=\"increment_time\",\n",
    "    xlim=[-1.5, 1.5],\n",
    "    ylim=[50, 53],\n",
    "    increment_time_value=np.datetime64(\"2018-04-22T14:00:00.000000000\"),\n",
    "    increment_time_delta=5,\n",
    "    increment_time_delta_units=\"m\",\n",
    "    circle_size_constant=0.1,\n",
    "    cumulative_radar=False,\n",
    "    colormap=\"magma_r\",\n",
    "    circle_alpha=1.0,\n",
    "    vmax=1,\n",
    ")"
   ]
  },
  {
   "cell_type": "code",
   "execution_count": null,
   "metadata": {},
   "outputs": [],
   "source": [
    "a2.plotting.weather_maps.plot_tp_station_tweets(\n",
    "    ds_t,\n",
    "    df_stations,\n",
    "    grid_shape=(5, 4),\n",
    "    colormap=\"tab20c\",\n",
    "    vmin=0,\n",
    "    vmax=1,\n",
    "    fontsize=14,\n",
    "    choice_type=\"increment_time\",\n",
    "    selection_delta_time=1,\n",
    "    selection_delta_time_units=\"h\",\n",
    "    selector_use_limits=[True, False],\n",
    "    increment_time_delta=1,\n",
    "    increment_time_delta_units=\"h\",\n",
    "    increment_time_value=np.datetime64(\"2020-01-14T03:30:00.000000000\"),\n",
    "    xlim=[-5, 0],\n",
    "    ylim=[51, 56],\n",
    ");"
   ]
  },
  {
   "attachments": {},
   "cell_type": "markdown",
   "metadata": {},
   "source": [
    "## Histogram radar (era5) vs stations"
   ]
  },
  {
   "cell_type": "code",
   "execution_count": null,
   "metadata": {},
   "outputs": [],
   "source": [
    "ds_close_station[\"station_tp_mm_h\"] = ([\"index\"], ds_close_station[\"station_tp_mm\"].values)\n",
    "ds_close_station[\"station_tp_mm\"] = ([\"index\"], ds_close_station[\"station_tp_mm_h\"].values * 5 / 60)"
   ]
  },
  {
   "cell_type": "code",
   "execution_count": null,
   "metadata": {},
   "outputs": [],
   "source": [
    "fig, ax = a2.plotting.utils_plotting.create_figure_axes()\n",
    "n_bins = 12\n",
    "a2.plotting.histograms.plot_histogram(\n",
    "    ds=ds_tweets, x=\"station_tp_mm\", ax=ax, alpha=0.5, n_bins=n_bins, xlim=[0, 2], fig=fig\n",
    ")\n",
    "a2.plotting.histograms.plot_histogram(\n",
    "    ds=ds_tweets, x=\"tp_mm_radar\", xlim=[0, 2], ax=ax, alpha=0.5, n_bins=n_bins, fig=fig\n",
    ")"
   ]
  },
  {
   "cell_type": "code",
   "execution_count": null,
   "metadata": {},
   "outputs": [],
   "source": [
    "isinstance(\"s\", str)"
   ]
  },
  {
   "cell_type": "code",
   "execution_count": null,
   "metadata": {},
   "outputs": [],
   "source": [
    "a2.plotting.histograms.plot_histogram_2d(\n",
    "    ds=ds_no_nan.where((ds_no_nan.station_distance_km < 2) & (ds_no_nan.station_tp_mm != 0), drop=True),\n",
    "    x=\"station_tp_mm\",\n",
    "    y=\"tp_mm_radar\",\n",
    "    xlim=[0, 2],\n",
    "    ylim=[0, 2],\n",
    "    n_bins=11,\n",
    "    norm=None,  # \"log\",\n",
    ");"
   ]
  },
  {
   "cell_type": "code",
   "execution_count": null,
   "metadata": {},
   "outputs": [],
   "source": [
    "a2.plotting.histograms.plot_histogram_2d(\n",
    "    ds=ds_no_nan.where(ds_no_nan.station_distance_km < 2, drop=True),\n",
    "    x=\"station_tp_mm\",\n",
    "    y=\"tp_h_mm\",\n",
    "    xlim=[0, 2],\n",
    "    ylim=[0, 2],\n",
    "    n_bins=11,\n",
    "    norm=\"log\",\n",
    ");"
   ]
  },
  {
   "cell_type": "code",
   "execution_count": null,
   "metadata": {},
   "outputs": [],
   "source": []
  }
 ],
 "metadata": {
  "kernelspec": {
   "display_name": ".venv",
   "language": "python",
   "name": "python3"
  },
  "language_info": {
   "codemirror_mode": {
    "name": "ipython",
    "version": 3
   },
   "file_extension": ".py",
   "mimetype": "text/x-python",
   "name": "python",
   "nbconvert_exporter": "python",
   "pygments_lexer": "ipython3",
   "version": "3.10.6"
  },
  "vscode": {
   "interpreter": {
    "hash": "06c3f19a037da30281d10f8fbda7f2df02465bd919ed005b52297a6fc2623835"
   }
  }
 },
 "nbformat": 4,
 "nbformat_minor": 2
}
