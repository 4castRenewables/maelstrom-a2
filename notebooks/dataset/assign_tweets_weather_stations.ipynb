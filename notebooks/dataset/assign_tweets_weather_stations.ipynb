{
 "cells": [
  {
   "cell_type": "code",
   "execution_count": null,
   "metadata": {},
   "outputs": [],
   "source": [
    "# allows update of external libraries without need to reload package\n",
    "%load_ext autoreload\n",
    "%autoreload 2"
   ]
  },
  {
   "cell_type": "code",
   "execution_count": null,
   "metadata": {},
   "outputs": [],
   "source": [
    "%load_ext line_profiler"
   ]
  },
  {
   "cell_type": "code",
   "execution_count": null,
   "metadata": {},
   "outputs": [],
   "source": [
    "import numpy as np\n",
    "import plotly.express\n",
    "import matplotlib.pyplot as plt\n",
    "import pandas as pd\n",
    "import geopy.distance\n",
    "import re\n",
    "import functools\n",
    "import logging\n",
    "import pathlib\n",
    "\n",
    "logging.basicConfig(level=logging.INFO)\n",
    "\n",
    "import a2.dataset\n",
    "import a2.plotting\n",
    "import a2.utils"
   ]
  },
  {
   "cell_type": "code",
   "execution_count": null,
   "metadata": {},
   "outputs": [],
   "source": [
    "FOLDERS_TWEETS = pathlib.Path(\"../../data/tweets/\")\n",
    "FOLDER_FIGURES = pathlib.Path(\"../../figures/data/weather_stations\")\n",
    "FILE_TWEETS = (\n",
    "    FOLDERS_TWEETS\n",
    "    / \"data/tweets/2017_2020_tweets_rain_sun_vocab_emojis_locations_bba_Tp_era5_no_bots_normalized_filtered.nc\"\n",
    ")\n",
    "FILE_TWEETS = (\n",
    "    FOLDERS_TWEETS\n",
    "    / \"2017_2020_tweets_rain_sun_vocab_emojis_locations_bba_Tp_era5_no_bots_normalized_filtered_weather_stations_predicted_simpledeberta_radar.nc\"\n",
    ")\n",
    "FILE_WEATHER_STATIONS = \"../../data/weather_stations/weather_stations_hourly_rainfall_uk_2017-2020_reduced.csv\""
   ]
  },
  {
   "cell_type": "code",
   "execution_count": null,
   "metadata": {},
   "outputs": [],
   "source": [
    "ds = a2.dataset.load_dataset.load_tweets_dataset(FILE_TWEETS, open=False)\n",
    "ds[\"raining\"] = ([\"index\"], np.array(ds.tp_h.values > 1e-8, dtype=int))"
   ]
  },
  {
   "cell_type": "code",
   "execution_count": null,
   "metadata": {},
   "outputs": [],
   "source": [
    "ds_sel = ds.where(\n",
    "    (ds.created_at >= np.datetime64(\"2020-10-09T00:00:00.000000000\"))\n",
    "    & (ds.created_at <= np.datetime64(\"2020-10-09T23:55:00.000000000\")),\n",
    "    drop=True,\n",
    ")"
   ]
  },
  {
   "cell_type": "code",
   "execution_count": null,
   "metadata": {},
   "outputs": [],
   "source": [
    "df_weather_stations = a2.dataset.load_dataset.load_weather_stations(FILE_WEATHER_STATIONS)"
   ]
  },
  {
   "cell_type": "code",
   "execution_count": null,
   "metadata": {},
   "outputs": [],
   "source": [
    "df_weather_stations"
   ]
  },
  {
   "cell_type": "code",
   "execution_count": null,
   "metadata": {},
   "outputs": [],
   "source": [
    "n_measurement_per_station = []\n",
    "latitudes = []\n",
    "longitudes = []\n",
    "df_weather_stations = a2.dataset.stations.add_station_number(df_weather_stations)\n",
    "for i_station in df_weather_stations.station_number.unique():\n",
    "    df_station = a2.dataset.stations.get_dataframe_from_station_number(df_weather_stations, i_station)\n",
    "    lat, long = df_station.latitude.values[0], df_station.longitude.values[0]\n",
    "    n = df_station.shape[0]\n",
    "    latitudes.append(lat)\n",
    "    longitudes.append(long)\n",
    "    n_measurement_per_station.append(n)\n",
    "n_measurement_per_station = np.array(n_measurement_per_station)\n",
    "latitudes = np.array(latitudes)\n",
    "longitudes = np.array(longitudes)"
   ]
  },
  {
   "cell_type": "code",
   "execution_count": null,
   "metadata": {},
   "outputs": [],
   "source": [
    "fig, axes = a2.plotting.utils_plotting.create_figure_axes(aspect=\"equal\", font_size=16)\n",
    "scat = axes.scatter(longitudes, latitudes, c=[x / 35040 for x in n_measurement_per_station])\n",
    "colorbar = plt.colorbar(scat, ax=axes)\n",
    "axes.set_xlabel(\"longitude\")\n",
    "axes.set_ylabel(\"latitude\")\n",
    "ax_colorbar = colorbar.ax\n",
    "ax_colorbar.set_ylabel(\"Data coverage\")\n",
    "a2.plotting.utils_plotting.save_figure(fig, FOLDER_FIGURES / \"weather_station_data_coverage.png\")"
   ]
  },
  {
   "cell_type": "code",
   "execution_count": null,
   "metadata": {},
   "outputs": [],
   "source": [
    "fig = plotly.graph_objects.Figure()\n",
    "marker_dict = dict(\n",
    "    color=n_measurement_per_station,\n",
    "    showscale=True,\n",
    ")\n",
    "fig.add_trace(plotly.graph_objects.Scatter(x=longitudes, y=latitudes, mode=\"markers\", marker=marker_dict))\n",
    "fig.update_yaxes(\n",
    "    scaleanchor=\"x\",\n",
    "    scaleratio=1,\n",
    ")"
   ]
  },
  {
   "cell_type": "code",
   "execution_count": null,
   "metadata": {},
   "outputs": [],
   "source": [
    "ds_stations = a2.dataset.stations.add_station_precipitation(ds, df_weather_stations)\n",
    "ds_stations[\"tp_h_mm\"] = ([\"index\"], ds_stations.tp_h.values * 1e3)"
   ]
  },
  {
   "cell_type": "code",
   "execution_count": null,
   "metadata": {},
   "outputs": [],
   "source": [
    "ds_stations.to_netcdf(\n",
    "    \"2017_2020_tweets_rain_sun_vocab_emojis_locations_bba_Tp_era5_no_bots_normalized_filtered_weather_stations_fix_predicted_simpledeberta_radar.nc\"\n",
    ")"
   ]
  },
  {
   "cell_type": "code",
   "execution_count": null,
   "metadata": {},
   "outputs": [],
   "source": [
    "a2.plotting.weather_maps.plot_tp_station_tweets(\n",
    "    ds_stations,\n",
    "    df_weather_stations,\n",
    "    grid_shape=(5, 2),\n",
    "    delta_time=0.45,\n",
    "    colormap=\"tab20c\",\n",
    "    vmin=0,\n",
    "    vmax=1,\n",
    "    fontsize=14,\n",
    "    xlim=[-5, 1],\n",
    "    ylim=[50, 56],\n",
    "    choice_type=\"increment_time\",\n",
    "    increment_time_value=np.datetime64(\"2020-10-09T07:30:00.000000000\"),\n",
    ")"
   ]
  },
  {
   "cell_type": "code",
   "execution_count": null,
   "metadata": {},
   "outputs": [],
   "source": [
    "ds_stations[\"raining_station\"] = (\n",
    "    [\"index\"],\n",
    "    np.array(ds_stations.station_tp_mm.values > 0, dtype=int),\n",
    ")\n",
    "ds_stations[\"inconsistent_rain\"] = (\n",
    "    [\"index\"],\n",
    "    np.abs(ds_stations.raining.values - ds_stations.raining_station.values),\n",
    ")\n",
    "ds_stations[\"difference_tp\"] = (\n",
    "    [\"index\"],\n",
    "    np.abs(ds_stations.station_tp_mm.values - ds_stations.tp_h.values),\n",
    ")"
   ]
  },
  {
   "cell_type": "code",
   "execution_count": null,
   "metadata": {},
   "outputs": [],
   "source": [
    "ds_stations.to_netcdf(\n",
    "    \"../../data/tweets/2017_2020_tweets_rain_sun_vocab_emojis_locations_bba_Tp_era5_no_bots_normalized_filtered_weather_stations.nc\"\n",
    ")"
   ]
  },
  {
   "cell_type": "code",
   "execution_count": null,
   "metadata": {},
   "outputs": [],
   "source": [
    "df = ds_stations.to_dataframe().dropna(subset=\"station_tp_mm\").reset_index(drop=True)\n",
    "df.dropna(subset=\"station_tp_mm\")\n",
    "df = df.convert_dtypes()\n",
    "df"
   ]
  },
  {
   "cell_type": "code",
   "execution_count": null,
   "metadata": {},
   "outputs": [],
   "source": [
    "hover_keys = [\"text_normalized\"]\n",
    "fig = plotly.express.scatter(\n",
    "    data_frame=df,\n",
    "    x=\"station_tp_mm\",\n",
    "    y=\"tp_h\",\n",
    "    color=\"station_distance_km\",\n",
    "    range_color=[0, 20],\n",
    "    hover_data=hover_keys,\n",
    "    # facet_col=\"inconsistent\",\n",
    "    color_continuous_scale=plotly.express.colors.sequential.Viridis,\n",
    ")\n",
    "fig.show()"
   ]
  },
  {
   "cell_type": "code",
   "execution_count": null,
   "metadata": {},
   "outputs": [],
   "source": [
    "hover_keys = [\"text_normalized\"]\n",
    "fig = plotly.express.scatter(\n",
    "    data_frame=ds_stations.to_dataframe(),\n",
    "    x=\"difference_tp\",\n",
    "    y=\"station_distance_km\",\n",
    "    color=\"raining_station\",\n",
    "    # range_color=[0, 40],\n",
    "    hover_data=hover_keys,\n",
    "    # facet_col=\"inconsistent\",\n",
    "    color_continuous_scale=\"Aggrnyl\",\n",
    ")\n",
    "fig.show()"
   ]
  },
  {
   "cell_type": "code",
   "execution_count": null,
   "metadata": {},
   "outputs": [],
   "source": [
    "# %lprun -f add_station_precipitation add_station_precipitation(ds.sel(index=slice(1000)), df)"
   ]
  },
  {
   "cell_type": "code",
   "execution_count": null,
   "metadata": {},
   "outputs": [],
   "source": [
    "df"
   ]
  },
  {
   "cell_type": "code",
   "execution_count": null,
   "metadata": {},
   "outputs": [],
   "source": [
    "df[\"ob_end_time\"]"
   ]
  },
  {
   "cell_type": "code",
   "execution_count": null,
   "metadata": {},
   "outputs": [],
   "source": [
    "def str_to_delta_time(string):\n",
    "    time, units, _ = re.split(\"([a-zA-Z]+)$\", string)\n",
    "    return float(time), units\n",
    "\n",
    "\n",
    "str_to_delta_time(\"30hasd\")"
   ]
  },
  {
   "cell_type": "code",
   "execution_count": null,
   "metadata": {},
   "outputs": [],
   "source": []
  }
 ],
 "metadata": {
  "kernelspec": {
   "display_name": ".venv",
   "language": "python",
   "name": "python3"
  },
  "language_info": {
   "codemirror_mode": {
    "name": "ipython",
    "version": 3
   },
   "file_extension": ".py",
   "mimetype": "text/x-python",
   "name": "python",
   "nbconvert_exporter": "python",
   "pygments_lexer": "ipython3",
   "version": "3.10.12"
  },
  "vscode": {
   "interpreter": {
    "hash": "06c3f19a037da30281d10f8fbda7f2df02465bd919ed005b52297a6fc2623835"
   }
  }
 },
 "nbformat": 4,
 "nbformat_minor": 2
}
