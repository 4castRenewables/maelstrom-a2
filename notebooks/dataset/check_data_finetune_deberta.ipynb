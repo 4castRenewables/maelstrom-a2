{
 "cells": [
  {
   "cell_type": "code",
   "execution_count": null,
   "metadata": {},
   "outputs": [],
   "source": [
    "# allows update of external libraries without need to reload package\n",
    "%load_ext autoreload\n",
    "%autoreload 2"
   ]
  },
  {
   "cell_type": "code",
   "execution_count": null,
   "metadata": {},
   "outputs": [],
   "source": [
    "import os\n",
    "import pathlib\n",
    "import numpy as np\n",
    "import matplotlib.pyplot as plt\n",
    "import logging\n",
    "\n",
    "import a2.training.training_hugging\n",
    "import a2.training.evaluate_hugging\n",
    "import a2.training.dataset_hugging\n",
    "import a2.dataset\n",
    "import a2.utils\n",
    "import a2.plotting\n",
    "\n",
    "logging.basicConfig(\n",
    "    format=\"%(asctime)s.%(msecs)03d %(levelname)-8s %(message)s\", level=logging.INFO, datefmt=\"%Y-%m-%d %H:%M:%S\"\n",
    ")"
   ]
  },
  {
   "cell_type": "code",
   "execution_count": null,
   "metadata": {},
   "outputs": [],
   "source": [
    "FOLDER_DATA = \"/home/kristian/Projects/a2/data/\"\n",
    "FOLDER_TWEETS = FOLDER_DATA + \"tweets/\"\n",
    "# FILE_TWEETS = FOLDER_TWEETS + \"2017_2020_tweets_rain_sun_vocab_emojis_locations_bba_Tp_era5_no_bots_normalized_filtered_weather_stations_fix_predicted_simpledeberta_radar.nc\"\n",
    "FILE_TWEETS = \"/tmp/dataset_rain_classifier//dataset_split_thresh6M3//Weather_stations_2017_2020_tweets_rain_sun_vocab_emojis_locations_bba_Tp_era5_no_bots_normalized_filtered_weather_stations_fix_predicted_simpledeberta_radar.nc\"\n",
    "FILE_TWEETS = \"../../data/bootcamp2023/tweets/tweets_2017_01_era5_normed_filtered.nc\"\n",
    "!ls $FILE_TWEETS"
   ]
  },
  {
   "cell_type": "code",
   "execution_count": null,
   "metadata": {},
   "outputs": [],
   "source": [
    "FOLDER_TWEETS = FOLDER_DATA + \"tweets/\"\n",
    "# FILE_TWEETS = pathlib.Path(\"/tmp/dataset_rain_classifier//dataset_split_thresh6M3///tweets_2017_era5_normed_filtered_train.nc\")\n",
    "FILE_TWEETS = pathlib.Path(\"/home/kristian/Projects/a2/data/bootcamp2023/tweets/tweets_2017_era5_normed_filtered.nc\")\n",
    "\n",
    "os.environ[\"A2_DATASET_BACKEND\"] = \"xarray\"\n",
    "ds = a2.dataset.load_dataset.load_tweets_dataset(FILE_TWEETS)  # , index_col=\"Unnamed: 0\")\n",
    "ds"
   ]
  },
  {
   "cell_type": "code",
   "execution_count": null,
   "metadata": {},
   "outputs": [],
   "source": [
    "!ls -tlhr $FILE_TWEETS"
   ]
  },
  {
   "cell_type": "code",
   "execution_count": null,
   "metadata": {},
   "outputs": [],
   "source": [
    "FOLDER_TWEETS = FOLDER_DATA + \"tweets/\"\n",
    "FILE_TWEETS_CSV = FILE_TWEETS.with_suffix(\".csv\")\n",
    "os.environ[\"A2_DATASET_BACKEND\"] = \"pandas\"\n",
    "df = a2.dataset.load_dataset.load_tweets_dataset(FILE_TWEETS_CSV)  # , index_col=\"Unnamed: 0\")\n",
    "df"
   ]
  },
  {
   "cell_type": "code",
   "execution_count": null,
   "metadata": {},
   "outputs": [],
   "source": [
    "df[\"raining\"].isna().sum()"
   ]
  },
  {
   "cell_type": "code",
   "execution_count": null,
   "metadata": {},
   "outputs": [],
   "source": [
    "a2.dataset.utils_dataset.is_nan(ds, \"raining\").values.sum()"
   ]
  },
  {
   "cell_type": "code",
   "execution_count": null,
   "metadata": {},
   "outputs": [],
   "source": [
    "df.shape[0], ds[\"index\"].shape[0]"
   ]
  },
  {
   "cell_type": "code",
   "execution_count": null,
   "metadata": {},
   "outputs": [],
   "source": [
    "a2.dataset.utils_dataset.is_nan(ds, \"station_distance_km\").values.sum()"
   ]
  },
  {
   "cell_type": "code",
   "execution_count": null,
   "metadata": {},
   "outputs": [],
   "source": [
    "os.environ[\"A2_DATASET_BACKEND\"] = \"xarray\"\n",
    "ds = a2.dataset.utils_dataset.add_variable(\n",
    "    ds=ds, key=\"raining\", coordinate=[\"index\"], values=np.array(ds[\"tp_h_mm\"].values > 6e-3, int)\n",
    ")\n",
    "a2.plotting.histograms.plot_histogram_2d(\"raining_station\", \"raining\", df=ds, drop_nan=True, n_bins=2, annotate=True)"
   ]
  },
  {
   "cell_type": "code",
   "execution_count": null,
   "metadata": {},
   "outputs": [],
   "source": [
    "os.environ[\"A2_DATASET_BACKEND\"] = \"pandas\"\n",
    "df = a2.dataset.utils_dataset.add_variable(\n",
    "    ds=df, key=\"raining\", coordinate=[\"index\"], values=np.array(df[\"tp_h_mm\"].values > 6e-3, int)\n",
    ")\n",
    "a2.plotting.histograms.plot_histogram_2d(\"raining_station\", \"raining\", df=df, drop_nan=True, n_bins=2, annotate=True)"
   ]
  },
  {
   "cell_type": "code",
   "execution_count": null,
   "metadata": {},
   "outputs": [],
   "source": [
    "ds"
   ]
  },
  {
   "cell_type": "code",
   "execution_count": null,
   "metadata": {},
   "outputs": [],
   "source": [
    "ds.station_tp_mm.plot.hist();"
   ]
  },
  {
   "cell_type": "code",
   "execution_count": null,
   "metadata": {},
   "outputs": [],
   "source": [
    "a2.plotting.histograms.plot_histogram(\"station_tp_mm\", ds)"
   ]
  },
  {
   "cell_type": "code",
   "execution_count": null,
   "metadata": {},
   "outputs": [],
   "source": [
    "m = ds.tp_h_mm != ds.tp_h * 1e3\n",
    "ds.tp_h_mm[m]"
   ]
  },
  {
   "cell_type": "code",
   "execution_count": null,
   "metadata": {},
   "outputs": [],
   "source": [
    "a2.plotting.histograms.plot_histogram(\"tp_h_mm\", df=ds, log=[\"symlog\", \"log\"])"
   ]
  },
  {
   "cell_type": "code",
   "execution_count": null,
   "metadata": {},
   "outputs": [],
   "source": [
    "a2.plotting.histograms.plot_histogram_2d(\n",
    "    \"tp_h_mm\", \"station_tp_mm\", df=ds, log=[\"symlog\", False], ylim=[0, 1], drop_nan=True\n",
    ");"
   ]
  },
  {
   "cell_type": "code",
   "execution_count": null,
   "metadata": {},
   "outputs": [],
   "source": [
    "ds_small = a2.dataset.load_dataset.load_tweets_dataset(\n",
    "    \"/home/kristian/Projects/a2/data/bootcamp2023/tweets/tweets_2017_01_era5_normed_filtered.nc\"\n",
    ")"
   ]
  },
  {
   "cell_type": "code",
   "execution_count": null,
   "metadata": {},
   "outputs": [],
   "source": [
    "ds.station_tp_mm.plot.hist()"
   ]
  },
  {
   "cell_type": "code",
   "execution_count": null,
   "metadata": {},
   "outputs": [],
   "source": []
  }
 ],
 "metadata": {
  "kernelspec": {
   "display_name": ".venv",
   "language": "python",
   "name": "python3"
  },
  "language_info": {
   "codemirror_mode": {
    "name": "ipython",
    "version": 3
   },
   "file_extension": ".py",
   "mimetype": "text/x-python",
   "name": "python",
   "nbconvert_exporter": "python",
   "pygments_lexer": "ipython3",
   "version": "3.10.12"
  }
 },
 "nbformat": 4,
 "nbformat_minor": 2
}
