{
 "cells": [
  {
   "cell_type": "markdown",
   "metadata": {},
   "source": [
    "# Download era5 data from Copernicus\n",
    "\n",
    "Using the CDS API via python package `cdsapi`, era-5-land data can be downloaded with this notebook. "
   ]
  },
  {
   "cell_type": "code",
   "execution_count": null,
   "metadata": {},
   "outputs": [],
   "source": [
    "# allows update of external libraries without need to reload package\n",
    "%load_ext autoreload\n",
    "%autoreload 2"
   ]
  },
  {
   "cell_type": "code",
   "execution_count": null,
   "metadata": {},
   "outputs": [],
   "source": [
    "import cdsapi\n",
    "\n",
    "import zipfile\n",
    "import numpy as np\n",
    "import a2.dataset.load_dataset"
   ]
  },
  {
   "cell_type": "code",
   "execution_count": null,
   "metadata": {},
   "outputs": [],
   "source": [
    "month = [f\"{x:02}\" for x in range(1, 13)]\n",
    "month"
   ]
  },
  {
   "cell_type": "code",
   "execution_count": null,
   "metadata": {},
   "outputs": [],
   "source": [
    "c = cdsapi.Client()\n",
    "month = [f\"{x:02}\" for x in range(1, 13)]\n",
    "years = [\"2015\", \"2016\"]\n",
    "for year in years:\n",
    "    filename = f\"reanalysis-era5-land-{year}-{month[0]}--{month[-1]}\"\n",
    "    c.retrieve(\n",
    "        \"reanalysis-era5-land\",\n",
    "        {\n",
    "            \"variable\": \"total_precipitation\",\n",
    "            \"year\": year,\n",
    "            \"month\": month,\n",
    "            \"day\": [\n",
    "                \"01\",\n",
    "                \"02\",\n",
    "                \"03\",\n",
    "                \"04\",\n",
    "                \"05\",\n",
    "                \"06\",\n",
    "                \"07\",\n",
    "                \"08\",\n",
    "                \"09\",\n",
    "                \"10\",\n",
    "                \"11\",\n",
    "                \"12\",\n",
    "                \"13\",\n",
    "                \"14\",\n",
    "                \"15\",\n",
    "                \"16\",\n",
    "                \"17\",\n",
    "                \"18\",\n",
    "                \"19\",\n",
    "                \"20\",\n",
    "                \"21\",\n",
    "                \"22\",\n",
    "                \"23\",\n",
    "                \"24\",\n",
    "                \"25\",\n",
    "                \"26\",\n",
    "                \"27\",\n",
    "                \"28\",\n",
    "                \"29\",\n",
    "                \"30\",\n",
    "                \"31\",\n",
    "            ],\n",
    "            \"time\": [\n",
    "                \"00:00\",\n",
    "                \"01:00\",\n",
    "                \"02:00\",\n",
    "                \"03:00\",\n",
    "                \"04:00\",\n",
    "                \"05:00\",\n",
    "                \"06:00\",\n",
    "                \"07:00\",\n",
    "                \"08:00\",\n",
    "                \"09:00\",\n",
    "                \"10:00\",\n",
    "                \"11:00\",\n",
    "                \"12:00\",\n",
    "                \"13:00\",\n",
    "                \"14:00\",\n",
    "                \"15:00\",\n",
    "                \"16:00\",\n",
    "                \"17:00\",\n",
    "                \"18:00\",\n",
    "                \"19:00\",\n",
    "                \"20:00\",\n",
    "                \"21:00\",\n",
    "                \"22:00\",\n",
    "                \"23:00\",\n",
    "            ],\n",
    "            \"area\": [\n",
    "                61,\n",
    "                -9,\n",
    "                49,\n",
    "                3,\n",
    "            ],\n",
    "            \"format\": \"netcdf.zip\",\n",
    "        },\n",
    "        f\"{filename}.netcdf.zip\",\n",
    "    )"
   ]
  },
  {
   "cell_type": "code",
   "execution_count": null,
   "metadata": {},
   "outputs": [],
   "source": [
    "filename = \"reanalysis-era5-land-2015-01--12\"\n",
    "filename_zipped = f\"{filename}.netcdf.zip\"\n",
    "directory_to_extract_to = f\"{filename}\"\n",
    "with zipfile.ZipFile(filename_zipped, \"r\") as zip_ref:\n",
    "    zip_ref.extractall(directory_to_extract_to)"
   ]
  },
  {
   "cell_type": "code",
   "execution_count": null,
   "metadata": {},
   "outputs": [],
   "source": [
    "ds = a2.dataset.load_dataset.load_tweets_dataset(\n",
    "    \"/home/kristian/Projects/a2/notebooks/dataset/reanalysis-era5-land-2014-01--12/data.nc\"\n",
    ")"
   ]
  },
  {
   "cell_type": "code",
   "execution_count": null,
   "metadata": {},
   "outputs": [],
   "source": [
    "ds[\"tp\"].sel(time=np.datetime64(\"2014-01-01T12:00:00.000000000\")).plot()"
   ]
  },
  {
   "cell_type": "code",
   "execution_count": null,
   "metadata": {},
   "outputs": [],
   "source": [
    "all_files = a2.utils.file_handling.get_all_files(\"reanalysis-era5-land-20*-01--12/data.nc\")\n",
    "all_files"
   ]
  },
  {
   "cell_type": "code",
   "execution_count": null,
   "metadata": {},
   "outputs": [],
   "source": [
    "ds_all = a2.dataset.load_dataset.load_multifile_dataset(all_files)"
   ]
  },
  {
   "cell_type": "code",
   "execution_count": null,
   "metadata": {},
   "outputs": [],
   "source": [
    "ds_all[\"tp\"].sel(time=np.datetime64(\"2015-01-01T12:00:00.000000000\")).plot()"
   ]
  },
  {
   "cell_type": "code",
   "execution_count": null,
   "metadata": {},
   "outputs": [],
   "source": [
    "a2.dataset.load_dataset.save_dataset(\n",
    "    ds_all,\n",
    "    \"reanalysis-era5-land-2014-2016_RAW.nc\",\n",
    "    no_conversion=True,\n",
    ")"
   ]
  }
 ],
 "metadata": {
  "kernelspec": {
   "display_name": ".venv",
   "language": "python",
   "name": "python3"
  },
  "language_info": {
   "codemirror_mode": {
    "name": "ipython",
    "version": 3
   },
   "file_extension": ".py",
   "mimetype": "text/x-python",
   "name": "python",
   "nbconvert_exporter": "python",
   "pygments_lexer": "ipython3",
   "version": "3.10.6"
  }
 },
 "nbformat": 4,
 "nbformat_minor": 2
}
