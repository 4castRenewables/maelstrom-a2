{
 "cells": [
  {
   "attachments": {},
   "cell_type": "markdown",
   "id": "05131423-691c-4a68-8980-bbc0ec55ec2a",
   "metadata": {
    "tags": []
   },
   "source": [
    "# To be able to train models, weather information needs to be assigned to tweets   \n",
    "- Here, we determine location of tweet and assign corresponding weather data from records (according to location and time)\n",
    "- In addition, we check for outliers and other sources of contamination"
   ]
  },
  {
   "cell_type": "code",
   "execution_count": null,
   "id": "de5f54ea-2851-45ae-9989-b3822e2ae338",
   "metadata": {},
   "outputs": [],
   "source": [
    "# allows update of external libraries without need to reload package\n",
    "%load_ext autoreload\n",
    "%autoreload 2"
   ]
  },
  {
   "cell_type": "code",
   "execution_count": null,
   "id": "c4ad1874-d5ef-4c35-adbe-04f01f545fa8",
   "metadata": {},
   "outputs": [],
   "source": [
    "import os\n",
    "import pathlib\n",
    "import logging\n",
    "\n",
    "import warnings\n",
    "\n",
    "logging.basicConfig(level=logging.INFO)\n",
    "import json\n",
    "import os\n",
    "import glob\n",
    "import functools\n",
    "import multiprocessing\n",
    "import datetime\n",
    "import gc\n",
    "\n",
    "import numpy as np\n",
    "import pandas as pd\n",
    "import matplotlib.pyplot as plt\n",
    "import matplotlib.colors\n",
    "import tqdm\n",
    "import xarray\n",
    "\n",
    "import tweepy\n",
    "import pyproj\n",
    "import shapely.geometry\n",
    "\n",
    "import a2.twitter.locations\n",
    "import a2.dataset.load_dataset\n",
    "import a2.dataset.utils_dataset\n",
    "import a2.utils\n",
    "import a2.plotting\n",
    "import a2.preprocess.normalize_text"
   ]
  },
  {
   "cell_type": "code",
   "execution_count": null,
   "id": "c66fd999",
   "metadata": {},
   "outputs": [],
   "source": [
    "all_files = [\"tweets_no_keywords_2020-02-13T00:00:00.000Z_2020-02-14T00:00:00.json\"]\n",
    "all_files = a2.utils.file_handling.get_all_files(\"tweets_[0-9]*.json\")\n",
    "figure_path = pathlib.Path(\"../../figures/data/rain/\")\n",
    "\n",
    "filename_base = \"tweets_no_keywords_2014-2016_locations\""
   ]
  },
  {
   "cell_type": "code",
   "execution_count": null,
   "id": "6e0ae147",
   "metadata": {},
   "outputs": [],
   "source": [
    "all_files"
   ]
  },
  {
   "cell_type": "code",
   "execution_count": null,
   "id": "7a2c8229-783a-496e-b525-09f09e8f86c4",
   "metadata": {},
   "outputs": [],
   "source": [
    "ds = a2.dataset.load_dataset.load_tweets_dataframe_from_jsons(all_files).to_xarray()\n",
    "ds[\"created_at\"] = ([\"index\"], pd.to_datetime(ds.created_at).values)"
   ]
  },
  {
   "cell_type": "code",
   "execution_count": null,
   "id": "13ed8efc",
   "metadata": {},
   "outputs": [],
   "source": [
    "ds"
   ]
  },
  {
   "attachments": {},
   "cell_type": "markdown",
   "id": "200f9715-1dcb-4ed2-a823-9890942c78a7",
   "metadata": {},
   "source": [
    "## Analysis Tweets with tagged location"
   ]
  },
  {
   "attachments": {},
   "cell_type": "markdown",
   "id": "dfb5144f-e7a9-4473-b10a-9cbb1859f0c8",
   "metadata": {},
   "source": [
    "Many tweets share the same location!!"
   ]
  },
  {
   "cell_type": "code",
   "execution_count": null,
   "id": "187c9c47-3ebf-427c-85d2-94d3e9109990",
   "metadata": {},
   "outputs": [],
   "source": [
    "places = (\n",
    "    ds.where(\n",
    "        ~a2.dataset.utils_dataset.is_nan(ds, \"geo.coordinates.coordinates\"),\n",
    "        drop=True,\n",
    "    )\n",
    "    .groupby(\"geo.place_id\")\n",
    "    .count()\n",
    "    .sortby(\"id\", ascending=False)\n",
    ")"
   ]
  },
  {
   "cell_type": "code",
   "execution_count": null,
   "id": "8d943325-cf37-4726-ac55-9b415630d943",
   "metadata": {},
   "outputs": [],
   "source": [
    "times_visited = places[\"id\"]\n",
    "y, x, _ = plt.hist(times_visited, bins=100, log=True);"
   ]
  },
  {
   "cell_type": "code",
   "execution_count": null,
   "id": "19d79ca8-d879-4987-bffb-1b424dd87ba8",
   "metadata": {},
   "outputs": [],
   "source": [
    "fig = plt.figure()\n",
    "ax = plt.gca()\n",
    "ax.plot(np.cumsum(times_visited))\n",
    "ax.set_xscale(\"log\")\n",
    "ax.set_yscale(\"log\")\n",
    "ax.set_xlabel(\"number of locations\")\n",
    "ax.axvline(100)\n",
    "ax.set_ylabel(\"cumulative number of tweets covered\")\n",
    "ax.set_xlim([1, None]);"
   ]
  },
  {
   "cell_type": "code",
   "execution_count": null,
   "id": "c2a7205e-1410-4354-a97a-e2b563b9812a",
   "metadata": {},
   "outputs": [],
   "source": [
    "print(\n",
    "    f'tweets with tracking activated {ds.where(~a2.dataset.utils_dataset.is_nan(ds, \"geo.coordinates.coordinates\"), drop=True)[\"index\"].shape[0]} and {ds.where(a2.dataset.utils_dataset.is_nan(ds, \"geo.coordinates.coordinates\"), drop=True)[\"index\"].shape[0]} are tagged. Places with location and place_id {ds.where(~a2.dataset.utils_dataset.is_nan(ds, \"geo.coordinates.coordinates\") & ~a2.dataset.utils_dataset.is_nan(ds, \"geo.place_id\"), drop=True)[\"index\"].shape[0]}'\n",
    ")"
   ]
  },
  {
   "cell_type": "code",
   "execution_count": null,
   "id": "873123a6-9895-4afe-821f-c96e4c56a48e",
   "metadata": {},
   "outputs": [],
   "source": [
    "ds = a2.twitter.locations.add_locations(\n",
    "    ds,\n",
    "    filename_location=\"locations.json\",\n",
    "    filename_location_not_found=\"locations_not_found.csv\",\n",
    "    download=True,\n",
    "    key_place_id=\"geo.place_id\",\n",
    "    key_coordinates=\"geo.coordinates.coordinates\",\n",
    ")"
   ]
  },
  {
   "cell_type": "code",
   "execution_count": null,
   "id": "33036094-5eb9-487f-84a0-6b8732145290",
   "metadata": {},
   "outputs": [],
   "source": [
    "ds.created_at.min()"
   ]
  },
  {
   "cell_type": "code",
   "execution_count": null,
   "id": "14adfd41-f68e-4ff9-bb0f-410e4f7c4631",
   "metadata": {},
   "outputs": [],
   "source": [
    "a2.dataset.load_dataset.save_dataset(\n",
    "    ds,\n",
    "    f\"{filename_base}.nc\",\n",
    "    add_attributes=\"added locations\",\n",
    "    no_conversion=False,\n",
    ")"
   ]
  },
  {
   "cell_type": "code",
   "execution_count": null,
   "id": "26531002-b514-47cb-9751-1951ad80b18d",
   "metadata": {},
   "outputs": [],
   "source": [
    "ds_loc = a2.dataset.load_dataset.load_tweets_dataset(\n",
    "    f\"{filename_base}.nc\",\n",
    "    raw=True,\n",
    ")"
   ]
  },
  {
   "cell_type": "code",
   "execution_count": null,
   "id": "30ee28cc-3d67-4dc5-bb70-3ae4593b827b",
   "metadata": {},
   "outputs": [],
   "source": [
    "ds_lj = pd.read_json(\"locations.json\").to_xarray()"
   ]
  },
  {
   "cell_type": "code",
   "execution_count": null,
   "id": "c070f46c-95fc-4828-a755-f538fdad5028",
   "metadata": {},
   "outputs": [],
   "source": [
    "np.sum(a2.dataset.utils_dataset.is_nan(ds_lj, \"centroid\"))"
   ]
  },
  {
   "cell_type": "code",
   "execution_count": null,
   "id": "ccbdcec4-bbae-4afe-b866-9224da511530",
   "metadata": {},
   "outputs": [],
   "source": [
    "ds_lj[\"centroid\"] = (\n",
    "    [\"index\"],\n",
    "    np.array([str(x) for x in ds_lj.centroid.values]),\n",
    ")"
   ]
  },
  {
   "cell_type": "code",
   "execution_count": null,
   "id": "e21d3e08-bfdc-4746-b610-a510bfbb513f",
   "metadata": {},
   "outputs": [],
   "source": [
    "ds_lj_g_cen = a2.dataset.utils_dataset.dataset_groupby(ds_lj, \"centroid\")"
   ]
  },
  {
   "cell_type": "code",
   "execution_count": null,
   "id": "05f8ea1c-2e4b-4876-893e-ba39fa937342",
   "metadata": {},
   "outputs": [],
   "source": [
    "ds_lj_g_cen"
   ]
  },
  {
   "attachments": {},
   "cell_type": "markdown",
   "id": "ea6c856f-5c7c-47eb-a397-b9052731aafb",
   "metadata": {},
   "source": [
    "## Analysis tagged/tracked Tweets\n",
    "GPS tracked Tweets have empty strings `''` in place of location tagged Tweets. "
   ]
  },
  {
   "cell_type": "code",
   "execution_count": null,
   "id": "e79a215a-9d20-4d9d-a408-8f6e07c99088",
   "metadata": {},
   "outputs": [],
   "source": [
    "ds_tweets_without_location = ds_loc.where(\n",
    "    (a2.dataset.utils_dataset.is_na(ds_loc, \"centroid\"))\n",
    "    & (a2.dataset.utils_dataset.is_na(ds_loc, \"geo.coordinates.coordinates\")),\n",
    "    drop=True,\n",
    ")\n",
    "n_tweets_without_location = ds_tweets_without_location.index.shape[0]\n",
    "print(\n",
    "    f\"Total number of Tweets: {ds_loc['index'].shape[0]}, Tweets with tagged location: {ds_loc.where(~a2.dataset.utils_dataset.is_na(ds_loc, 'centroid'), drop=True)['index'].shape[0]}, tweets with GPS tracked location {ds_loc.where(~a2.dataset.utils_dataset.is_na(ds_loc, 'geo.coordinates.coordinates'), drop=True).index.shape[0]} location missing for {n_tweets_without_location}\"\n",
    ")"
   ]
  },
  {
   "cell_type": "code",
   "execution_count": null,
   "id": "1a834b0e-9500-4cd2-adb5-8d9e8b0eb2e5",
   "metadata": {},
   "outputs": [],
   "source": [
    "ds_loc.where(ds_loc.coordinates_estimated == True).groupby(\"place_type\").count().plot.scatter(y=\"id\", x=\"place_type\")\n",
    "ax = plt.gca()\n",
    "ax.tick_params(axis=\"x\", labelrotation=0)\n",
    "ax.set_yscale(\"log\")\n",
    "ax.set_xlabel(\"occurence of place_type when no coords given\")\n",
    "ax.set_ylabel(\"count\");"
   ]
  },
  {
   "attachments": {},
   "cell_type": "markdown",
   "id": "3cbe65d8-62c1-4654-a9c3-6d31182459e2",
   "metadata": {},
   "source": [
    "## Computing area of central bounding box for tagged Tweets"
   ]
  },
  {
   "cell_type": "code",
   "execution_count": null,
   "id": "8d03568f-400b-4c8c-8097-5fb49fda1ca8",
   "metadata": {},
   "outputs": [],
   "source": [
    "# requires conversion of bounding box in str format to dict\n",
    "ds_loc[\"bounding_box\"] = (\n",
    "    [\"index\"],\n",
    "    a2.dataset.load_dataset.convert_str_to_dict(ds_loc[\"bounding_box\"].values),\n",
    ")"
   ]
  },
  {
   "cell_type": "code",
   "execution_count": null,
   "id": "54c79fec-92ba-4625-9588-f89cfe1dbfa3",
   "metadata": {},
   "outputs": [],
   "source": [
    "pd.isnull(ds_loc.bounding_box.values[0])"
   ]
  },
  {
   "cell_type": "code",
   "execution_count": null,
   "id": "77371afb-6e61-4a31-a78f-bb31678817e8",
   "metadata": {},
   "outputs": [],
   "source": [
    "ds_loc[\"bounding_box_area\"] = (\n",
    "    [\"index\"],\n",
    "    a2.twitter.locations.compute_area_bounding_box(ds_loc.bounding_box.values),\n",
    ")"
   ]
  },
  {
   "cell_type": "code",
   "execution_count": null,
   "id": "41a6ec0f-7112-4366-92cf-51f043f868d2",
   "metadata": {},
   "outputs": [],
   "source": [
    "ds_loc[\"bounding_box_area\"].plot.hist(bins=np.logspace(np.log10(1e-1), np.log10(1e6), 50))\n",
    "ax = plt.gca()\n",
    "ax.set_xscale(\"log\")\n",
    "ax.set_xlabel(\"size of bounding box [km$^2$]\")\n",
    "ax.set_ylabel(\"count of tweets\");"
   ]
  },
  {
   "cell_type": "code",
   "execution_count": null,
   "id": "d3473e51-b352-4db3-a274-f9d28f9469e2",
   "metadata": {},
   "outputs": [],
   "source": [
    "print(\n",
    "    f\"tweets with coordinates or tagged with place, which is smaller than 100 km^2: {ds_loc.where((ds_loc.bounding_box_area < 100) & (ds_loc.bounding_box_area > 0) & (ds_loc['geo.coordinates.coordinates'] == 'nan'), drop=True)['index'].shape[0]} and larger for {ds_loc.where((ds_loc.bounding_box_area > 100) & (ds_loc['geo.coordinates.coordinates'] == 'nan'), drop=True)['index'].shape[0]}\"\n",
    ")"
   ]
  },
  {
   "cell_type": "code",
   "execution_count": null,
   "id": "b75e0069-5526-4884-96ef-dc30a77bc2d2",
   "metadata": {},
   "outputs": [],
   "source": [
    "a2.dataset.load_dataset.save_dataset(\n",
    "    ds_loc,\n",
    "    f\"{filename_base}_bba.nc\",\n",
    "    add_attributes=\",computed bounding box area\",\n",
    "    no_conversion=False,\n",
    ")"
   ]
  },
  {
   "attachments": {},
   "cell_type": "markdown",
   "id": "952699eb-2e71-470a-a979-a77978d8facb",
   "metadata": {},
   "source": [
    "## Reload saved twitter dataset"
   ]
  },
  {
   "cell_type": "code",
   "execution_count": null,
   "id": "335d780b-9c47-4ec6-b4ce-8af839aa1ce4",
   "metadata": {},
   "outputs": [],
   "source": [
    "ds_twit = a2.dataset.load_dataset.load_tweets_dataset(\n",
    "    f\"{filename_base}_bba.nc\",\n",
    "    raw=True,\n",
    ")"
   ]
  },
  {
   "cell_type": "code",
   "execution_count": null,
   "id": "5431bc2d-eede-4df6-9b67-382cb6c11f11",
   "metadata": {},
   "outputs": [],
   "source": [
    "print(\n",
    "    f\"found no location for {ds_twit.where((a2.dataset.utils_dataset.is_na(ds_twit, 'geo.coordinates.coordinates')) & (a2.dataset.utils_dataset.is_na(ds_twit, 'centroid')), drop=True).index.shape[0]} tweets\"\n",
    ")"
   ]
  },
  {
   "cell_type": "code",
   "execution_count": null,
   "id": "95d9c461-be6b-4c13-b91f-493a2c62dba9",
   "metadata": {},
   "outputs": [],
   "source": [
    "# remove tweets without specified location\n",
    "ds_twit_loc = ds_twit.where(\n",
    "    (~a2.dataset.utils_dataset.is_na(ds_twit, \"geo.coordinates.coordinates\"))\n",
    "    | (~a2.dataset.utils_dataset.is_na(ds_twit, \"centroid\")),\n",
    "    drop=True,\n",
    ")\n",
    "ds_twit_loc = a2.dataset.load_dataset.reset_index_coordinate(ds_twit_loc)"
   ]
  },
  {
   "cell_type": "code",
   "execution_count": null,
   "id": "21658c52-1f61-48e2-8590-6b5deb4c9b74",
   "metadata": {},
   "outputs": [],
   "source": [
    "print(f\"removed {ds_twit.index.shape[0] - ds_twit_loc.index.shape[0]} Tweets\")"
   ]
  },
  {
   "attachments": {},
   "cell_type": "markdown",
   "id": "c494a37a-5e92-4cde-8fd1-adffa2d046c8",
   "metadata": {},
   "source": [
    "## Convert centroid and coordinates to latitude and longitude"
   ]
  },
  {
   "cell_type": "code",
   "execution_count": null,
   "id": "618ba906-4212-40c0-aaca-68511c57e1c5",
   "metadata": {},
   "outputs": [],
   "source": [
    "ds_twit_loc = a2.twitter.locations.convert_coordinates_to_lat_long(\n",
    "    ds_twit_loc,\n",
    "    key_coordinates=\"centroid\",\n",
    "    prefix_lat_long=\"centroid_\",\n",
    "    overwrite=True,\n",
    ")"
   ]
  },
  {
   "cell_type": "code",
   "execution_count": null,
   "id": "0d3db66a-14be-46a1-8841-17d6ed52d433",
   "metadata": {},
   "outputs": [],
   "source": [
    "ds_twit_loc = a2.twitter.locations.convert_coordinates_to_lat_long(\n",
    "    ds_twit_loc,\n",
    "    key_coordinates=\"geo.coordinates.coordinates\",\n",
    "    prefix_lat_long=\"\",\n",
    "    overwrite=True,\n",
    ")"
   ]
  },
  {
   "cell_type": "code",
   "execution_count": null,
   "id": "85907745-608a-4e75-bba4-244b4949e159",
   "metadata": {},
   "outputs": [],
   "source": [
    "mask = a2.dataset.utils_dataset.is_nan(ds_twit_loc, \"longitude\") | a2.dataset.utils_dataset.is_nan(\n",
    "    ds_twit_loc, \"latitude\"\n",
    ")\n",
    "ds_twit_loc[\"latitude\"].loc[mask] = ds_twit_loc[\"centroid_latitude\"].loc[mask]\n",
    "ds_twit_loc[\"longitude\"].loc[mask] = ds_twit_loc[\"centroid_longitude\"].loc[mask]"
   ]
  },
  {
   "cell_type": "code",
   "execution_count": null,
   "id": "2ce5f6c9-98e8-4cb8-b806-3a7194d3c7df",
   "metadata": {},
   "outputs": [],
   "source": [
    "print(\n",
    "    f\"tweets not created in years 2014-2016: {ds_twit_loc.where((ds_twit_loc.created_at < pd.to_datetime(['2014-01-01']).values) | (ds_twit_loc.created_at > pd.to_datetime(['2017-01-01']).values), drop=True)['index'].shape[0]}\"\n",
    ")"
   ]
  },
  {
   "cell_type": "code",
   "execution_count": null,
   "id": "d7029117-1459-4532-9e5d-1db1a76e79fc",
   "metadata": {},
   "outputs": [],
   "source": [
    "print(\n",
    "    f\"tweet without specified latitude or longitude: {ds_twit_loc.where(a2.dataset.utils_dataset.is_na(ds_twit_loc, 'longitude') | a2.dataset.utils_dataset.is_na(ds_twit_loc, 'latitude'), drop=True).index.shape[0]}\"\n",
    ")"
   ]
  },
  {
   "cell_type": "code",
   "execution_count": null,
   "id": "c1bd3d81-495e-4433-becf-246c46416f3e",
   "metadata": {},
   "outputs": [],
   "source": [
    "ds_twit_loc[\"latitude_rounded\"] = (\n",
    "    \"index\",\n",
    "    ds_twit_loc[\"latitude\"].astype(float).values.round(decimals=1),\n",
    ")\n",
    "ds_twit_loc[\"longitude_rounded\"] = (\n",
    "    \"index\",\n",
    "    ds_twit_loc[\"longitude\"].astype(float).values.round(decimals=1),\n",
    ")"
   ]
  },
  {
   "cell_type": "code",
   "execution_count": null,
   "id": "410344f9-6817-4da0-ab1c-920e0f6aaef2",
   "metadata": {},
   "outputs": [],
   "source": [
    "ds_twit_loc[\"created_at_h\"] = (\n",
    "    \"index\",\n",
    "    pd.to_datetime(ds_twit_loc.created_at).round(\"1h\").values,\n",
    ")"
   ]
  },
  {
   "cell_type": "code",
   "execution_count": null,
   "id": "515871de",
   "metadata": {},
   "outputs": [],
   "source": [
    "ds_twit_loc"
   ]
  },
  {
   "cell_type": "code",
   "execution_count": null,
   "id": "cccc4a72-3006-4a74-8291-5c1498ddc300",
   "metadata": {},
   "outputs": [],
   "source": [
    "a2.dataset.load_dataset.save_dataset(\n",
    "    ds_twit_loc,\n",
    "    f\"{filename_base}_locations_bba_prepTp.nc\",\n",
    "    add_attributes=\", prepared for combining with tp\",\n",
    ")"
   ]
  },
  {
   "attachments": {},
   "cell_type": "markdown",
   "id": "37f5311a-7092-48f2-a1eb-804c530166c3",
   "metadata": {},
   "source": [
    "## Convert weather data from cumulative to precipitation per hour"
   ]
  },
  {
   "cell_type": "code",
   "execution_count": null,
   "id": "c7db70ea-9149-4ef3-922d-7695e411dd97",
   "metadata": {},
   "outputs": [],
   "source": [
    "# ds_tp_raw = a2.dataset.load_dataset.load_tweets_dataset(\n",
    "#     \"../../data/precipitation/ds_prec_era5_uk_2017-2020_RAW.nc\", raw=True\n",
    "# )\n",
    "ds_tp_raw = a2.dataset.load_dataset.load_tweets_dataset(\"reanalysis-era5-land-2014-2016_RAW.nc\", raw=True)"
   ]
  },
  {
   "cell_type": "code",
   "execution_count": null,
   "id": "a179eaf0-bb51-499f-aadc-60520bc41fdb",
   "metadata": {},
   "outputs": [],
   "source": [
    "ds_tp_raw"
   ]
  },
  {
   "cell_type": "code",
   "execution_count": null,
   "id": "b2920fdd-2dc7-47d7-89a5-cf3c8a31061b",
   "metadata": {},
   "outputs": [],
   "source": [
    "def create_uncumulative_dataset(\n",
    "    ds,\n",
    "    key=\"tp\",\n",
    "    time=\"time\",\n",
    "    key_new=\"tp_h\",\n",
    "    time_new=\"time_half\",\n",
    "    skip=1,\n",
    "    skip_n=24,\n",
    "    dim=None,\n",
    "):\n",
    "    if dim is None:\n",
    "        dim = [\"time\", \"latitude\", \"longitude\"]\n",
    "    if dim != [\"time\", \"latitude\", \"longitude\"]:\n",
    "        raise NotImplementedError(f\"{dim} != ['time', 'latitude', 'longitude']\")\n",
    "    # assumes time index comes first\n",
    "    tp = ds[key].values[skip:, :, :]\n",
    "\n",
    "    time = ds[time].values[skip:]\n",
    "    time_converted = time - np.timedelta64(30, \"m\")\n",
    "\n",
    "    mask_not_diff = slice(0, None, skip_n)\n",
    "\n",
    "    shape = tp.shape\n",
    "    tp_converted = np.concatenate((tp[0, :, :].reshape(1, shape[1], shape[2]), np.diff(tp, axis=0)))\n",
    "\n",
    "    tp_converted[mask_not_diff, :, :] = tp[mask_not_diff, :, :]\n",
    "    dim_new = [time_new] + dim[1:]\n",
    "\n",
    "    coords = {time_new: time_converted}\n",
    "    coords.update({d: ds[d].values for d in dim[1:]})\n",
    "    data_vars = {key_new: (dim_new, tp_converted)}\n",
    "    ds_new = xarray.Dataset(data_vars=data_vars, coords=coords)\n",
    "\n",
    "    return ds_new\n",
    "\n",
    "\n",
    "ds_clean = create_uncumulative_dataset(ds_tp_raw)"
   ]
  },
  {
   "cell_type": "code",
   "execution_count": null,
   "id": "2ebf987f-f271-459a-9253-b516e756ca7b",
   "metadata": {},
   "outputs": [],
   "source": [
    "ds_clean"
   ]
  },
  {
   "cell_type": "code",
   "execution_count": null,
   "id": "3627b5f7-1a7a-4744-9f6a-62290dd7bb83",
   "metadata": {},
   "outputs": [],
   "source": [
    "# reanalysis-era5-land-2014-2016_RAW.nc\n",
    "a2.dataset.load_dataset.save_dataset(\n",
    "    ds_clean,\n",
    "    \"ds_prec_era5_uk_2014-2016_decum.nc\",\n",
    "    no_conversion=True,\n",
    ")"
   ]
  },
  {
   "cell_type": "code",
   "execution_count": null,
   "id": "703b903d",
   "metadata": {},
   "outputs": [],
   "source": [
    "ds_clean = a2.dataset.load_dataset.load_tweets_dataset(\n",
    "    \"ds_prec_era5_uk_2014-2016_decum.nc\",\n",
    ")"
   ]
  },
  {
   "cell_type": "code",
   "execution_count": null,
   "id": "a9b76565-3451-407a-b519-194c5ede419d",
   "metadata": {},
   "outputs": [],
   "source": [
    "import matplotlib\n",
    "\n",
    "matplotlib.colors.Normalize"
   ]
  },
  {
   "cell_type": "code",
   "execution_count": null,
   "id": "c5b92da8-8aad-40ca-816a-7f0e704f9879",
   "metadata": {},
   "outputs": [],
   "source": [
    "ds_neg = ds_clean.where(ds_clean.tp_h < 0, drop=True)"
   ]
  },
  {
   "cell_type": "code",
   "execution_count": null,
   "id": "122837b1-3f1a-4fc5-9c08-6d6982ae9920",
   "metadata": {},
   "outputs": [],
   "source": [
    "ds_neg_sel = ds_neg.sel(time_half=np.datetime64(\"2016-12-31T14:30:00.000000000\"))"
   ]
  },
  {
   "cell_type": "code",
   "execution_count": null,
   "id": "4f5f02e9-07de-4f16-842a-e7841a499c65",
   "metadata": {},
   "outputs": [],
   "source": [
    "norm = matplotlib.colors.LogNorm(vmin=1e-7, vmax=1e-3)\n",
    "cmap = \"magma\""
   ]
  },
  {
   "cell_type": "code",
   "execution_count": null,
   "id": "003c0097-76ca-47d0-a1d0-0529bee2fde6",
   "metadata": {},
   "outputs": [],
   "source": [
    "ds_clean.sel(time_half=np.datetime64(\"2016-12-31T14:30:00.000000000\")).tp_h.plot(norm=norm, cmap=cmap)"
   ]
  },
  {
   "cell_type": "code",
   "execution_count": null,
   "id": "e626993a-452b-4c74-b32d-a0eed9ce638b",
   "metadata": {},
   "outputs": [],
   "source": [
    "ds_tp_raw.sel(time=np.datetime64(\"2016-12-31T14:00:00.000000000\")).tp.plot(norm=norm, cmap=cmap)"
   ]
  },
  {
   "cell_type": "code",
   "execution_count": null,
   "id": "7cd34db2-0771-40d8-8392-6ff507554294",
   "metadata": {},
   "outputs": [],
   "source": [
    "a2.plotting.histograms.plot_histogram(\n",
    "    ds_clean.tp_h.values * 1e3,\n",
    "    log=[\"symlog\", \"log\"],\n",
    "    linear_thresh=1e-9,\n",
    "    n_bins=100,\n",
    "    xlim=[-1e3, 1e3],\n",
    "    label_x=\"tp\",\n",
    "    filename=figure_path / \"tp_histogram_ds_prec_era5_uk_2014-2016_decum.pdf\",\n",
    ")"
   ]
  },
  {
   "attachments": {},
   "cell_type": "markdown",
   "id": "71e4e9f4-7c6f-483e-a354-54600a4d0384",
   "metadata": {},
   "source": [
    "## Check weather data"
   ]
  },
  {
   "cell_type": "code",
   "execution_count": null,
   "id": "f82555f2-5ede-4cd0-9b8f-1c1fbdd54dbb",
   "metadata": {},
   "outputs": [],
   "source": [
    "weather_files = [\"ds_prec_era5_uk_2014-2016_decum.nc\"]"
   ]
  },
  {
   "cell_type": "code",
   "execution_count": null,
   "id": "df5f4f0f-60a7-40a3-b271-67479055a2f8",
   "metadata": {},
   "outputs": [],
   "source": [
    "for f in weather_files:\n",
    "    filename_stem = pathlib.Path(f).stem\n",
    "    print(f\"... working on {filename_stem}\")\n",
    "    ds_tp = a2.dataset.load_dataset.load_tweets_dataset(f, raw=True)\n",
    "\n",
    "    tp = ds_tp.tp_h.values[:]\n",
    "    tp_non_nan = np.full_like(tp, -1)\n",
    "    mask = ~np.isnan(tp)\n",
    "    tp_non_nan[mask] = tp[mask]\n",
    "\n",
    "    time_index_max = np.array([np.max(tp_non_nan[i, :, :]) for i in range(tp_non_nan.shape[0])])\n",
    "    minimum_of_maximum_tp_per_time_index = np.min(time_index_max)\n",
    "\n",
    "    if minimum_of_maximum_tp_per_time_index <= 0:\n",
    "        warnings.warn(\n",
    "            f\"all values of tp equal/below 0 for a time index: {minimum_of_maximum_tp_per_time_index}! at time indices {ds_tp.time_half.values[time_index_max < 0]}\"\n",
    "        )\n",
    "    a2.plotting.histograms.plot_histogram(\n",
    "        tp_non_nan,\n",
    "        log=[\"symlog\", \"log\"],\n",
    "        linear_thresh=1e-16,\n",
    "        n_bins=100,\n",
    "        xlim=[-1e3, 1e-3],\n",
    "        label_x=\"tp\",\n",
    "        filename=figure_path / f\"tp_histogram_{filename_stem}.pdf\",\n",
    "    )\n",
    "    # del ds_tp, tp\n",
    "    # gc.collect()"
   ]
  },
  {
   "attachments": {},
   "cell_type": "markdown",
   "id": "562d8ca0-4ced-4066-b41f-3a0d80c33040",
   "metadata": {},
   "source": [
    "## Load twitter data"
   ]
  },
  {
   "cell_type": "code",
   "execution_count": null,
   "id": "bcddfb22-53d0-4326-9ace-e01ccdf156b8",
   "metadata": {},
   "outputs": [],
   "source": [
    "ds_twit = a2.dataset.load_dataset.load_tweets_dataset(\n",
    "    f\"{filename_base}_locations_bba_prepTp.nc\",\n",
    "    raw=True,\n",
    ")"
   ]
  },
  {
   "attachments": {},
   "cell_type": "markdown",
   "id": "17ae231e-9fe5-4af5-84c2-6527dee1aa46",
   "metadata": {},
   "source": [
    "## Check for time/location outliers\n",
    "- 'Louth, England' erroneously shifted 5 degrees west\n",
    "- remove outlier(s) (Philippines, ...)\n",
    "- remove tweets created at rounded time `2021-01-01T00:00:00.000000000`"
   ]
  },
  {
   "cell_type": "code",
   "execution_count": null,
   "id": "69b8d6fa-5c63-406e-a9f1-12b80408177d",
   "metadata": {
    "tags": []
   },
   "outputs": [],
   "source": [
    "# locations outside rough borders of UK\n",
    "ds_twit.where(\n",
    "    (\n",
    "        (ds_twit.latitude_rounded < 49)\n",
    "        | (ds_twit.latitude_rounded > 61)\n",
    "        | (ds_twit.longitude_rounded < -9)\n",
    "        | (ds_twit.longitude_rounded > 3)\n",
    "    ),\n",
    "    drop=True,\n",
    ")"
   ]
  },
  {
   "cell_type": "code",
   "execution_count": null,
   "id": "3d485d3e-83c2-4301-9122-1cf7feb8846d",
   "metadata": {},
   "outputs": [],
   "source": [
    "# # set city Louth to correct center by hand\n",
    "# mask = ds_twit.full_name == \"Louth, England\"\n",
    "# ds_twit[\"longitude\"].loc[mask] = 0.0061\n",
    "# ds_twit[\"longitude_rounded\"].loc[mask] = 0"
   ]
  },
  {
   "cell_type": "code",
   "execution_count": null,
   "id": "627635f6-46bd-4d7f-ba6c-443678cf20c2",
   "metadata": {},
   "outputs": [],
   "source": [
    "# # set 40FT Brewery to correct center by hand\n",
    "# mask = ds_twit.full_name == \"40FT Brewery\"\n",
    "# ds_twit[\"longitude\"].loc[mask] = -0.073762\n",
    "# ds_twit[\"longitude_rounded\"].loc[mask] = -0.1"
   ]
  },
  {
   "cell_type": "code",
   "execution_count": null,
   "id": "d6651d4e-3bc3-4a5a-a22e-45b3324daddf",
   "metadata": {},
   "outputs": [],
   "source": [
    "# locations outside rough borders of UK\n",
    "ds_twit.where(\n",
    "    (\n",
    "        (ds_twit.latitude_rounded < 49)\n",
    "        | (ds_twit.latitude_rounded > 62)\n",
    "        | (ds_twit.longitude_rounded < -10)\n",
    "        | (ds_twit.longitude_rounded > 5)\n",
    "    ),\n",
    "    drop=True,\n",
    ")"
   ]
  },
  {
   "cell_type": "code",
   "execution_count": null,
   "id": "cd59294a-b914-4cd2-8ff7-bdd3b908c5ad",
   "metadata": {},
   "outputs": [],
   "source": [
    "# remove remaining outliers\n",
    "ds_twit_uk = ds_twit.where(\n",
    "    ~(\n",
    "        (ds_twit.latitude_rounded < 49)\n",
    "        | (ds_twit.latitude_rounded > 61)\n",
    "        | (ds_twit.longitude_rounded < -9)\n",
    "        | (ds_twit.longitude_rounded > 3)\n",
    "    ),\n",
    "    drop=True,\n",
    ")"
   ]
  },
  {
   "cell_type": "code",
   "execution_count": null,
   "id": "1399c3ca",
   "metadata": {},
   "outputs": [],
   "source": [
    "ds_tp"
   ]
  },
  {
   "cell_type": "code",
   "execution_count": null,
   "id": "4b86c9cb-3848-4c35-8388-4975d4a383d9",
   "metadata": {},
   "outputs": [],
   "source": [
    "ds_tweets_tp = a2.dataset.utils_dataset.add_precipitation_to_tweets(\n",
    "    ds_tweets=ds_twit_uk,\n",
    "    ds_precipitation=ds_tp,\n",
    "    key_precipitation_precipitation=\"tp_h\",\n",
    "    key_precipitation_tweets=\"tp_h_m\",\n",
    ")"
   ]
  },
  {
   "cell_type": "code",
   "execution_count": null,
   "id": "8296dfd4",
   "metadata": {},
   "outputs": [],
   "source": [
    "a2.dataset.utils_dataset.is_nan(ds_tweets_tp, \"tp_h_m\").sum()"
   ]
  },
  {
   "cell_type": "code",
   "execution_count": null,
   "id": "89853c39-1c2f-4be5-a001-b08e59ca31b4",
   "metadata": {},
   "outputs": [],
   "source": [
    "tp = ds_tweets_tp.tp_h_m.values * 1e3\n",
    "a2.plotting.histograms.plot_histogram(\n",
    "    tp,\n",
    "    log=[\"symlog\", False],\n",
    "    linear_thresh=1e-9,\n",
    "    n_bins=100,\n",
    "    xlim=[-1e3, 1e4],\n",
    "    label_x=\"tp_h_mm\",\n",
    "    filename=figure_path / f\"tp_histogram_{filename_stem}.pdf\",\n",
    ")"
   ]
  },
  {
   "cell_type": "code",
   "execution_count": null,
   "id": "562f7628-1453-4825-abc6-22eb4977ad1f",
   "metadata": {},
   "outputs": [],
   "source": [
    "a2.plotting.histograms.plot_histogram_2d(\n",
    "    ds_twit_uk[\"longitude_rounded\"].values,\n",
    "    ds_twit_uk[\"latitude_rounded\"].values,\n",
    "    norm=\"log\",\n",
    "    n_bins=[111, 121],\n",
    "    xlim=[-9, 2],\n",
    "    ylim=[49, 61],\n",
    ")"
   ]
  },
  {
   "cell_type": "code",
   "execution_count": null,
   "id": "4869df20-be20-4710-ae31-273228e21559",
   "metadata": {},
   "outputs": [],
   "source": [
    "ds_tweets_tp_nan = ds_tweets_tp.where(a2.dataset.utils_dataset.is_nan(ds_tweets_tp, \"tp_h_m\"), drop=True)"
   ]
  },
  {
   "cell_type": "code",
   "execution_count": null,
   "id": "eb8386c7-f2b2-477d-b01d-1da35fac1ff0",
   "metadata": {},
   "outputs": [],
   "source": [
    "a2.plotting.histograms.plot_histogram_2d(\n",
    "    ds_tweets_tp_nan[\"longitude_rounded\"].values,\n",
    "    ds_tweets_tp_nan[\"latitude_rounded\"].values,\n",
    "    norm=\"log\",\n",
    "    n_bins=[111, 121],\n",
    "    xlim=[-9, 2],\n",
    "    ylim=[49, 61],\n",
    ")"
   ]
  },
  {
   "cell_type": "code",
   "execution_count": null,
   "id": "b166e012-1561-43ce-9a53-c969e29e87ad",
   "metadata": {},
   "outputs": [],
   "source": [
    "a2.plotting.histograms.plot_histogram(\n",
    "    ds_tp.tp_h.values,\n",
    "    log=[\"symlog\", \"log\"],\n",
    "    linear_thresh=1e-9,\n",
    "    n_bins=100,\n",
    "    xlim=[-1e3, 1e3],\n",
    "    label_x=\"tp\",\n",
    "    filename=figure_path / f\"tp_histogram_ds_prec_era5_uk_2014-2016_decum.pdf\",\n",
    ")"
   ]
  },
  {
   "cell_type": "code",
   "execution_count": null,
   "id": "2059b767-abb2-4603-835b-4d6c6e3672c9",
   "metadata": {},
   "outputs": [],
   "source": [
    "a2.plotting.histograms.plot_histogram(\n",
    "    ds_tweets_tp.tp_h_m.values,\n",
    "    log=[\"symlog\", \"log\"],\n",
    "    linear_thresh=1e-9,\n",
    "    n_bins=100,\n",
    "    xlim=[-1e3, 1e3],\n",
    "    label_x=\"tp\",\n",
    "    filename=figure_path / f\"tp_histogram_ds_prec_era5_uk_2014-2016_decum_tweets.pdf\",\n",
    ")"
   ]
  },
  {
   "cell_type": "code",
   "execution_count": null,
   "id": "b967732b-d873-472e-9ac2-163545905049",
   "metadata": {},
   "outputs": [],
   "source": [
    "ds_tweets_tp_clean = ds_tweets_tp.where(~a2.dataset.utils_dataset.is_nan(ds_tweets_tp, \"tp_h_m\"), drop=True)"
   ]
  },
  {
   "cell_type": "code",
   "execution_count": null,
   "id": "2ace01c1",
   "metadata": {},
   "outputs": [],
   "source": [
    "filename_base"
   ]
  },
  {
   "cell_type": "code",
   "execution_count": null,
   "id": "31a6033e-f9b6-479a-9120-203722a31095",
   "metadata": {},
   "outputs": [],
   "source": [
    "a2.dataset.load_dataset.save_dataset(\n",
    "    ds_tweets_tp_clean,\n",
    "    f\"{filename_base}_bba_Tp_era5.nc\",\n",
    ")"
   ]
  },
  {
   "attachments": {},
   "cell_type": "markdown",
   "id": "8524e6e1-8d66-46a8-bd9d-613aa3036b21",
   "metadata": {},
   "source": [
    "## Assign precipitation value to every Tweet"
   ]
  },
  {
   "cell_type": "code",
   "execution_count": null,
   "id": "ab3df5ae-9d71-4126-9b40-1fcb0adc8aa1",
   "metadata": {},
   "outputs": [],
   "source": [
    "ds_twit = a2.dataset.load_dataset.load_tweets_dataset(\n",
    "    \"2017_2020_tweets_rain_sun_vocab_emojis_locations_bba_before_combine.nc\",\n",
    "    raw=True,\n",
    ")"
   ]
  },
  {
   "cell_type": "code",
   "execution_count": null,
   "id": "593a1183-dc35-4bef-b51e-7309048e37ac",
   "metadata": {},
   "outputs": [],
   "source": [
    "weather_files = [\"../../data/precipitation/ds_prec_era5_uk_2017-2020_decum.nc\"]\n",
    "\n",
    "ds_tweets_precipitation = a2.dataset.utils_dataset.add_precipitation_memory_efficient(\n",
    "    ds_tweets=ds_twit,\n",
    "    ds_weather_filenames=weather_files,\n",
    "    key_time_precipitation=\"time_half\",\n",
    "    key_precipitation_precipitation=\"tp_h\",\n",
    "    key_precipitation_tweets=\"tp_era5\",\n",
    ")"
   ]
  },
  {
   "cell_type": "code",
   "execution_count": null,
   "id": "a681d3b9",
   "metadata": {},
   "outputs": [],
   "source": [
    "ds_tweets_precipitation"
   ]
  },
  {
   "attachments": {},
   "cell_type": "markdown",
   "id": "978637f6-b2c2-4936-b05e-22463b5f44cf",
   "metadata": {},
   "source": [
    "### Check for nan values in tp"
   ]
  },
  {
   "cell_type": "code",
   "execution_count": null,
   "id": "01211de6-3aa3-4733-8401-2f99c3954486",
   "metadata": {},
   "outputs": [],
   "source": [
    "ds_tweets_precipitation"
   ]
  },
  {
   "cell_type": "code",
   "execution_count": null,
   "id": "8039bc5a-ba44-4970-ba7d-c6680ff2ae16",
   "metadata": {},
   "outputs": [],
   "source": [
    "ds_tweets_precipitation.where(a2.dataset.utils_dataset.is_nan(ds_twit, \"tp_era5\"), drop=True)"
   ]
  },
  {
   "attachments": {},
   "cell_type": "markdown",
   "id": "803aba92-e7f4-4cb3-9b97-07caabfd801d",
   "metadata": {
    "tags": []
   },
   "source": [
    "## Total precipitation below 1e-8 m appears to be 0\n",
    "- seems to be raining roughly half of the time"
   ]
  },
  {
   "cell_type": "code",
   "execution_count": null,
   "id": "c58fd95d-d1a0-48ed-9e78-d4f4de3ba308",
   "metadata": {},
   "outputs": [],
   "source": [
    "filename = figure_path / f\"tweets_2017-2020_tp_histogram.pdf\"\n",
    "a2.plotting.histograms.plot_histogram(\n",
    "    ds_twit.tp_era5.values,\n",
    "    log=[\"symlog\", \"log\"],\n",
    "    linear_thresh=1e-9,\n",
    "    n_bins=100,\n",
    "    label_x=\"tp_era5\",\n",
    "    filename=filename,\n",
    ")"
   ]
  },
  {
   "cell_type": "code",
   "execution_count": null,
   "id": "5df2635f-3f24-4c67-92a3-ff8619578240",
   "metadata": {},
   "outputs": [],
   "source": [
    "ds_twit[\"raining_old\"] = (\"index\", np.abs(ds_twit[\"tp_cum\"].values) > 1e-8)"
   ]
  },
  {
   "cell_type": "code",
   "execution_count": null,
   "id": "dec40df6-9430-408c-bcff-db579ea2c93d",
   "metadata": {},
   "outputs": [],
   "source": [
    "ds_twit[\"raining\"] = (\"index\", np.abs(ds_twit[\"tp_era5\"].values) > 1e-8)"
   ]
  },
  {
   "cell_type": "code",
   "execution_count": null,
   "id": "b9eb50c6-a09d-4b1d-a8ce-3755607d8097",
   "metadata": {},
   "outputs": [],
   "source": [
    "ds = ds_twit.where(~a2.dataset.utils_dataset.is_nan(ds_twit, \"tp_cum\"), drop=True)\n",
    "field_x = \"tp\"\n",
    "field_y = \"tp_cum\"\n",
    "filename = figure_path / f\"tweets_2017-2020_tp_cum_vs_tp_histogram.pdf\"\n",
    "a2.plotting.histograms.plot_2d_histogram(\n",
    "    ds[field_x].values,\n",
    "    ds[field_y].values,\n",
    "    log=[\"symlog\", \"symlog\"],\n",
    "    linear_thresh=1e-9,\n",
    "    n_bins=100,\n",
    "    label_x=field_x,\n",
    "    label_y=field_y,\n",
    "    filename=filename,\n",
    "    norm=\"log\",\n",
    ")"
   ]
  },
  {
   "cell_type": "code",
   "execution_count": null,
   "id": "e4f48f08-f095-40a6-a239-48e19b769579",
   "metadata": {},
   "outputs": [],
   "source": [
    "ds_twit[\"raining_old\"].astype(int).plot.hist(bins=np.linspace(0, 1));"
   ]
  },
  {
   "cell_type": "code",
   "execution_count": null,
   "id": "b009818a-d7df-4fbd-ba5c-804019de198e",
   "metadata": {},
   "outputs": [],
   "source": [
    "ds_twit[\"raining\"].astype(int).plot.hist(bins=np.linspace(0, 1));"
   ]
  },
  {
   "attachments": {},
   "cell_type": "markdown",
   "id": "db874ff8-e45f-4a98-bb04-15664566ad90",
   "metadata": {
    "tags": []
   },
   "source": [
    "## Save resulting dataset"
   ]
  },
  {
   "cell_type": "code",
   "execution_count": null,
   "id": "2453ddd7-2568-4d85-8df9-ae83d76a675e",
   "metadata": {
    "tags": []
   },
   "outputs": [],
   "source": [
    "a2.dataset.load_dataset.save_dataset(\n",
    "    ds_twit,\n",
    "    \"tweets_no_keywords_2020-02-13T00:00:00.000Z_2020-02-14T00:00:00_locations_bba_era5.nc\",\n",
    "    add_attributes=\"added era5 tp\",\n",
    ")"
   ]
  },
  {
   "cell_type": "code",
   "execution_count": null,
   "id": "01c568ca-df2a-4dde-b2b7-b092b2c233ae",
   "metadata": {},
   "outputs": [],
   "source": []
  }
 ],
 "metadata": {
  "kernelspec": {
   "display_name": ".venv",
   "language": "python",
   "name": "python3"
  },
  "language_info": {
   "codemirror_mode": {
    "name": "ipython",
    "version": 3
   },
   "file_extension": ".py",
   "mimetype": "text/x-python",
   "name": "python",
   "nbconvert_exporter": "python",
   "pygments_lexer": "ipython3",
   "version": "3.10.12"
  },
  "vscode": {
   "interpreter": {
    "hash": "06c3f19a037da30281d10f8fbda7f2df02465bd919ed005b52297a6fc2623835"
   }
  }
 },
 "nbformat": 4,
 "nbformat_minor": 5
}
