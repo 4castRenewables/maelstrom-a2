{
 "cells": [
  {
   "cell_type": "markdown",
   "metadata": {},
   "source": [
    "# Determine threshold for considering precipitation \"rain\"\n",
    "Predictions by the model do not appear too sensitive to the exact threshold but rather to keypoints/content of the Tweet to rain classification task. Therefore\n",
    "- We calculate the f1 depending on this threshold for predictions of the same model\n",
    "- Determined f1 of minority class is max at f1=0.67 for precipitation_threshold=7e-3 m\n"
   ]
  },
  {
   "cell_type": "code",
   "execution_count": null,
   "metadata": {},
   "outputs": [],
   "source": [
    "# allows update of external libraries without need to reload package\n",
    "%load_ext autoreload\n",
    "%autoreload 2"
   ]
  },
  {
   "cell_type": "code",
   "execution_count": null,
   "metadata": {},
   "outputs": [],
   "source": [
    "import os\n",
    "import re\n",
    "import glob\n",
    "import zipfile\n",
    "import pathlib\n",
    "import logging\n",
    "import json\n",
    "import string\n",
    "\n",
    "import numpy as np\n",
    "import pandas as pd\n",
    "import matplotlib.font_manager\n",
    "import matplotlib.pyplot as plt\n",
    "import matplotlib\n",
    "\n",
    "import matplotlib.offsetbox\n",
    "\n",
    "\n",
    "import wget\n",
    "\n",
    "import requests\n",
    "import base64\n",
    "from bs4 import BeautifulSoup\n",
    "\n",
    "import wordcloud\n",
    "import tweepy\n",
    "import a2.twitter.downloader\n",
    "import a2.plotting\n",
    "import a2.dataset\n",
    "import a2.utils\n",
    "import a2.training\n",
    "import a2.plotting.analysis\n",
    "\n",
    "import joblib"
   ]
  },
  {
   "cell_type": "code",
   "execution_count": null,
   "metadata": {},
   "outputs": [],
   "source": [
    "FOLDER_DATA = a2.utils.file_handling.get_folder_data()\n",
    "FOLDER_TWEETS = FOLDER_DATA / \"tweets/\"\n",
    "FILE_TWEETS = (\n",
    "    FOLDER_TWEETS\n",
    "    / \"2017_2020_tweets_rain_sun_vocab_emojis_locations_bba_Tp_era5_no_bots_normalized_filtered_weather_stations_fix_predicted_simpledeberta_radar.nc\"\n",
    ")\n",
    "FOLDER_FIGURES = pathlib.Path(\"../../figures/analysis/modelling/\")\n",
    "FILE_FONT = \"../fonts/noto/NotoEmoji-VariableFont_wght.ttf\"\n",
    "FOLDER_MODEL_TO_LOAD = \"../../models/model_weights/output_rainprediction_simpledeberta/era5/checkpoint-7617/\"\n",
    "FOLDER_RAW_MODEL = pathlib.Path(\"../../models/deberta-v3-small/\")"
   ]
  },
  {
   "cell_type": "code",
   "execution_count": null,
   "metadata": {},
   "outputs": [],
   "source": [
    "ds_tweets = a2.dataset.load_dataset.load_tweets_dataset(FILE_TWEETS)"
   ]
  },
  {
   "cell_type": "code",
   "execution_count": null,
   "metadata": {},
   "outputs": [],
   "source": [
    "ds_tweets"
   ]
  },
  {
   "cell_type": "code",
   "execution_count": null,
   "metadata": {},
   "outputs": [],
   "source": [
    "ds_p = ds_tweets[[\"tp_h\", \"prediction\"]]\n",
    "ds_p[\"tp_h_in_m\"] = ([\"index\"], ds_p[\"tp_h\"].values * 1e3)"
   ]
  },
  {
   "cell_type": "code",
   "execution_count": null,
   "metadata": {},
   "outputs": [],
   "source": [
    "ds_p[\"tp_h_in_m\"].max()"
   ]
  },
  {
   "cell_type": "code",
   "execution_count": null,
   "metadata": {},
   "outputs": [],
   "source": [
    "thresholds = 10 ** np.linspace(-5, -1, 100)\n",
    "prediction = ds_p[\"prediction\"].values\n",
    "rain_correct_list = []\n",
    "not_rain_correct_list = []\n",
    "\n",
    "f1_raining_list = []\n",
    "f1_not_raining_list = []\n",
    "for p_thresh in thresholds:\n",
    "    rain = ds_p[\"tp_h_in_m\"].values > p_thresh\n",
    "    report = a2.plotting.analysis.classification_report(rain, prediction)\n",
    "    f1_not_raining = report[\"not raining\"][\"f1-score\"]\n",
    "    f1_raining = report[\"raining\"][\"f1-score\"]\n",
    "    f1_not_raining_list.append(f1_not_raining)\n",
    "    f1_raining_list.append(f1_raining)\n",
    "    rain_correct = np.zeros_like(prediction)\n",
    "    not_rain_correct = np.zeros_like(prediction)\n",
    "    rain_correct[np.logical_and(prediction == rain, rain == 1)] = 1\n",
    "    not_rain_correct[np.logical_and(prediction == rain, rain == 0)] = 1\n",
    "    rain_correct_list.append(np.sum(rain_correct))\n",
    "    not_rain_correct_list.append(np.sum(not_rain_correct))"
   ]
  },
  {
   "cell_type": "code",
   "execution_count": null,
   "metadata": {},
   "outputs": [],
   "source": [
    "fig, ax = plt.subplots()\n",
    "ax.plot(thresholds, f1_raining_list, label=\"f1 raining\")\n",
    "ax.plot(thresholds, f1_not_raining_list, label=\"f1 not raining\")\n",
    "ax.set_xscale(\"log\")\n",
    "ax.set_yscale(\"log\")\n",
    "ax.legend()"
   ]
  },
  {
   "cell_type": "code",
   "execution_count": null,
   "metadata": {},
   "outputs": [],
   "source": [
    "fig, ax = plt.subplots()\n",
    "ax.plot(thresholds, rain_correct_list, label=\"rain correct\")\n",
    "ax.plot(thresholds, not_rain_correct_list, label=\"not rain correct\")\n",
    "ax.set_xscale(\"log\")\n",
    "ax.set_yscale(\"log\")\n",
    "ax.legend()"
   ]
  },
  {
   "cell_type": "code",
   "execution_count": null,
   "metadata": {},
   "outputs": [],
   "source": [
    "truth = ds_p[\"tp_h_in_m\"].values > 7e-3\n",
    "predictions = ds_p[\"prediction\"].values\n",
    "prediction_probabilities = np.array(\n",
    "    [ds_tweets[\"prediction_probability_not_raining\"].values, ds_tweets[\"prediction_probability_raining\"].values]\n",
    ").T\n",
    "\n",
    "report = a2.plotting.analysis.classification_report(truth, predictions)\n",
    "f1_not_raining = report[\"not raining\"][\"f1-score\"]\n",
    "f1_raining = report[\"raining\"][\"f1-score\"]\n",
    "f1_not_raining, f1_raining"
   ]
  },
  {
   "cell_type": "code",
   "execution_count": null,
   "metadata": {},
   "outputs": [],
   "source": [
    "report = a2.plotting.analysis.check_prediction(truth, predictions)\n",
    "a2.plotting.analysis.plot_prediction_certainty(truth=truth, prediction_probabilities=prediction_probabilities[:, 1])\n",
    "a2.plotting.analysis.plot_roc(truth, prediction_probabilities[:, 1])\n",
    "print(report)"
   ]
  },
  {
   "cell_type": "code",
   "execution_count": null,
   "metadata": {},
   "outputs": [],
   "source": []
  }
 ],
 "metadata": {
  "kernelspec": {
   "display_name": ".venv",
   "language": "python",
   "name": "python3"
  },
  "language_info": {
   "codemirror_mode": {
    "name": "ipython",
    "version": 3
   },
   "file_extension": ".py",
   "mimetype": "text/x-python",
   "name": "python",
   "nbconvert_exporter": "python",
   "pygments_lexer": "ipython3",
   "version": "3.10.12"
  }
 },
 "nbformat": 4,
 "nbformat_minor": 2
}
