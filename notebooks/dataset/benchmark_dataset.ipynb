{
 "cells": [
  {
   "cell_type": "code",
   "execution_count": null,
   "metadata": {},
   "outputs": [],
   "source": [
    "# allows update of external libraries without need to reload package\n",
    "%load_ext autoreload\n",
    "%autoreload 2"
   ]
  },
  {
   "cell_type": "code",
   "execution_count": null,
   "metadata": {},
   "outputs": [],
   "source": [
    "import a2.dataset\n",
    "import os"
   ]
  },
  {
   "cell_type": "code",
   "execution_count": null,
   "metadata": {},
   "outputs": [],
   "source": [
    "!ls ../../data/benchmarks/d3p7/e4/"
   ]
  },
  {
   "cell_type": "code",
   "execution_count": null,
   "metadata": {},
   "outputs": [],
   "source": [
    "PATH_TRAINING_E4 = \"../../data/benchmarks/d3p7/e4/tweets_2017_era5_normed_filtered_train.csv\"\n",
    "PATH_VALIDATION_E4 = \"../../data/benchmarks/d3p7/e4/tweets_2017_era5_normed_filtered_validate.csv\""
   ]
  },
  {
   "cell_type": "code",
   "execution_count": null,
   "metadata": {},
   "outputs": [],
   "source": [
    "os.environ[\"A2_DATASET_BACKEND\"] = \"pandas\""
   ]
  },
  {
   "cell_type": "code",
   "execution_count": null,
   "metadata": {},
   "outputs": [],
   "source": [
    "df = a2.dataset.load_dataset.load_tweets_dataset(PATH_TRAINING_E4)"
   ]
  },
  {
   "cell_type": "code",
   "execution_count": null,
   "metadata": {},
   "outputs": [],
   "source": [
    "df[[\"text_normalized\", \"raining\"]].to_csv(\"/tmp/training_e4.csv\", index=True)\n",
    "!ls -atlhr /tmp/training_e4.csv"
   ]
  },
  {
   "cell_type": "code",
   "execution_count": null,
   "metadata": {},
   "outputs": [],
   "source": [
    "df_validatation_e4 = a2.dataset.load_dataset.load_tweets_dataset(PATH_VALIDATION_E4)\n",
    "df_validatation_e4[[\"text_normalized\", \"raining\"]].to_csv(\"/tmp/validation_e4.csv\", index=True)\n",
    "!ls -atlhr /tmp/validation_e4.csv"
   ]
  },
  {
   "cell_type": "code",
   "execution_count": null,
   "metadata": {},
   "outputs": [],
   "source": [
    "df.shape"
   ]
  }
 ],
 "metadata": {
  "kernelspec": {
   "display_name": ".venv",
   "language": "python",
   "name": "python3"
  },
  "language_info": {
   "codemirror_mode": {
    "name": "ipython",
    "version": 3
   },
   "file_extension": ".py",
   "mimetype": "text/x-python",
   "name": "python",
   "nbconvert_exporter": "python",
   "pygments_lexer": "ipython3",
   "version": "3.10.12"
  }
 },
 "nbformat": 4,
 "nbformat_minor": 2
}
