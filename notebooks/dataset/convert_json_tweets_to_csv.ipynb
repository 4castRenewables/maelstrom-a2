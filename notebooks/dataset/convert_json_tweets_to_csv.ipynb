{
 "cells": [
  {
   "cell_type": "markdown",
   "id": "55fc1b1f-553d-446f-bd7c-a026396a7d55",
   "metadata": {},
   "source": [
    "# Convert json files of tweets to csv file\n",
    "When downloading tweets as csv complete json request are saved as files, which can be converted to a csv file with this script "
   ]
  },
  {
   "cell_type": "code",
   "execution_count": null,
   "id": "6fdf8fd1-864c-4364-b75d-ffc6bf0ed0e7",
   "metadata": {},
   "outputs": [],
   "source": [
    "# allows update of external libraries without need to reload package\n",
    "%load_ext autoreload\n",
    "%autoreload 2\n",
    "import logging\n",
    "\n",
    "logging.basicConfig(level=20)"
   ]
  },
  {
   "cell_type": "code",
   "execution_count": null,
   "id": "bde5467d-ed64-42f0-8089-59aad7412745",
   "metadata": {},
   "outputs": [],
   "source": [
    "import os\n",
    "import glob\n",
    "import re\n",
    "import json\n",
    "import random\n",
    "import csv\n",
    "import pathlib\n",
    "\n",
    "import numpy as np\n",
    "import pandas as pd\n",
    "import matplotlib.pyplot as plt\n",
    "\n",
    "import a2.data_manipulation.twitter.manipulate_tweets"
   ]
  },
  {
   "cell_type": "code",
   "execution_count": null,
   "id": "e127b7a9-7ba1-4f74-8773-7c8c6308ac1e",
   "metadata": {},
   "outputs": [],
   "source": [
    "filepath = \"../data/tweets/gb_2020_rain_sun_vocab_emojis/\"\n",
    "figure_path = pathlib.Path(\"../figures/data/gb_2020_rain_sun_vocab_emojis_rerun/\")\n",
    "os.makedirs(figure_path, exist_ok=True)\n",
    "path = os.path.abspath(filepath)  # use your path\n",
    "all_files = glob.glob(os.path.join(path, \"tweets_2020*.csv\"))\n",
    "all_files"
   ]
  },
  {
   "cell_type": "code",
   "execution_count": null,
   "id": "6ce2c7b7-5579-451d-a54d-98f6ea64af1b",
   "metadata": {},
   "outputs": [],
   "source": [
    "header = [\"#what you want\\n\"]\n",
    "a2.data_manipulation.twitter.manipulate_tweets.convert_json_tweets_to_csv(\n",
    "    [\"test_tweets.json\"], \"\", header_file=\"tweets_2020_12.csv\", path=\"/tmp\"\n",
    ")"
   ]
  },
  {
   "cell_type": "code",
   "execution_count": null,
   "id": "fbeb1022-3964-4805-8c3a-0a077d22e85e",
   "metadata": {},
   "outputs": [],
   "source": [
    "!ls"
   ]
  },
  {
   "cell_type": "code",
   "execution_count": null,
   "id": "3b11f192-44da-4f9d-bd13-977af9606e5e",
   "metadata": {},
   "outputs": [],
   "source": [
    "def print_tweets(filename=\"test.csv\", n_sample=10, n=None):\n",
    "    \"\"\"load tweets in filename and print random n_sample or n tweets from beginning of file\"\"\"\n",
    "    df = pd.read_csv(filename, skiprows=2).to_xarray()\n",
    "    df[\"created_at\"] = ([\"index\"], pd.to_datetime(df.created_at).values)\n",
    "    if n is None:\n",
    "        index_list = [random.randrange(df[\"tweet_id\"].shape[0]) for i in range(n_sample)]\n",
    "    elif n == \"all\":\n",
    "        index_list = [i for i in range(df[\"tweet_id\"].shape[0])]\n",
    "    else:\n",
    "        index_list = [i for i in range(n)]\n",
    "    for i in index_list:\n",
    "        print(\"------------------------------\")\n",
    "        print(df.text.values[i])\n",
    "        print(\"------------------------------\")\n",
    "    return df"
   ]
  },
  {
   "cell_type": "code",
   "execution_count": null,
   "id": "54e1e8a5-e52a-4d2b-a032-65320f94d786",
   "metadata": {},
   "outputs": [],
   "source": [
    "ds = print_tweets(\"/tmp/test_tweets.csv\")"
   ]
  },
  {
   "cell_type": "code",
   "execution_count": null,
   "id": "d5fe35c5-972d-4806-a56f-010a0852f731",
   "metadata": {},
   "outputs": [],
   "source": []
  }
 ],
 "metadata": {
  "kernelspec": {
   "display_name": "Python 3 (ipykernel)",
   "language": "python",
   "name": "python3"
  },
  "language_info": {
   "codemirror_mode": {
    "name": "ipython",
    "version": 3
   },
   "file_extension": ".py",
   "mimetype": "text/x-python",
   "name": "python",
   "nbconvert_exporter": "python",
   "pygments_lexer": "ipython3",
   "version": "3.10.4"
  }
 },
 "nbformat": 4,
 "nbformat_minor": 5
}
