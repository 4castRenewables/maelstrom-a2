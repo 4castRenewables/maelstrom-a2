{
 "cells": [
  {
   "attachments": {},
   "cell_type": "markdown",
   "metadata": {},
   "source": [
    "# Compare radar precipitation data to era5 and station data (time series analysis)\n",
    "\n",
    "Radar data retrieved from the [CEDA Archive](https://catalogue.ceda.ac.uk/uuid/27dd6ffba67f667a18c62de5c3456350) compared to era5 has much higher spatial resolution (1km vs 10km) and temporal resolution (5min vs 1hour). However, accuraccy is crucial for this project. That is why we compare radar precipitation data from era5 and weather stations to decide if it is more precise than previously used era5 data.\n",
    "\n",
    "We plot:\n",
    "\n",
    "    - time series station vs era5\n",
    "    - time series comparing radar, weather station and era5 precipitation values including confusion matrix\n",
    "\n",
    "Radar data seems to inhibit systematic uncertainties especially with rain that is not detected by weather stations with an overall increased inaccuracy compared to era5 data. In conclusion, we abstain from using radar data for now (see also notebook radar_era5_station_comparison_maps for comparison on maps level between different sources of precipitation)."
   ]
  },
  {
   "cell_type": "code",
   "execution_count": null,
   "metadata": {},
   "outputs": [],
   "source": [
    "# allows update of external libraries without need to reload package\n",
    "%load_ext autoreload\n",
    "%autoreload 2"
   ]
  },
  {
   "cell_type": "code",
   "execution_count": null,
   "metadata": {},
   "outputs": [],
   "source": [
    "import sys\n",
    "\n",
    "LIBRARY_PATH = \"/p/home/jusers/ehlert1/juwels/a2/src/\"\n",
    "sys.path.append(LIBRARY_PATH)\n",
    "\n",
    "import os\n",
    "import re\n",
    "import glob\n",
    "import math\n",
    "import pandas as pd\n",
    "import numpy as np\n",
    "import matplotlib.pyplot as plt\n",
    "import matplotlib\n",
    "import logging\n",
    "import pathlib\n",
    "import datetime\n",
    "import tqdm\n",
    "import xarray\n",
    "import rioxarray\n",
    "import convertbng\n",
    "import pyproj\n",
    "import h5py\n",
    "import itertools\n",
    "import functools\n",
    "import collections\n",
    "import plotly.express\n",
    "\n",
    "logging.basicConfig(level=logging.INFO)\n",
    "\n",
    "\n",
    "import a2.utils\n",
    "import a2.dataset\n",
    "import a2.plotting"
   ]
  },
  {
   "cell_type": "code",
   "execution_count": null,
   "metadata": {},
   "outputs": [],
   "source": [
    "FOLDER_DATA = a2.utils.file_handling.get_folder_data()\n",
    "FOLDER_TWEETS = FOLDER_DATA / \"tweets/\"\n",
    "FILE_TWEETS = (\n",
    "    FOLDER_TWEETS\n",
    "    / \"2017_2020_tweets_rain_sun_vocab_emojis_locations_bba_Tp_era5_no_bots_normalized_filtered_weather_stations_fix_predicted_simpledeberta_radar.nc\"\n",
    ")\n",
    "FOLDER_WEATHER_STATIONS = FOLDER_DATA / \"weather_stations/\"\n",
    "FILE_WEATHER_STATIONS = FOLDER_WEATHER_STATIONS / \"weather_stations_hourly_rainfall_uk_2017-2020_station_number.csv\"\n",
    "\n",
    "FOLDER_ERA5 = FOLDER_DATA / \"precipitation/\"\n",
    "FILE_ERA5 = FOLDER_ERA5 / \"ds_prec_era5_uk_2017-2020_decum.nc\"\n",
    "\n",
    "FOLDER_RADAR_DAPCEDA = FOLDER_DATA / \"precipitation/radar/\""
   ]
  },
  {
   "cell_type": "code",
   "execution_count": null,
   "metadata": {},
   "outputs": [],
   "source": [
    "ds_era = xarray.load_dataset(FILE_ERA5)\n",
    "ds_era[\"tp_h_mm\"] = ds_era[\"tp_h\"] * 1e3"
   ]
  },
  {
   "cell_type": "code",
   "execution_count": null,
   "metadata": {},
   "outputs": [],
   "source": [
    "df_stations = a2.dataset.load_dataset.load_weather_stations(FILE_WEATHER_STATIONS)\n",
    "df_stations = df_stations.reset_index()"
   ]
  },
  {
   "cell_type": "code",
   "execution_count": null,
   "metadata": {},
   "outputs": [],
   "source": [
    "a2.plotting.histograms.plot_histogram(df_stations.station_number.value_counts().values)"
   ]
  },
  {
   "cell_type": "code",
   "execution_count": null,
   "metadata": {},
   "outputs": [],
   "source": [
    "ds_era.sel(time_half=np.datetime64(\"2017-01-01T00:30:00\"), longitude=[-2, -4], latitude=[52, 54])"
   ]
  },
  {
   "cell_type": "code",
   "execution_count": null,
   "metadata": {},
   "outputs": [],
   "source": [
    "fig, ax = a2.plotting.utils_plotting.create_figure_axes(figure_size=(20, 8))\n",
    "ax.axhline(0.1, color=\"r\")\n",
    "df_sel = a2.dataset.stations.get_dataframe_from_station_number(df_stations, 21, key_station_number=\"station_number\")\n",
    "time_range = [np.datetime64(\"2020-02-01T00:30:00\"), np.datetime64(\"2020-02-29T23:30:00\")]\n",
    "ylim = [0, 3]\n",
    "latitude, longitude = df_sel[\"latitude\"].values[0], df_sel[\"longitude\"].values[0]\n",
    "latitude, longitude = np.round(latitude, 1), np.round(longitude, 1)\n",
    "print(latitude, longitude)\n",
    "a2.plotting.timeseries.plot_timeseries(\n",
    "    \"ob_end_time\", \"prcp_amt\", df_sel, ax=ax, xlim=time_range, label=\"station\", ylim=ylim\n",
    ")\n",
    "ds_era.sel(time_half=slice(*time_range), longitude=longitude, latitude=latitude)[\"tp_h_mm\"].plot(\n",
    "    linewidth=0.3, ax=ax, marker=\".\", label=\"era5\", ylim=ylim\n",
    ")\n",
    "ax.legend()"
   ]
  },
  {
   "cell_type": "code",
   "execution_count": null,
   "metadata": {},
   "outputs": [],
   "source": [
    "fig, ax = a2.plotting.utils_plotting.create_figure_axes(figure_size=(20, 8), aspect=\"equal\")\n",
    "ds_era.sel(time_half=np.datetime64(\"2017-01-01T00:30:00\"))[\"tp_h_mm\"].plot(ax=ax)\n",
    "ax.scatter(longitude, latitude)"
   ]
  },
  {
   "cell_type": "code",
   "execution_count": null,
   "metadata": {},
   "outputs": [],
   "source": [
    "fig, ax = a2.plotting.utils_plotting.create_figure_axes(figure_size=(20, 8))\n",
    "ax.axhline(0.1, color=\"r\")\n",
    "df_sel = a2.dataset.stations.get_dataframe_from_station_number(df_stations, 12, key_station_number=\"station_number\")\n",
    "ylim = [0, 3]\n",
    "latitude, longitude = df_sel[\"latitude\"].values[0], df_sel[\"longitude\"].values[0]\n",
    "latitude, longitude = np.round(latitude, 1), np.round(longitude, 1)\n",
    "print(latitude, longitude)\n",
    "a2.plotting.timeseries.plot_timeseries(\n",
    "    \"ob_end_time\", \"prcp_amt\", df_sel, ax=ax, xlim=time_range, label=\"station\", ylim=ylim\n",
    ")\n",
    "# a2.plotting.timeseries.plot_timeseries(time, tp[0], ax=ax, xlim=time_range, label='radar', ylim=ylim)\n",
    "ds_era.sel(time_half=slice(*time_range), longitude=longitude, latitude=latitude)[\"tp_h_mm\"].plot(\n",
    "    linewidth=0.3, ax=ax, marker=\".\", label=\"era5\", ylim=ylim\n",
    ")\n",
    "ax.legend()"
   ]
  },
  {
   "cell_type": "code",
   "execution_count": null,
   "metadata": {},
   "outputs": [],
   "source": [
    "time_range = [np.datetime64(\"2018-04-01T00:00:00\"), np.datetime64(\"2018-04-04T00:00:00\")]"
   ]
  },
  {
   "cell_type": "code",
   "execution_count": null,
   "metadata": {},
   "outputs": [],
   "source": [
    "latitudes_station = []\n",
    "longitudes_station = []\n",
    "for station_number in range(int(df_stations.station_number.max()) + 1):\n",
    "    mask_station = df_stations.station_number == station_number\n",
    "    longitude = df_stations.loc[mask_station, \"longitude\"].values[0]\n",
    "    latitude = df_stations.loc[mask_station, \"latitude\"].values[0]\n",
    "    latitudes_station.append(latitude)\n",
    "    longitudes_station.append(longitude)\n",
    "\n",
    "time, tp = a2.dataset.radar.time_series_from_files(\n",
    "    *time_range,\n",
    "    longitudes_station,\n",
    "    latitudes_station,\n",
    "    time_delta=1,\n",
    "    path_to_dapceda=FOLDER_RADAR_DAPCEDA,\n",
    "    time_delta_units=\"h\",\n",
    ")"
   ]
  },
  {
   "cell_type": "code",
   "execution_count": null,
   "metadata": {},
   "outputs": [],
   "source": [
    "# fig, ax = a2.plotting.utils_plotting.create_figure_axes(figure_size=(20, 8))\n",
    "n_rows = 40\n",
    "n_cols = 3\n",
    "figsize = (20, n_rows * 8)\n",
    "fig, axes, axes_colorbar = a2.plotting.utils_plotting.create_axes_grid(\n",
    "    n_cols=n_cols,\n",
    "    n_rows=n_rows,\n",
    "    figure_size=figsize,\n",
    "    colorbar_width=0.02,\n",
    "    spacing_x=0.01,\n",
    "    spacing_y=0.003,\n",
    "    colorbar_skip_row_col=[[i, 0] for i in range(n_rows)],\n",
    ")\n",
    "\n",
    "\n",
    "def plot_single(ax, ax2, ax3, station_number, time, tp, axes_colorbar0, axes_colorbar1):\n",
    "    time_radar = time[:]\n",
    "    ax.axhline(0.1, color=\"r\")\n",
    "    df_sel = a2.dataset.stations.get_dataframe_from_station_number(\n",
    "        df_stations, station_number, key_station_number=\"station_number\"\n",
    "    )\n",
    "    ylim = [0, 3]\n",
    "    latitude, longitude = df_sel[\"latitude\"].values[0], df_sel[\"longitude\"].values[0]\n",
    "    latitude, longitude = np.round(latitude, 1), np.round(longitude, 1)\n",
    "    # print(latitude, longitude)\n",
    "    a2.plotting.timeseries.plot_timeseries(\n",
    "        \"ob_end_time\", \"prcp_amt\", df_sel, ax=ax, xlim=time_range, label=\"station\", ylim=ylim\n",
    "    )  # , linewidth=0.3)\n",
    "    tp_radar = tp[:, station_number, 0]\n",
    "    a2.plotting.timeseries.plot_timeseries(\n",
    "        time,\n",
    "        tp_radar,\n",
    "        ax=ax,\n",
    "        xlim=time_range,\n",
    "        label=\"radar\",\n",
    "        ylim=ylim,\n",
    "        color=\"black\",\n",
    "        alpha=0.6,\n",
    "        marker=\".\",\n",
    "        linestyle=\"\",\n",
    "    )\n",
    "    # a2.plotting.timeseries.plot_timeseries(time, tp[0], ax=ax, xlim=time_range, label='radar', ylim=ylim)\n",
    "    tp_era5 = ds_era.sel(time_half=slice(*time_range), longitude=longitude, latitude=latitude)[\"tp_h_mm\"].values\n",
    "    time_era5 = ds_era.sel(time_half=slice(*time_range), longitude=longitude, latitude=latitude)[\"time_half\"].values\n",
    "    t = df_sel.ob_end_time.values\n",
    "    mask_time_station = np.logical_and(t >= time_range[0], t <= time_range[1])\n",
    "    time_station = t[mask_time_station]\n",
    "    tp_station = df_sel.prcp_amt.values[mask_time_station]\n",
    "\n",
    "    def get_raining(time, tp, threshold):\n",
    "        mask_sort = np.argsort(time)\n",
    "        time_sorted, tp_sorted = time[mask_sort], tp[mask_sort]\n",
    "        rain = np.array(tp_sorted >= threshold, dtype=int)\n",
    "        return time_sorted, rain\n",
    "\n",
    "    def plot_confusion_matrix(ax, x, y, label_x, label_y, ax_colorbar):\n",
    "        a2.plotting.histograms.plot_histogram_2d(\n",
    "            x,\n",
    "            y,\n",
    "            label_x=label_x,\n",
    "            label_y=label_y,\n",
    "            ax=ax,\n",
    "            marginal_x=None,\n",
    "            marginal_y=None,\n",
    "            ax_colorbar=ax_colorbar,\n",
    "            n_bins=2,\n",
    "            overplot_values=True,\n",
    "        )\n",
    "\n",
    "    threshold = 0.1\n",
    "    time_station, tp_station = get_raining(time_station, tp_station, threshold)\n",
    "    time_era5, tp_era5 = get_raining(time_era5, tp_era5, threshold)\n",
    "    time_radar, tp_radar = get_raining(time_radar, tp_radar, threshold)\n",
    "    time_station, tp_station = time_station[:-1], tp_station[:-1]\n",
    "    time_radar, tp_radar = time_radar[:-1], tp_radar[:-1]\n",
    "    if tp_station.shape != tp_era5.shape:\n",
    "        return\n",
    "    plot_confusion_matrix(ax2, tp_station, tp_era5, \"station\", \"era5\", ax_colorbar=axes_colorbar0)\n",
    "    plot_confusion_matrix(ax3, tp_station, tp_radar, \"station\", \"radar\", ax_colorbar=axes_colorbar1)\n",
    "    ds_era.sel(time_half=slice(*time_range), longitude=longitude, latitude=latitude)[\"tp_h_mm\"].plot(\n",
    "        ax=ax, label=\"era5\", ylim=ylim\n",
    "    )  # , linewidth=0.3)\n",
    "    ax.legend()\n",
    "\n",
    "\n",
    "for i_row in range(n_rows):\n",
    "    # for i_col in range(n_cols):\n",
    "    #     ax = axes[i_row, i_col]\n",
    "    i_plot = i_row + i_row * n_cols\n",
    "    plot_single(*axes[i_row, :], i_row, time, tp, axes_colorbar[i_row][1], axes_colorbar[i_row][2])"
   ]
  },
  {
   "cell_type": "code",
   "execution_count": null,
   "metadata": {},
   "outputs": [],
   "source": []
  }
 ],
 "metadata": {
  "kernelspec": {
   "display_name": ".venv",
   "language": "python",
   "name": "python3"
  },
  "language_info": {
   "codemirror_mode": {
    "name": "ipython",
    "version": 3
   },
   "file_extension": ".py",
   "mimetype": "text/x-python",
   "name": "python",
   "nbconvert_exporter": "python",
   "pygments_lexer": "ipython3",
   "version": "3.10.12"
  },
  "vscode": {
   "interpreter": {
    "hash": "06c3f19a037da30281d10f8fbda7f2df02465bd919ed005b52297a6fc2623835"
   }
  }
 },
 "nbformat": 4,
 "nbformat_minor": 4
}
