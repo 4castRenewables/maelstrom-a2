{
 "cells": [
  {
   "cell_type": "markdown",
   "metadata": {},
   "source": [
    "# Assign radar precipitation to Tweets dataset\n",
    "\n",
    "The notebook was used to assign radar data from nimrod files converted to netcdf files. This is extremely memory intensive (~50TB, only possible on HPC cluster), which is why an alternative function exists that doesn't save extracted netcdf files to disk but just uses this format to assign radar data to the Twitter dataset (see `a2.dataset.radar.assign_radar_to_tweets`)."
   ]
  },
  {
   "cell_type": "code",
   "execution_count": null,
   "metadata": {},
   "outputs": [],
   "source": [
    "# allows update of external libraries without need to reload package\n",
    "%load_ext autoreload\n",
    "%autoreload 2"
   ]
  },
  {
   "cell_type": "code",
   "execution_count": null,
   "metadata": {},
   "outputs": [],
   "source": [
    "import datetime\n",
    "import glob\n",
    "import logging\n",
    "import math\n",
    "import os\n",
    "import pathlib\n",
    "import re\n",
    "import sys\n",
    "\n",
    "LIBRARY_PATH = \"/p/home/jusers/ehlert1/juwels/a2/src/\"\n",
    "sys.path.append(LIBRARY_PATH)\n",
    "\n",
    "import matplotlib.pyplot as plt\n",
    "import numpy as np\n",
    "import pandas as pd\n",
    "import tqdm\n",
    "import xarray\n",
    "\n",
    "import a2.dataset\n",
    "import a2.plotting\n",
    "import a2.utils\n",
    "import pyproj\n",
    "\n",
    "\n",
    "logging.basicConfig(level=logging.INFO)"
   ]
  },
  {
   "cell_type": "code",
   "execution_count": null,
   "metadata": {},
   "outputs": [],
   "source": [
    "FOLDER_TWEETS = pathlib.Path(\"/home/kristian/Projects/a2/data/tweets/\")\n",
    "FOLDER_TWEETS = pathlib.Path(\"/p/scratch/deepacf/maelstrom/maelstrom_data/ap2/data/tweets\")\n",
    "\n",
    "FILE_TWEETS = (\n",
    "    FOLDER_TWEETS\n",
    "    / \"2017_2020_tweets_rain_sun_vocab_emojis_locations_bba_Tp_era5_no_bots_normalized_filtered_weather_stations_predicted_simpledeberta.nc\"\n",
    ")\n",
    "\n",
    "\n",
    "FOLDER_RADAR = pathlib.Path(\"/home/kristian/Downloads/metoffice-c-band-rain-radar_uk_20220102_1km-composite/\")\n",
    "FOLDER_RADAR = pathlib.Path(\"/home/kristian/Downloads/metoffice-c-band-rain-radar_uk_20090221_1km-composite\")\n",
    "FOLDER_RADAR = pathlib.Path(\"/p/scratch/deepacf/maelstrom/maelstrom_data/ap2/data/precipitation/radar/badc\")"
   ]
  },
  {
   "cell_type": "code",
   "execution_count": null,
   "metadata": {},
   "outputs": [],
   "source": [
    "ds_tweets = xarray.open_dataset(FILE_TWEETS)\n",
    "ds_tweets_sel = ds_tweets.where(\n",
    "    (ds_tweets.created_at >= np.datetime64(\"2020-10-09T00:00:00.000000000\"))\n",
    "    & (ds_tweets.created_at <= np.datetime64(\"2020-10-09T23:55:00.000000000\")),\n",
    "    drop=True,\n",
    ")"
   ]
  },
  {
   "cell_type": "code",
   "execution_count": null,
   "metadata": {},
   "outputs": [],
   "source": [
    "ds_tweets = a2.dataset.radar.assign_radar_to_tweets(\n",
    "    ds_tweets,\n",
    "    round_ngt_offset=500,\n",
    "    round_ngt_decimal=-3,\n",
    "    round_time_to_base=5,\n",
    "    base_folder=\"/p/scratch/deepacf/maelstrom/maelstrom_data/ap2/data/precipitation/radar\",\n",
    "    processes=-1,\n",
    ")"
   ]
  },
  {
   "cell_type": "code",
   "execution_count": null,
   "metadata": {},
   "outputs": [],
   "source": [
    "ds_tweets.to_netcdf(\n",
    "    FOLDER_TWEETS\n",
    "    / \"2017_2020_tweets_rain_sun_vocab_emojis_locations_bba_Tp_era5_no_bots_normalized_filtered_weather_stations_predicted_simpledeberta_radar.nc\"\n",
    ")"
   ]
  },
  {
   "cell_type": "code",
   "execution_count": null,
   "metadata": {},
   "outputs": [],
   "source": [
    "plt.scatter(ds_tweets_sel.created_at.values, ds_tweets_sel[\"tp_mm_radar\"].values)"
   ]
  }
 ],
 "metadata": {
  "kernelspec": {
   "display_name": "a2-laF_Cm_L-py3.10",
   "language": "python",
   "name": "python3"
  },
  "language_info": {
   "codemirror_mode": {
    "name": "ipython",
    "version": 3
   },
   "file_extension": ".py",
   "mimetype": "text/x-python",
   "name": "python",
   "nbconvert_exporter": "python",
   "pygments_lexer": "ipython3",
   "version": "3.10.6 (main, Nov  2 2022, 18:53:38) [GCC 11.3.0]"
  },
  "vscode": {
   "interpreter": {
    "hash": "a06658bfc983828e336131948d402e02953311214b959ca171c834c9d9b531a9"
   }
  }
 },
 "nbformat": 4,
 "nbformat_minor": 4
}
