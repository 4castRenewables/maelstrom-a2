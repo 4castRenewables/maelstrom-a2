{
 "cells": [
  {
   "cell_type": "markdown",
   "id": "d5a651a4-be52-4b49-bf73-f7285f52f526",
   "metadata": {},
   "source": [
    "# Reduces tweet text of large dataset \n",
    "- Includes work arounds to remain within local memory limit (32 GB) for large dataset (~3M tweets from years 2017-2020)\n",
    "- Weather bots are removed by removing tweets from sources with mostly activity from weather bots\n",
    "- Tweets are normalized such that\n",
    "    - emojis including keywords are replaced by their string description\n",
    "    - remaining emojis are removed\n",
    "    - model is case sensitive, so cases remain\n",
    "    - only tweets with keywords after normalization are retained"
   ]
  },
  {
   "cell_type": "code",
   "execution_count": null,
   "id": "7c54ef19-9553-46f6-948e-d03a8466a114",
   "metadata": {},
   "outputs": [],
   "source": [
    "# allows update of external libraries without need to reload package\n",
    "%load_ext autoreload\n",
    "%autoreload 2"
   ]
  },
  {
   "cell_type": "code",
   "execution_count": null,
   "id": "19ec75ab-9652-464a-b496-15a7dd387fc8",
   "metadata": {},
   "outputs": [],
   "source": [
    "import pandas as pd\n",
    "import numpy as np\n",
    "import matplotlib.pyplot as plt\n",
    "import pathlib\n",
    "import re\n",
    "import os\n",
    "import xarray\n",
    "import logging\n",
    "\n",
    "logging.basicConfig(level=logging.INFO)\n",
    "\n",
    "import torch\n",
    "import torch.nn.functional\n",
    "\n",
    "import a2.dataset.load_dataset\n",
    "import a2.dataset.utils_dataset\n",
    "import a2.preprocess\n",
    "import a2.utils\n",
    "import a2.plotting"
   ]
  },
  {
   "cell_type": "code",
   "execution_count": null,
   "id": "c715846e-3562-4e5a-9e82-a301d397d507",
   "metadata": {},
   "outputs": [],
   "source": [
    "FOLDER_DATA = \"/p/project/deepacf/maelstrom/ehlert1/data/tweets/\"\n",
    "FOLDER_DATA = \"../data/tweets/\"\n",
    "FILE_DATA = FOLDER_DATA + \"gb_2020_rain_sun_vocab_emojisfixed_location_precipitation.nc\"\n",
    "figure_path = pathlib.Path(\"../figures/data/gb_2017-2020_rain_sun_vocab_emojis/\")"
   ]
  },
  {
   "cell_type": "code",
   "execution_count": null,
   "id": "6e340644-dc11-4e8d-8be2-0ba7c7e08de4",
   "metadata": {},
   "outputs": [],
   "source": [
    "header = \"🏔️ OR 🏔️ OR ☀️ OR ☀️ OR 🌞 OR ⛅ OR ⛈️ OR ⛈️ OR 🌤️ OR 🌤️ OR 🌥️ OR 🌥️ OR 🌦️ OR 🌦️ OR 🌧️ OR 🌧️ OR 🌨️ OR 🌨️ OR 🌩️ OR 🌩️ OR ☔ OR ⛄ OR blizzard OR cloudburst OR downpour OR drizzle OR flash flood OR flood OR flood stage OR forecast OR freezing rain OR hail OR ice storm OR lightning OR precipitation OR rain OR rain gauge OR rain shadow OR rainbands OR rain shower OR snow OR snow shower OR snowstorm OR sun OR sunny OR thunder OR thunderstorm\"\n",
    "keywords = header.split(\" OR \")"
   ]
  },
  {
   "cell_type": "markdown",
   "id": "e325f476-4463-4996-bd71-73f34e3526fc",
   "metadata": {},
   "source": [
    "## Load Data"
   ]
  },
  {
   "cell_type": "code",
   "execution_count": null,
   "id": "80fe116a-fcc9-4a95-98fd-d15de83ea3ff",
   "metadata": {},
   "outputs": [],
   "source": [
    "np.unique(ds_raw.source)"
   ]
  },
  {
   "cell_type": "code",
   "execution_count": null,
   "id": "7e6134ca-51c4-42ce-8583-b865de8988f0",
   "metadata": {},
   "outputs": [],
   "source": [
    "ds_raw = a2.dataset.load_dataset.load_tweets_dataset(\n",
    "    FOLDER_DATA + \"2017_2020_tweets_rain_sun_vocab_emojis_locations_bba_Tp_era5.nc\",\n",
    "    raw=True,\n",
    ")"
   ]
  },
  {
   "cell_type": "code",
   "execution_count": null,
   "id": "b5cc2c44-933f-48a3-a284-27cfa3ee9cd0",
   "metadata": {},
   "outputs": [],
   "source": [
    "ds_raw[\"author_id\"] = ([\"index\"], ds_raw[\"author_id\"].astype(int).values)"
   ]
  },
  {
   "cell_type": "markdown",
   "id": "3b1a16cf-c98c-451c-ac9e-c9615860df3e",
   "metadata": {},
   "source": [
    "## Filter out bots based on source of tweet frequently used for weather bots"
   ]
  },
  {
   "cell_type": "code",
   "execution_count": null,
   "id": "1b602a83-381f-4cd6-a054-4037feae7b88",
   "metadata": {},
   "outputs": [],
   "source": [
    "sources_not_bots = [\n",
    "    \"Twitter for iPhone\",\n",
    "    \"Twitter for Android\",\n",
    "    \"Instagram\",\n",
    "    \"Twitter Web Client\",\n",
    "    \"Twitter for iPad\",\n",
    "    \"Tweetbot for iΟS\",\n",
    "    \"Untappd\",\n",
    "    \"Foursquare\",\n",
    "    \"Tweetbot for Mac\",\n",
    "    \"TweetCaster for Android\",\n",
    "    \"Twitter for Windows Phone\",\n",
    "    \"Echofon\",\n",
    "    \"Hootsuite\",\n",
    "]\n",
    "sources_bots = [\n",
    "    \"pywws\",\n",
    "    \"Sandaysoft Cumulus\",\n",
    "    \"MeteoWare Plus+\",\n",
    "    \"dlvr.it\",\n",
    "    \"World Cities\",\n",
    "    \"SunTracker\",\n",
    "    \"BordersWeatherWeb\",\n",
    "    \"Wolfson College Solar Panels\",\n",
    "    \"wezzoo\",\n",
    "    \"Trendsmap Alerting\",\n",
    "    \"Weather Clock\",\n",
    "    \"Rude Weather App\",\n",
    "    \"Bowvie Weather\",\n",
    "    \"Make \\(formerly Integromat\\)\",\n",
    "    \"Duukkis\",\n",
    "    \"Weather Station\",\n",
    "    \"NPTOHC API\",\n",
    "    \"Beep!Beep!\",\n",
    "]"
   ]
  },
  {
   "cell_type": "code",
   "execution_count": null,
   "id": "8100b7b1-d314-4040-8f64-c0a5bec0be8f",
   "metadata": {
    "tags": []
   },
   "outputs": [],
   "source": [
    "%%time\n",
    "group_by_source = a2.dataset.utils_dataset.print_tweet_groupby(\n",
    "    ds_raw.where(ds_raw.source.str.contains(\"|\".join(sources_bots)), drop=True),\n",
    "    \"source\",\n",
    "    n_groups=10,\n",
    ")"
   ]
  },
  {
   "cell_type": "code",
   "execution_count": null,
   "id": "78ad240a-1f18-4b29-839c-82e5d99fce36",
   "metadata": {},
   "outputs": [],
   "source": [
    "%time\n",
    "ds_no_bots = ds_raw.where(~ds_raw.source.str.contains(\"|\".join(sources_bots)), drop=True)\n",
    "ds_no_bots = a2.dataset.load_dataset.reset_index_coordinate(ds_no_bots)"
   ]
  },
  {
   "cell_type": "code",
   "execution_count": null,
   "id": "d6029155-d014-4812-857d-f7b55962bb86",
   "metadata": {},
   "outputs": [],
   "source": [
    "a2.dataset.load_dataset.save_dataset(\n",
    "    ds_no_bots,\n",
    "    FOLDER_DATA + \"2017_2020_tweets_rain_sun_vocab_emojis_locations_bba_Tp_era5_no_bots.nc\",\n",
    ")"
   ]
  },
  {
   "cell_type": "markdown",
   "id": "c70b19d1-ebf2-4d78-b615-40c4b471ac28",
   "metadata": {
    "tags": []
   },
   "source": [
    "## Check for bot terms"
   ]
  },
  {
   "cell_type": "code",
   "execution_count": null,
   "id": "05bd1129-87c3-4971-a44c-1c446055286f",
   "metadata": {},
   "outputs": [],
   "source": [
    "bot_terms = [\n",
    "    \"Hum\",\n",
    "    \"Press\",\n",
    "    \"Barometer\",\n",
    "    \"Pressure\",\n",
    "    \"Humidity\",\n",
    "    \"Baro\",\n",
    "    \"Humid\",\n",
    "    \"Hum.\",\n",
    "    \"Pressure:\",\n",
    "]"
   ]
  },
  {
   "cell_type": "code",
   "execution_count": null,
   "id": "1c35a9e2-b75f-4138-b9d1-5501f5646719",
   "metadata": {
    "jupyter": {
     "outputs_hidden": true
    },
    "tags": []
   },
   "outputs": [],
   "source": [
    "ds_no_bots.where(\n",
    "    ds_no_bots.text.str.contains(r\"\\b(?:\" + \"|\".join(bot_terms) + r\")\\b\", flags=re.IGNORECASE),\n",
    "    drop=True,\n",
    ")"
   ]
  },
  {
   "cell_type": "code",
   "execution_count": null,
   "id": "12766529-979c-4d94-bee2-7a909116e4b7",
   "metadata": {},
   "outputs": [],
   "source": [
    "%%time\n",
    "ds_no_bots = a2.dataset.load_dataset.load_tweets_dataset(\n",
    "    \"2017_2020_tweets_rain_sun_vocab_emojis_locations_bba_precipitation_no_bots.nc\",\n",
    "    raw=True,\n",
    ")"
   ]
  },
  {
   "cell_type": "code",
   "execution_count": null,
   "id": "7dc326f8-9d81-42cb-815b-357bc7ccfd55",
   "metadata": {
    "tags": []
   },
   "outputs": [],
   "source": [
    "%%time\n",
    "group_by_source = a2.dataset.utils_dataset.print_tweet_groupby(\n",
    "    ds_no_bots, \"source\", n_groups=10\n",
    ")  # ,ds_grouped=group_by_source)"
   ]
  },
  {
   "cell_type": "code",
   "execution_count": null,
   "id": "f27e21d7-d759-4cb4-bec8-98480aecc078",
   "metadata": {
    "tags": []
   },
   "outputs": [],
   "source": [
    "%%time\n",
    "# very expensive\n",
    "group_by_author = a2.dataset.utils_dataset.print_tweet_groupby(ds_no_bots, \"author_id\", n_groups=50)"
   ]
  },
  {
   "cell_type": "code",
   "execution_count": null,
   "id": "369cf38b-b67c-457a-88fd-42ddc1bd4f08",
   "metadata": {
    "jupyter": {
     "outputs_hidden": true
    },
    "tags": []
   },
   "outputs": [],
   "source": [
    "%%time\n",
    "with xarray.set_options(use_flox=True):\n",
    "    group_by_author_flox = a2.dataset.utils_dataset.print_tweet_groupby(ds_no_bots, \"author_id\", n_groups=50)"
   ]
  },
  {
   "cell_type": "markdown",
   "id": "73c26d17-e36c-44cb-a580-765f9e98c701",
   "metadata": {},
   "source": [
    "## Reload dataset"
   ]
  },
  {
   "cell_type": "code",
   "execution_count": null,
   "id": "04734b66-408e-4801-aba2-2a1f4ea187a3",
   "metadata": {},
   "outputs": [],
   "source": [
    "%%time\n",
    "ds_no_bots = a2.dataset.load_dataset.load_tweets_dataset(\n",
    "    FOLDER_DATA + \"2017_2020_tweets_rain_sun_vocab_emojis_locations_bba_Tp_era5_no_bots.nc\",\n",
    "    # \"2017_2020_tweets_rain_sun_vocab_emojis_locations_bba_precipitation_no_bots.nc\",\n",
    "    raw=True,\n",
    ")"
   ]
  },
  {
   "cell_type": "code",
   "execution_count": null,
   "id": "603d45d0-ef16-43b5-b4b8-c9e5955b4818",
   "metadata": {},
   "outputs": [],
   "source": [
    "ds_no_bots[\"text\"] = ([\"index\"], ds_no_bots.text_original.values.copy())"
   ]
  },
  {
   "cell_type": "code",
   "execution_count": null,
   "id": "82d4d52d-ae06-4e9b-b6d1-4b7573c74a77",
   "metadata": {},
   "outputs": [],
   "source": [
    "emojis, emojis_dic = a2.preprocess.normalize_text.get_emojis_and_dictionary(\"keywords\", keywords=keywords)"
   ]
  },
  {
   "cell_type": "code",
   "execution_count": null,
   "id": "0f278e64-5c89-49e4-82d2-dd3c65042a34",
   "metadata": {},
   "outputs": [],
   "source": [
    "ds_emojis = ds_no_bots.where(\n",
    "    ds_no_bots.text.str.contains(\"|\".join(emojis_dic.keys())),\n",
    "    drop=True,\n",
    ")\n",
    "ds_emojis"
   ]
  },
  {
   "cell_type": "markdown",
   "id": "1d9a234d-a9d7-41cc-ad81-b514cc6d734d",
   "metadata": {},
   "source": [
    "## Combine filtering and normalization"
   ]
  },
  {
   "cell_type": "code",
   "execution_count": null,
   "id": "df85d233-0c23-4e7a-a686-2253cf9e54a3",
   "metadata": {},
   "outputs": [],
   "source": [
    "ds_no_bots[\"text_original\"] = ([\"index\"], ds_no_bots.text.values.copy())"
   ]
  },
  {
   "cell_type": "code",
   "execution_count": null,
   "id": "b557121c-c9e8-43c7-bcb7-87eba6b62320",
   "metadata": {},
   "outputs": [],
   "source": [
    "ds_no_bots_nf = a2.preprocess.normalize_text.normalize_filter_dataset(ds_no_bots)"
   ]
  },
  {
   "cell_type": "code",
   "execution_count": null,
   "id": "ab7b7716-52a5-4f97-93f1-75da62ab5398",
   "metadata": {},
   "outputs": [],
   "source": [
    "ds_no_bots_nf"
   ]
  },
  {
   "cell_type": "code",
   "execution_count": null,
   "id": "8bd94a83-14e8-429f-94e7-1cffa5511d68",
   "metadata": {},
   "outputs": [],
   "source": [
    "a2.dataset.load_dataset.save_dataset(\n",
    "    ds_no_bots_nf,\n",
    "    \"../data/tweets/2017_2020_tweets_rain_sun_vocab_emojis_locations_bba_Tp_era5_no_bots_normalized_filtered.nc\",\n",
    ")"
   ]
  },
  {
   "cell_type": "markdown",
   "id": "dc92a708-ebb1-4b0c-b619-86e17b608cd6",
   "metadata": {},
   "source": [
    "## Thorough walkthrough of filtering and normalization"
   ]
  },
  {
   "cell_type": "code",
   "execution_count": null,
   "id": "ae1a4bf2-4d9c-466c-9ec8-f2f5027e9969",
   "metadata": {
    "tags": []
   },
   "outputs": [],
   "source": [
    "%%time\n",
    "normalizer = a2.preprocess.normalize_text.Normalizer(keywords=keywords)\n",
    "logging.info(normalizer.emojis_dic)\n",
    "normalized_text = a2.utils.utils.parallelize(\n",
    "    function=normalizer.normalize,\n",
    "    args=zip(ds_no_bots.text.values, ds_no_bots.source.values),\n",
    "    kwargs_as_dict=dict(\n",
    "        ignore_non_ascii=True,\n",
    "        remove_punctuations=\"keep_stopwords\",\n",
    "        replace_keyword_emojis=False,\n",
    "    ),\n",
    ")"
   ]
  },
  {
   "cell_type": "code",
   "execution_count": null,
   "id": "335be47e-4051-435e-91e2-4700a9932b53",
   "metadata": {},
   "outputs": [],
   "source": [
    "ds_no_bots[\"text_original\"] = ([\"index\"], ds_no_bots.text.values.copy())\n",
    "index_max = ds_no_bots.index.shape[0]\n",
    "indices = np.linspace(0, index_max, 24, dtype=int)\n",
    "\n",
    "for index_start, index_end in zip(indices[:-1], indices[1:]):\n",
    "    mask = (ds_no_bots.index >= index_start) & (ds_no_bots.index <= index_end)\n",
    "    ds_no_bots[\"text\"].loc[mask] = normalized_text[index_start : index_end + 1]"
   ]
  },
  {
   "cell_type": "code",
   "execution_count": null,
   "id": "5ad03613-23b6-4de8-bd5a-45b5d2cf72dc",
   "metadata": {},
   "outputs": [],
   "source": [
    "emojis, emojis_dic = a2.preprocess.normalize_text.get_emojis_and_dictionary(\n",
    "    scope=\"keywords\", keywords=keywords, add_space_name=True\n",
    ")"
   ]
  },
  {
   "cell_type": "code",
   "execution_count": null,
   "id": "47e5838c-430a-40f4-b8c1-8c0febfe9463",
   "metadata": {},
   "outputs": [],
   "source": [
    "ds_no_bots"
   ]
  },
  {
   "cell_type": "code",
   "execution_count": null,
   "id": "7850635b-0ff0-4dbb-a90b-acefa476baa0",
   "metadata": {},
   "outputs": [],
   "source": [
    "ds_emojis = ds_no_bots.where(\n",
    "    ds_no_bots.text_original.str.contains(\"|\".join(normalizer.emojis_dic.keys())),\n",
    "    drop=True,\n",
    ")"
   ]
  },
  {
   "cell_type": "code",
   "execution_count": null,
   "id": "2d89655f-a0e2-450f-b3e5-529698257b52",
   "metadata": {},
   "outputs": [],
   "source": [
    "ds = ds_emojis.where(ds_emojis.source.str.contains(\"Instagram\"), drop=True)\n",
    "ds = a2.dataset.load_dataset.reset_index_coordinate(ds)\n",
    "for index in a2.utils.utils.get_random_indices(10, ds.index.shape[0]):\n",
    "    print(f\"index: {index}\")\n",
    "    print(\"-----------\")\n",
    "    print(ds.text_original.values[index])\n",
    "    print(\"___________\")\n",
    "    print(a2.preprocess.normalize_text.remove_instagram_atsign(ds.text_original.values[index]))\n",
    "    print(\"___________\")\n",
    "    print(ds.text.values[index])\n",
    "    print(\"___________\")"
   ]
  },
  {
   "cell_type": "code",
   "execution_count": null,
   "id": "bee9ec1a-4680-43b6-a340-d80cab2e9d50",
   "metadata": {},
   "outputs": [],
   "source": [
    "ds_at_sign = ds_no_bots.where(ds_no_bots.text_original.str.contains(\"@\"), drop=True)"
   ]
  },
  {
   "cell_type": "code",
   "execution_count": null,
   "id": "8e8d1d9b-587a-4fe4-a6b0-7b7b852fb605",
   "metadata": {},
   "outputs": [],
   "source": [
    "ds_at_sign = a2.dataset.load_dataset.reset_index_coordinate(ds_at_sign)\n",
    "for index in a2.utils.utils.get_random_indices(20, ds_at_sign.index.shape[0]):\n",
    "    print(f\"index: {index}\")\n",
    "    print(ds_at_sign.source.values[index])\n",
    "    print(\"-----------\")\n",
    "    print(ds_at_sign.text_original.values[index])\n",
    "    print(\"---------------->>>\")\n",
    "    print(ds_at_sign.text.values[index])"
   ]
  },
  {
   "cell_type": "markdown",
   "id": "3c8a0bc0-bd13-471a-96ab-b1dac2be747d",
   "metadata": {},
   "source": [
    "## Include only tweets containing at least one keyword (including converted hashtags/emojis)"
   ]
  },
  {
   "cell_type": "code",
   "execution_count": null,
   "id": "d23f94c5-1364-4926-8fd0-6a416f799284",
   "metadata": {},
   "outputs": [],
   "source": [
    "ds_no_keywords = ds_no_bots.where(\n",
    "    ~ds_no_bots.text.str.contains(\"|\".join(keywords), flags=re.IGNORECASE),\n",
    "    drop=True,\n",
    ")\n",
    "print(f\"{ds_no_keywords.index.shape[0]} Tweets have no keyword/emoji after normalizing!\")"
   ]
  },
  {
   "cell_type": "code",
   "execution_count": null,
   "id": "c345128d-7e5a-442e-943e-27c7134a5afc",
   "metadata": {},
   "outputs": [],
   "source": [
    "ds_no_keywords = a2.dataset.load_dataset.reset_index_coordinate(ds_no_keywords)\n",
    "for index in a2.utils.utils.get_random_indices(10, ds_no_keywords.index.shape[0]):\n",
    "    print(\"-----------\")\n",
    "    print(ds_no_keywords.text.values[index])\n",
    "    print(ds_no_keywords.text_original.values[index])"
   ]
  },
  {
   "cell_type": "code",
   "execution_count": null,
   "id": "773a85a6-8c23-447f-8234-2ff204b01a81",
   "metadata": {},
   "outputs": [],
   "source": [
    "ds_keywords = ds_no_bots.where(\n",
    "    ds_no_bots.text.str.contains(\"|\".join(keywords), flags=re.IGNORECASE),\n",
    "    drop=True,\n",
    ")"
   ]
  },
  {
   "cell_type": "code",
   "execution_count": null,
   "id": "c2c51b13-3ec9-45fa-b411-41c85d5015ae",
   "metadata": {},
   "outputs": [],
   "source": [
    "ds_keywords = a2.dataset.load_dataset.reset_index_coordinate(ds_keywords)"
   ]
  },
  {
   "cell_type": "code",
   "execution_count": null,
   "id": "296b620c-acc2-4f1a-bd19-3a4bb2141bc1",
   "metadata": {},
   "outputs": [],
   "source": [
    "a2.dataset.load_dataset.save_dataset(\n",
    "    ds_keywords,\n",
    "    \"2017_2020_tweets_rain_sun_vocab_emojis_locations_bba_precipitation_no_bots_normalized.nc\",\n",
    "    add_attributes=\"normalized tweets, kept keywords in hashtags, converted emojis to text, only texts with at least on keyword remain, remove_punctuations=keep_stopwords\",\n",
    ")"
   ]
  },
  {
   "cell_type": "markdown",
   "id": "db3f5b59-f7de-45ed-83a6-5bd0a7d3863f",
   "metadata": {},
   "source": [
    "## Only keep tweets with unique text"
   ]
  },
  {
   "cell_type": "code",
   "execution_count": null,
   "id": "0c6b9cf1-a7ee-450b-ba5a-bf480b3c9d44",
   "metadata": {},
   "outputs": [],
   "source": [
    "_, indices, indices_inverse = np.unique(ds_keywords.text.values, return_index=True, return_inverse=True)"
   ]
  },
  {
   "cell_type": "code",
   "execution_count": null,
   "id": "28078ddd-b8ba-458e-8c27-bf16a9f07f61",
   "metadata": {},
   "outputs": [],
   "source": [
    "ds_unique = ds_keywords.sel(index=indices)"
   ]
  },
  {
   "cell_type": "code",
   "execution_count": null,
   "id": "0d5b1ed1-028e-4926-bc01-1f88870c24f4",
   "metadata": {},
   "outputs": [],
   "source": [
    "ds_unique = a2.dataset.load_dataset.reset_index_coordinate(ds_unique)"
   ]
  },
  {
   "cell_type": "code",
   "execution_count": null,
   "id": "968d7a79-2d3c-4757-9cc5-6fc9309bff21",
   "metadata": {},
   "outputs": [],
   "source": [
    "plt.close(\"all\")\n",
    "%matplotlib inline\n",
    "\n",
    "text = \" \".join(ds_unique.text.values)\n",
    "keywords_extended = [\"☀\"] + keywords\n",
    "occurence = []\n",
    "for k in keywords_extended:\n",
    "    occurence.append(text.count(k))\n",
    "\n",
    "import matplotlib\n",
    "\n",
    "# matplotlib.use(\"module://mplcairo.tk\")\n",
    "# prop = matplotlib.font_manager.FontProperties(\n",
    "#     fname=os.path.join(dir_name, \"fonts\", \"Symbola.ttf\")\n",
    "# )\n",
    "# plt.rcParams[\"axes.unicode_minus\"] = False  # These two lines need to be set manually\n",
    "# plt.rcParams[\"font.family\"] = prop.get_family()\n",
    "fig, axs = plt.subplots(2, 1, figsize=(20, 10), constrained_layout=True)\n",
    "for i, log in enumerate([True, False]):\n",
    "    ax = axs[i]\n",
    "    plot = ax.bar(np.arange(len(occurence)), occurence)\n",
    "    labels = [\"{}\".format(x) for x in keywords_extended]\n",
    "    for rect1, label in zip(plot, labels):\n",
    "        height = rect1.get_height()\n",
    "        ax.annotate(\n",
    "            label,\n",
    "            (rect1.get_x() + rect1.get_width() / 2, height + 5),\n",
    "            ha=\"center\",\n",
    "            va=\"bottom\",\n",
    "            fontsize=16,\n",
    "            # fontproperties=prop,\n",
    "            rotation=90,\n",
    "        )\n",
    "    ax.tick_params(axis=\"x\", labelrotation=90)\n",
    "    ax.set_xlabel(\"keywords\")\n",
    "    ax.set_ylabel(\"counts\")\n",
    "    if log:\n",
    "        ax.set_yscale(\"log\")\n",
    "fig.savefig(\"word_count_tokenized.pdf\")"
   ]
  },
  {
   "cell_type": "code",
   "execution_count": null,
   "id": "c32e212e-401e-471f-8b0d-ea313a090c7c",
   "metadata": {},
   "outputs": [],
   "source": [
    "filename = figure_path / f\"tweets_reduced_2017-2020_tp_histogram.pdf\"\n",
    "a2.plotting.histograms.plot_histogram(\n",
    "    ds_unique.tp.values,\n",
    "    log=[\"symlog\", \"log\"],\n",
    "    linear_thresh=1e-9,\n",
    "    n_bins=100,\n",
    "    label_x=\"tp\",\n",
    "    filename=filename,\n",
    ")"
   ]
  },
  {
   "cell_type": "code",
   "execution_count": null,
   "id": "b9723123-f730-428c-9d4c-59b8ee1e6551",
   "metadata": {},
   "outputs": [],
   "source": [
    "filename = figure_path / f\"tweets_reduced_2017-2020_tp_histogram.pdf\"\n",
    "a2.plotting.histograms.plot_histogram_2d(\n",
    "    ds_unique.tp.values,\n",
    "    ds_unique.tp.values > 1e-8,\n",
    "    log=[\"symlog\", False],\n",
    "    linear_thresh=1e-9,\n",
    "    n_bins=[10, 2],\n",
    "    label_x=\"tp\",\n",
    "    filename=filename,\n",
    ");"
   ]
  },
  {
   "cell_type": "code",
   "execution_count": null,
   "id": "a6eac2a6-4924-4b39-abc0-84f6cd93c82b",
   "metadata": {},
   "outputs": [],
   "source": [
    "ds_no_negative_tp = ds_unique.where(~(ds_unique.tp < 0), drop=True)"
   ]
  },
  {
   "cell_type": "code",
   "execution_count": null,
   "id": "1a086775-96db-4fc6-8473-2e7eddfd7c0e",
   "metadata": {},
   "outputs": [],
   "source": [
    "filename = figure_path / f\"tweets_reduced_2017-2020_tp_histogram.pdf\"\n",
    "a2.plotting.histograms.plot_histogram_2d(\n",
    "    ds_unique.tp.values,\n",
    "    ds_unique.raining.values,\n",
    "    log=[\"symlog\", False],\n",
    "    linear_thresh=1e-9,\n",
    "    n_bins=[10, 2],\n",
    "    label_x=\"tp\",\n",
    "    filename=filename,\n",
    ");"
   ]
  },
  {
   "cell_type": "code",
   "execution_count": null,
   "id": "77677466-56de-420d-b711-37fcd4b5c15d",
   "metadata": {},
   "outputs": [],
   "source": [
    "# update `raining` field\n",
    "ds_no_negative_tp[\"raining\"] = (\n",
    "    [\"index\"],\n",
    "    np.array(ds_no_negative_tp.tp.values > 1e-8, int),\n",
    ")"
   ]
  },
  {
   "cell_type": "code",
   "execution_count": null,
   "id": "649f7a81-e962-41b7-9d10-4fe316422afb",
   "metadata": {},
   "outputs": [],
   "source": [
    "ds_no_negative_tp.raining.plot.hist()"
   ]
  },
  {
   "cell_type": "code",
   "execution_count": null,
   "id": "5a552d21-e18f-4edf-8f30-d34112720788",
   "metadata": {},
   "outputs": [],
   "source": [
    "print(f\"in total {ds_no_negative_tp.index.shape[0]} Tweets after reduction\")"
   ]
  },
  {
   "cell_type": "code",
   "execution_count": null,
   "id": "16909c75-88c9-44ef-a40c-8d6b479cfc4e",
   "metadata": {},
   "outputs": [],
   "source": [
    "a2.dataset.load_dataset.save_dataset(\n",
    "    ds_no_negative_tp,\n",
    "    \"2017_2020_tweets_rain_sun_vocab_emojis_locations_bba_precipitation_no_bots_normalized_unique.nc\",\n",
    "    add_attributes=\", only unique Tweet texts, remove tweets with negative TP\",\n",
    ")"
   ]
  },
  {
   "cell_type": "code",
   "execution_count": null,
   "id": "1bbe44f0-d17b-439a-ac43-423971d125b0",
   "metadata": {},
   "outputs": [],
   "source": [
    "ds_no_negative_tp = a2.dataset.load_dataset.load_tweets_dataset(\n",
    "    \"../data/tweets/2017_2020_tweets_rain_sun_vocab_emojis_locations_bba_precipitation_no_bots_normalized_unique.nc\",\n",
    "    raw=True,\n",
    ")"
   ]
  },
  {
   "cell_type": "code",
   "execution_count": null,
   "id": "505d2ef5-2265-4c87-9b7a-645da82636a9",
   "metadata": {},
   "outputs": [],
   "source": [
    "ds_no_negative_tp[\"raining_old\"] = (\n",
    "    \"index\",\n",
    "    np.abs(ds_no_negative_tp[\"tp_cum\"].values) > 1e-8,\n",
    ")"
   ]
  },
  {
   "cell_type": "code",
   "execution_count": null,
   "id": "4a41455d-3365-44a7-ba0a-dcdbf248d6a2",
   "metadata": {},
   "outputs": [],
   "source": [
    "ds_no_negative_tp[\"raining\"] = (\n",
    "    \"index\",\n",
    "    np.abs(ds_no_negative_tp[\"tp\"].values) > 1e-8,\n",
    ")"
   ]
  },
  {
   "cell_type": "code",
   "execution_count": null,
   "id": "4464620f-1479-4720-88c9-59cc0e03e122",
   "metadata": {},
   "outputs": [],
   "source": [
    "x = ds_no_negative_tp.raining.values\n",
    "y = ds_no_negative_tp.raining_old.values\n",
    "a2.plotting.histograms.plot_histogram_2d(\n",
    "    x,\n",
    "    y,\n",
    "    log=False,\n",
    "    bins=[[0, 0.5, 1]] * 2,\n",
    "    label_x=\"raining\",\n",
    "    label_y=\"raining_old\",\n",
    ")"
   ]
  },
  {
   "cell_type": "code",
   "execution_count": null,
   "id": "3ea7d3ef-4791-47d6-8d6f-b82d8eb13451",
   "metadata": {
    "jupyter": {
     "outputs_hidden": true
    },
    "tags": []
   },
   "outputs": [],
   "source": [
    "alpha_numerics = re.compile(\"[\" \"\\U00002460-\\U000024FF\" \"]+\", re.UNICODE)\n",
    "ds_no_negative_tp.where(ds_no_negative_tp.text_original.str.contains(alpha_numerics), drop=True)"
   ]
  },
  {
   "cell_type": "code",
   "execution_count": null,
   "id": "22b2ca29-94fe-4ee5-9278-9e1d43bf3e3e",
   "metadata": {},
   "outputs": [],
   "source": [
    "a2.dataset.load_dataset.save_dataset(\n",
    "    ds_no_negative_tp,\n",
    "    \"../data/tweets/2017_2020_tweets_rain_sun_vocab_emojis_locations_bba_precipitation_no_bots_normalized_unique.nc\",\n",
    ")"
   ]
  },
  {
   "cell_type": "code",
   "execution_count": null,
   "id": "e730ed43-32a5-4603-9870-c86e28ba0189",
   "metadata": {},
   "outputs": [],
   "source": [
    "m = ds_no_negative_tp.source == \"Instagram\""
   ]
  },
  {
   "cell_type": "code",
   "execution_count": null,
   "id": "b996e911-c6ff-4172-b702-ec23b21ca3d3",
   "metadata": {},
   "outputs": [],
   "source": [
    "m"
   ]
  },
  {
   "cell_type": "code",
   "execution_count": null,
   "id": "9abe7b2c-42fa-4a44-86b3-6df7d195bbc4",
   "metadata": {},
   "outputs": [],
   "source": [
    "ds_no_negative_tp.sel(index=m)"
   ]
  },
  {
   "cell_type": "code",
   "execution_count": null,
   "id": "d72c3e5d-e8c3-4786-a10e-06bcc889cd4b",
   "metadata": {},
   "outputs": [],
   "source": [
    "grouped_by_raining = a2.dataset.utils_dataset.print_tweet_groupby(\n",
    "    ds_no_negative_tp,\n",
    "    \"raining\",\n",
    "    n_sample=20,\n",
    "    fields_to_print=[\"text\", \"text_original\", \"created_at\"],\n",
    ")"
   ]
  },
  {
   "cell_type": "markdown",
   "id": "ee69a9f2-2c5c-4e77-9356-d4913ae4f756",
   "metadata": {},
   "source": [
    "## Dataset completely without emojis"
   ]
  },
  {
   "cell_type": "code",
   "execution_count": null,
   "id": "f3a960d9-7509-461b-954f-02927ee74c88",
   "metadata": {},
   "outputs": [],
   "source": [
    "%%time\n",
    "ds_no_bots = a2.dataset.load_dataset.load_tweets_dataset(\n",
    "    \"2017_2020_tweets_rain_sun_vocab_emojis_locations_bba_precipitation_no_bots.nc\",\n",
    "    raw=True,\n",
    ")"
   ]
  },
  {
   "cell_type": "code",
   "execution_count": null,
   "id": "5234ef00-55fa-4fc5-8347-495ae330503c",
   "metadata": {},
   "outputs": [],
   "source": [
    "ds_no_bots"
   ]
  },
  {
   "cell_type": "code",
   "execution_count": null,
   "id": "701f1367-0a01-4269-a017-38b259d6c996",
   "metadata": {},
   "outputs": [],
   "source": []
  }
 ],
 "metadata": {
  "kernelspec": {
   "display_name": "Python 3",
   "language": "python",
   "name": "python3"
  },
  "language_info": {
   "codemirror_mode": {
    "name": "ipython",
    "version": 3
   },
   "file_extension": ".py",
   "mimetype": "text/x-python",
   "name": "python",
   "nbconvert_exporter": "python",
   "pygments_lexer": "ipython3",
   "version": "3.10.4"
  }
 },
 "nbformat": 4,
 "nbformat_minor": 5
}
