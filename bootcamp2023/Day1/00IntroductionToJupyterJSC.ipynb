{
 "cells": [
  {
   "cell_type": "markdown",
   "id": "317faaf4-f8b4-4769-8a95-9afdb52770e4",
   "metadata": {},
   "source": [
    "# Application 2: First steps on the supercomputer\n",
    "\n",
    "In this first tutorial, you will be doing first steps on **JURECA**. This tutorial assumes that you are familiar with the command prompt to a minimum degree.\n",
    "\n",
    "JURECA has two different types of nodes: \n",
    "\n",
    "* Login Nodes: The entry point to the system.\n",
    "    * Users here log in to manage their workspaces, move data, and submit jobs that are supposed to be run on the cluster.\n",
    "    * Login nodes are not designed for computational workloads!\n",
    "* Compute Nodes: The compute power of the system.\n",
    "    * Each node has multiple CPUs (64), a large amount of RAM (512GB). \n",
    "    * JURECA is a system that was especially designed for usage of GPUs and thus is equiped with 4 NVidia A100 GPUs (4 x 40GB vRAM) per node.\n",
    "    * Compute nodes are detached from the internet.\n",
    "    * JURECA in total has 200 nodes.\n",
    "   \n",
    "For detailed overviews of each system see [here](https://apps.fz-juelich.de/jsc/hps/jureca/configuration.html).\n",
    "\n"
   ]
  },
  {
   "cell_type": "markdown",
   "id": "52a471d7-4885-4402-8551-db100de29a13",
   "metadata": {
    "tags": []
   },
   "source": [
    "## Exercise 1: Setup JupyterJSC\n",
    "\n",
    "For most of the bootcamp, we will work in Jupyter notebooks that have access to the JUWELS cluster via [Jupter-JSC](https://jupyter-jsc.fz-juelich.de/hub/home). Notebook in Jupyter-JSC (like all others) rely on so called kernels that define the python environment that is used for executing code in the notebook. To get started right away, a kernel that specifies all required dependencies has been prepared for you. It relies on an apptainer image (similar to Docker) that is loaded in the background. When opening a notebook on Jupyter-JSC, the kernel should appear as \"`ap2`\". \n",
    "\n",
    "## Tasks\n",
    "\n",
    "However, using Singularity images is **not** enabled by default. To enable it\n",
    "1. Login to [judoor](https://judoor.fz-juelich.de/login).\n",
    "2. Go to: \"Software\" -> \"+ Request access to restricted software\" -> Select \"Container Runtime Engine\" -> \"Send Request\".\n",
    "\n",
    "Now create a JupyterLab that runs on a queue of the HPC cluster \n",
    "1. Login to [jupyter-jsc](https://jupyter-jsc.fz-juelich.de/hub/login).\n",
    "2. Create a new JupyterLab, i.e. \"NEW JUPYTERLAB\":   \n",
    "Four different configurations tab will appear (\"Lab Config\", \"Resources\", \"Kernels and Exensions\").\n",
    "  - \"Lab Config\": This defines the general configuration of the JupyperLab\n",
    "    - Set \"Name\" for this JupyterLab.\n",
    "    - Select newest \"Version\" (should be pre-selected).\n",
    "    - Set \"System\" to JURECA, which is the sub-cluster used for this bootcamp.\n",
    "    - Choose \"Partition\" reserved for the bootcamp \"dc-gpu\".\n",
    "  - \"Resources\": This defines computing recourses allocated to this Jupyter Lab.\n",
    "    - Set \"Nodes\" (cluster of tightly coupled processing units including GPUs) to 1\n",
    "    - Set \"Runtime\" to the time you will approximately work on this notebook. You can also pick the maximum but just do not forget to shutdown the JupyterLab when not required. \n",
    "  - \"Kernels and Exensions\": This defines the environments that are displayed. As we use our custom Jupyter kernel, this section can be ignored.\n",
    "3. Launch your configured JupyterLab\n",
    "Once the JuypterLab is ready, you will be connected to it. On the landing page you will see all applications that are accessible from the JupyerLab.\n",
    "* In the Notebook section, you can launch interactive notebooks, e.g. for Python.\n",
    "* The Console section allows you to launch interactive consoles such as an interactive Python session.\n",
    "* On the bottom, in the Other section, you are able to launch a terminal from which you can interact with the shell of the system, e.g. to browse the file system, move files, or the like.\n",
    "\n",
    "4. Run the following command to see if you have access to this application's kernel `ap2` (if not, complain to tutor)"
   ]
  },
  {
   "cell_type": "code",
   "execution_count": null,
   "id": "2cfb6270",
   "metadata": {
    "tags": []
   },
   "outputs": [],
   "source": [
    "!jupyter kernelspec list"
   ]
  },
  {
   "cell_type": "markdown",
   "id": "989dbfac",
   "metadata": {},
   "source": [
    "5. Select the kernel `ap2` when creating a new notebook or in the top right corner when editing already created notebooks.\n",
    "6. Import the module `transformers` to check if everything is setup correctly."
   ]
  },
  {
   "cell_type": "code",
   "execution_count": null,
   "id": "02b2fcc2-9cff-41a7-8d83-54bee6f907ec",
   "metadata": {
    "tags": []
   },
   "outputs": [],
   "source": [
    "import transformers"
   ]
  },
  {
   "cell_type": "markdown",
   "id": "01c83eb2-6650-44e2-a1cc-4a95f8847254",
   "metadata": {},
   "source": [
    "## Exercise 2: Explore the supercomputer\n",
    "\n",
    "You may have noticed that in the Options tab, by default `Partition > LoginNode` is selected. In fact, JupyterJSC also allows you to launch a JupyterLab on login nodes without any time limit. You can use these to perform regular tasks on the system (e.g. via terminal) or test simple Python routines. But remember: the login nodes are not designed for heavy computations!\n",
    "\n",
    "## Tasks\n",
    "Open a terminal from the \"Launcher\" tab (\"Other\" > \"Terminal\") and use the command `squeue` to check the status of your job. Use \n",
    "```bash\n",
    "squeue\n",
    "```\n",
    "to inspect the current status of the queues. Enter\n",
    "```bash\n",
    "squeue -u <username>\n",
    "```\n",
    "to filter out only the lines of `squeue` that contain entries belonging to you user.\n",
    "\n",
    "1. Using `sacct` and `squeue -u $USER` you will see your currently running interactive job that runs your JupyterLab.\n",
    "2. Launch a terminal and figure out where you are located on the file system, e.g. via `ls` and `pwd`. Explore the system storage a bit. Take a look at the following paths:\n",
    "* /p\n",
    "* /p/project and /p/project/training2330/\n",
    "* /p/home/jusers and /p/home/jusers/$USER/\n",
    "* /p/scratch and /p/scratch/training2330\n",
    "* /p/project/training2330/a2\n",
    "\n"
   ]
  },
  {
   "cell_type": "markdown",
   "id": "4aaa0208-2708-4f4a-8366-79818c9543e5",
   "metadata": {
    "tags": []
   },
   "source": [
    "## Tasks\n",
    "Open a terminal from within Jupyter-JSC and setup the code required for the bootcamp\n",
    "Note, use the following commands in a terminal not in the notebook directly as `USER` does not seem to be available here.\n",
    "\n",
    "1. Create a personal directory named like your user in the project folder located in /p/project/training2330/.\n",
    "```bash\n",
    "mkdir /p/project/training2330/${USER}\n",
    "```\n",
    "2. Navigate to the project folder.\n",
    "```bash\n",
    "cd /p/project/training2330/${USER}\n",
    "```\n",
    "3. Clone the [course material](https://gitlab.jsc.fz-juelich.de/esde/training/maelstrom_bootcamp) Git reposity to that folder.\n",
    "```bash\n",
    "git clone https://gitlab.jsc.fz-juelich.de/esde/training/maelstrom_bootcamp.git\n",
    "```\n",
    "\n",
    "On the left sidebar navigate to your newly created directory. Now, navigate to `File > New Launcher` in the top left corner and launch a Jupyter Notebook with kernel `ap2` console. Execute a set of easy commands, e.g. print a simple statement.\n",
    "\n",
    "4. **CRUCIAL**: Launch a python notebook with the 'ap2' and `import transformers` as a test. All future exercises are based on this environment so you need to be able to use this kernel.\n",
    "    \n",
    "If you are used to working with jupyter notebooks then the working environment will be very familiar to you. In the following, I list some commands that come in handy when working with notebooks\n",
    "\n",
    "* Starting a line with the `!` symbol will execute the following command in bash, e.g. `!pwd`.\n",
    "* A function, object, ... directly followed by a question mark (don't give any arguments or type parentheses) brings up its docstring, e.g. `list?`\n",
    "* To reset your memory footprint, it may sometimes be useful to restart your jupyterkernel, for this go to `Kernel > Restart Kernel...` and confirm the `restart`. This will reset your whole notebook such that you will have to execute all required code again (including imports).\n"
   ]
  }
 ],
 "metadata": {
  "kernelspec": {
   "display_name": "ap2",
   "language": "python",
   "name": "ap2"
  },
  "language_info": {
   "codemirror_mode": {
    "name": "ipython",
    "version": 3
   },
   "file_extension": ".py",
   "mimetype": "text/x-python",
   "name": "python",
   "nbconvert_exporter": "python",
   "pygments_lexer": "ipython3",
   "version": "3.10.12"
  }
 },
 "nbformat": 4,
 "nbformat_minor": 5
}
