{
 "cells": [
  {
   "cell_type": "markdown",
   "id": "2a57ad24-f9cf-40da-b68e-c045d2fe54cc",
   "metadata": {},
   "source": [
    "# Code used to prepare Exercises for Bootcamp (Just for reference)"
   ]
  },
  {
   "cell_type": "code",
   "execution_count": null,
   "id": "df1badcd-2d3a-4666-8cdc-5282975b5b82",
   "metadata": {},
   "outputs": [],
   "source": [
    "# allows update of external libraries without need to reload package\n",
    "%load_ext autoreload\n",
    "%autoreload 2"
   ]
  },
  {
   "cell_type": "code",
   "execution_count": null,
   "id": "067746c1-b69d-4aba-a282-09367ccdf416",
   "metadata": {},
   "outputs": [],
   "source": [
    "import sys\n",
    "import os\n",
    "import pathlib\n",
    "import datetime\n",
    "import numpy as np\n",
    "import xarray\n",
    "import matplotlib\n",
    "import a2.plotting\n",
    "\n",
    "sys.path.append(\"../scripts\")\n",
    "import normalize_text_bootcamp\n",
    "import dataset_bootcamp\n",
    "import utils_bootcamp\n",
    "import plotting\n",
    "\n",
    "import re"
   ]
  },
  {
   "cell_type": "code",
   "execution_count": null,
   "id": "3ff0c69a-5b8b-469c-9936-5de7464d69cb",
   "metadata": {},
   "outputs": [],
   "source": [
    "FOLDER_DATA = \"../../data/bootcamp2023/\"\n",
    "FOLDER_TWEETS = FOLDER_DATA + \"tweets/\"\n",
    "FOLDER_PRECIPITATION = FOLDER_DATA + \"precipitation/\"\n",
    "\n",
    "FILE_TWEETS = (\n",
    "    FOLDER_TWEETS\n",
    "    + \"2017_2020_tweets_rain_sun_vocab_emojis_locations_bba_Tp_era5_no_bots_normalized_filtered_weather_stations_fix_predicted_simpledeberta_radar.nc\"\n",
    ")\n",
    "\n",
    "\n",
    "def load_tweets(folder):\n",
    "    ds = xarray.load_dataset(folder)\n",
    "    ds = dataset_bootcamp.reset_index_coordinate(ds)\n",
    "    return ds"
   ]
  },
  {
   "cell_type": "code",
   "execution_count": null,
   "id": "7030c22d-8142-4918-876d-5376398b0ea5",
   "metadata": {},
   "outputs": [],
   "source": [
    "ds = load_tweets(FILE_TWEETS)"
   ]
  },
  {
   "cell_type": "code",
   "execution_count": null,
   "id": "b7082443",
   "metadata": {},
   "outputs": [],
   "source": [
    "ds"
   ]
  },
  {
   "cell_type": "code",
   "execution_count": null,
   "id": "c962d92f",
   "metadata": {},
   "outputs": [],
   "source": [
    "ds[\"tp_h\"][ds[\"tp_h\"] == ds[\"tp_h_mm\"] * 1e3]\n",
    "ds[\"tp_h_mm\"][ds[\"tp_h\"] != ds[\"tp_h_mm\"] * 1e-3]"
   ]
  },
  {
   "cell_type": "code",
   "execution_count": null,
   "id": "c29fedc3",
   "metadata": {},
   "outputs": [],
   "source": [
    "ds[\"tp_h_mm\"] = ([\"index\"], ds[\"tp_h\"].values.copy() * 1e3)\n",
    "ds[\"raining\"] = ([\"index\"], np.array(ds[\"tp_h_mm\"].values >= 0.1, int))\n",
    "\n",
    "ds[\"tp_mm_station\"] = ([\"index\"], ds[\"station_tp_mm\"].values.copy() * 1e3)\n",
    "ds[\"raining_station\"] = ([\"index\"], np.array(ds[\"station_tp_mm\"].values >= 0.1, int))\n",
    "\n",
    "ds[\"raining_radar\"] = ([\"index\"], np.array(ds[\"tp_mm_radar\"].values >= 0.1, int))"
   ]
  },
  {
   "cell_type": "code",
   "execution_count": null,
   "id": "9b02339e",
   "metadata": {},
   "outputs": [],
   "source": [
    "ds[\"raining\"].plot.hist(bins=2);"
   ]
  },
  {
   "cell_type": "code",
   "execution_count": null,
   "id": "47857afb",
   "metadata": {},
   "outputs": [],
   "source": [
    "ds[\"raining_station\"].plot.hist(bins=2);"
   ]
  },
  {
   "cell_type": "code",
   "execution_count": null,
   "id": "d1a6ba2f",
   "metadata": {},
   "outputs": [],
   "source": [
    "ds[\"raining_radar\"].plot.hist(bins=2);"
   ]
  },
  {
   "cell_type": "code",
   "execution_count": null,
   "id": "f472fcba",
   "metadata": {},
   "outputs": [],
   "source": [
    "a2.plotting.histograms.plot_histogram_2d(\"raining_radar\", \"raining\", df=ds, n_bins=2, annotate=True);"
   ]
  },
  {
   "cell_type": "code",
   "execution_count": null,
   "id": "45485c0a",
   "metadata": {},
   "outputs": [],
   "source": [
    "a2.plotting.histograms.plot_histogram_2d(\"raining_station\", \"raining\", df=ds, n_bins=2, annotate=True);"
   ]
  },
  {
   "cell_type": "code",
   "execution_count": null,
   "id": "45ab7dc4",
   "metadata": {},
   "outputs": [],
   "source": [
    "sorted(list(ds.keys()))"
   ]
  },
  {
   "cell_type": "code",
   "execution_count": null,
   "id": "aaada90f-71d5-4f52-9a6b-88d021ca8da4",
   "metadata": {},
   "outputs": [],
   "source": [
    "ds = dataset_bootcamp.reset_index_coordinate(\n",
    "    ds.drop_vars(\n",
    "        [\n",
    "            \"withheld.copyright\",\n",
    "            \"withheld.country_codes\",\n",
    "            \"withheld.scope\",\n",
    "            \"time\",\n",
    "            \"reply_settings\",\n",
    "            \"prediction\",\n",
    "            \"prediction_probability_not_raining\",\n",
    "            \"prediction_probability_raining\",\n",
    "            # \"created_at_h\",\n",
    "            \"created_at_rounded_5\",\n",
    "            \"difference_tp\",\n",
    "            \"inconsistent_rain\",\n",
    "            \"difference_tp\",\n",
    "            \"station_tp_mm\",\n",
    "            \"time_radar\",\n",
    "            \"time_radar_int\",\n",
    "            # \"time_half\",\n",
    "            \"x_ngt\",\n",
    "            \"x_ngt_rounded\",\n",
    "            \"y_ngt\",\n",
    "            \"y_ngt_rounded\",\n",
    "            \"bounding_box\",\n",
    "        ],\n",
    "        errors=\"ignore\",\n",
    "    )\n",
    ")\n",
    "ds"
   ]
  },
  {
   "cell_type": "code",
   "execution_count": null,
   "id": "c5f084c1",
   "metadata": {},
   "outputs": [],
   "source": [
    "sorted(list(ds.keys()))"
   ]
  },
  {
   "cell_type": "code",
   "execution_count": null,
   "id": "b42c9416-f5bb-4379-9608-849096432a3d",
   "metadata": {},
   "outputs": [],
   "source": [
    "ds[\"text_original\"] = ([\"index\"], ds.text.values.copy())"
   ]
  },
  {
   "cell_type": "code",
   "execution_count": null,
   "id": "246c190b-23c0-488b-b39e-1ac0adcbbc0d",
   "metadata": {},
   "outputs": [],
   "source": [
    "def generate_datasets(ds, subfix):\n",
    "    ds_17 = ds.where(\n",
    "        (ds.created_at > np.datetime64(\"2017-01-01T00:00:00\")) & (ds.created_at < np.datetime64(\"2018-01-01T00:00:00\")),\n",
    "        drop=True,\n",
    "    )\n",
    "    ds_17.to_netcdf(FOLDER_TWEETS + f\"tweets_2017_{subfix}.nc\")\n",
    "    ds_17_01 = ds.where(\n",
    "        (ds.created_at > np.datetime64(\"2017-01-01T00:00:00\")) & (ds.created_at < np.datetime64(\"2017-02-01T00:00:00\")),\n",
    "        drop=True,\n",
    "    )\n",
    "    ds_17_01.to_netcdf(FOLDER_TWEETS + f\"tweets_2017_01_{subfix}.nc\")\n",
    "    ds.to_netcdf(FOLDER_TWEETS + f\"tweets_2017-2020_{subfix}.nc\")"
   ]
  },
  {
   "cell_type": "code",
   "execution_count": null,
   "id": "4f46075c",
   "metadata": {},
   "outputs": [],
   "source": [
    "# ds_norm = normalize_text_bootcamp.normalize_text_dataset(ds)\n",
    "# generate_datasets(ds_norm, \"era5_normed\")"
   ]
  },
  {
   "cell_type": "code",
   "execution_count": null,
   "id": "2e2a8d86-804a-4fa0-9a2d-fde3a56aab26",
   "metadata": {},
   "outputs": [],
   "source": [
    "ds_norm_filtered = normalize_text_bootcamp.normalize_filter_dataset(ds)"
   ]
  },
  {
   "cell_type": "code",
   "execution_count": null,
   "id": "eedbc8da-4e92-45aa-8dd0-a6a537933b6f",
   "metadata": {},
   "outputs": [],
   "source": [
    "generate_datasets(ds_norm_filtered, \"era5_normed_filtered\")"
   ]
  },
  {
   "cell_type": "markdown",
   "id": "77abda25",
   "metadata": {},
   "source": [
    "### Check small dataset"
   ]
  },
  {
   "cell_type": "code",
   "execution_count": null,
   "id": "097a651b",
   "metadata": {},
   "outputs": [],
   "source": [
    "ds_tmp = load_tweets(FOLDER_TWEETS + \"tweets_2017_01_era5_normed_filtered.nc\")"
   ]
  },
  {
   "cell_type": "code",
   "execution_count": null,
   "id": "99f8b5ea",
   "metadata": {},
   "outputs": [],
   "source": [
    "sorted(list(ds_tmp.keys()))"
   ]
  },
  {
   "cell_type": "markdown",
   "id": "377fb140-ed96-48d5-9dd4-aea494ffd009",
   "metadata": {},
   "source": [
    "### **Precipitation**"
   ]
  },
  {
   "cell_type": "code",
   "execution_count": null,
   "id": "028bdf80-c5f4-4131-a091-c0c076128bf6",
   "metadata": {},
   "outputs": [],
   "source": [
    "ds_p = xarray.load_dataset(FOLDER_PRECIPITATION + \"ds_prec_era5_uk_2017-2020.nc\")"
   ]
  },
  {
   "cell_type": "code",
   "execution_count": null,
   "id": "27067169",
   "metadata": {},
   "outputs": [],
   "source": [
    "ds_tmp.sel(index=slice(10))"
   ]
  },
  {
   "cell_type": "markdown",
   "id": "6b41a9a7",
   "metadata": {},
   "source": [
    "### Precipitation map at location of Tweets"
   ]
  },
  {
   "cell_type": "code",
   "execution_count": null,
   "id": "f6fcc526-a691-4842-9e94-5ed0a14d134e",
   "metadata": {},
   "outputs": [],
   "source": [
    "a2.plotting.weather_maps.plot_precipiation_map(ds_p, ds_tmp.sel(index=slice(10, 20)), key_time=\"time_half\");"
   ]
  },
  {
   "cell_type": "code",
   "execution_count": null,
   "id": "fc5a1cba-3239-4579-999e-23e1fb0a38e4",
   "metadata": {},
   "outputs": [],
   "source": [
    "def split_dataset_by_year(\n",
    "    ds,\n",
    "    prefix=\"ds_precipitation_\",\n",
    "    years=[2017, 2021],\n",
    "    folder=FOLDER_PRECIPITATION,\n",
    "):\n",
    "    years_range = np.arange(*years)\n",
    "    for y in years_range:\n",
    "        ds_y = ds.where(\n",
    "            (ds.time > np.datetime64(f\"{y}-01-01T00:00:00\")) & (ds.time < np.datetime64(f\"{y+1}-01-01T00:00:00\")),\n",
    "            drop=True,\n",
    "        )\n",
    "        ds_y.to_netcdf(f\"{folder}{prefix}{y}.nc\")\n",
    "\n",
    "\n",
    "split_dataset_by_year(ds_p)\n",
    "ds_p"
   ]
  },
  {
   "cell_type": "code",
   "execution_count": null,
   "id": "bc2c1875-46ee-4730-87ec-1d2bd8c3a3c0",
   "metadata": {},
   "outputs": [],
   "source": [
    "ds_17 = xarray.load_dataset(FOLDER_PRECIPITATION + \"ds_prec_era5_uk_2017-2020.nc\")"
   ]
  },
  {
   "cell_type": "markdown",
   "id": "c3819e8d-5750-4838-87e2-5e07f1a3f232",
   "metadata": {},
   "source": [
    "## Filtered (normalized) dataset version"
   ]
  },
  {
   "cell_type": "code",
   "execution_count": null,
   "id": "bd90a32b-fa3e-41c3-82a8-337cb2d4d603",
   "metadata": {},
   "outputs": [],
   "source": [
    "ds_tweets_full = load_tweets(\"../../data/tweets/tweets_2017-2020_normalized.nc\")"
   ]
  },
  {
   "cell_type": "code",
   "execution_count": null,
   "id": "ec681415-7fd2-4180-818a-3468ade0de35",
   "metadata": {},
   "outputs": [],
   "source": [
    "ds_tweets_fn = normalize_text_bootcamp.normalize_filter_dataset(ds_tweets_full)"
   ]
  },
  {
   "cell_type": "code",
   "execution_count": null,
   "id": "343c822b-908e-4c96-bac1-6708879d8dd3",
   "metadata": {},
   "outputs": [],
   "source": [
    "ds_tweets_fn.to_netcdf(\"../../data/tweets/tweets_2017-2020_normalized_filtered.nc\")"
   ]
  },
  {
   "cell_type": "code",
   "execution_count": null,
   "id": "f0344df8-3b2a-49c4-8ffc-3ceb3e5f832e",
   "metadata": {},
   "outputs": [],
   "source": [
    "ds_tweets_fn"
   ]
  },
  {
   "cell_type": "code",
   "execution_count": null,
   "id": "1a9f164a-9e7c-4205-b336-9cd2094f7252",
   "metadata": {},
   "outputs": [],
   "source": [
    "# small dataset"
   ]
  },
  {
   "cell_type": "code",
   "execution_count": null,
   "id": "eca7a0e1-7b55-4caa-82a9-bfbb105af9a9",
   "metadata": {},
   "outputs": [],
   "source": [
    "ds_tweets_17 = load_tweets(\"../../data/tweets/tweets_2017_normalized.nc\")"
   ]
  },
  {
   "cell_type": "code",
   "execution_count": null,
   "id": "7b679173-2c66-4492-b57b-08ac229fe108",
   "metadata": {},
   "outputs": [],
   "source": [
    "ds_tweets_17_fn = normalize_text_bootcamp.normalize_filter_dataset(ds_tweets_17)"
   ]
  },
  {
   "cell_type": "code",
   "execution_count": null,
   "id": "3042bacf-d213-4607-9271-d84af398b2c7",
   "metadata": {},
   "outputs": [],
   "source": [
    "ds_tweets_17_fn.to_netcdf(\"../../data/tweets/tweets_2017_normalized_filtered.nc\")"
   ]
  },
  {
   "cell_type": "code",
   "execution_count": null,
   "id": "9fabcadc-b07f-41f4-b9bc-71bc7820f6bb",
   "metadata": {},
   "outputs": [],
   "source": [
    "ds_tweets_17_fn"
   ]
  },
  {
   "cell_type": "code",
   "execution_count": null,
   "id": "022dc948-ba5b-4d45-bc44-e1b95ba854a4",
   "metadata": {},
   "outputs": [],
   "source": [
    "def drop_var_save(drop_variables=[\"text\"]):\n",
    "    FOLDER_TWEETS = \"../../data/tweets/\"\n",
    "    folders = [\n",
    "        FOLDER_TWEETS + x\n",
    "        for x in [\n",
    "            \"tweets_2017-2020_normalized_filtered.nc\",\n",
    "            \"tweets_2017-2020_normalized.nc\",\n",
    "            \"tweets_2017_normalized.nc\",\n",
    "            \"tweets_2017_normalized_filtered.nc\",\n",
    "        ]\n",
    "    ]\n",
    "    for f in folders:\n",
    "        ds_tweets = load_tweets(f)\n",
    "        for var in drop_variables:\n",
    "            if var in ds_tweets.variables.keys():\n",
    "                ds_tweets.drop([var])\n",
    "        ds_tweets.to_netcdf(f)\n",
    "\n",
    "\n",
    "drop_var_save()"
   ]
  },
  {
   "cell_type": "markdown",
   "id": "af8f204d-ee9f-4e78-83cd-9d0153b735e6",
   "metadata": {},
   "source": [
    "## ERA5 dataset preprocess"
   ]
  },
  {
   "cell_type": "code",
   "execution_count": null,
   "id": "9be0d3a5-46e5-4554-9b8c-260261b69d57",
   "metadata": {},
   "outputs": [],
   "source": [
    "ds_p.sel(time=np.datetime64(\"2020-01-01T02:30:00.000000000\")).tp.plot(\n",
    "    xlim=[-9, 3],\n",
    "    ylim=[49, 61],\n",
    "    norm=matplotlib.colors.LogNorm(vmax=1e-3, vmin=1e-6),\n",
    "    cmap=\"ocean_r\",\n",
    ")"
   ]
  },
  {
   "cell_type": "code",
   "execution_count": null,
   "id": "fac061ad-93c7-445a-afef-c7c83bb7eb89",
   "metadata": {},
   "outputs": [],
   "source": []
  }
 ],
 "metadata": {
  "kernelspec": {
   "display_name": "Python 3 (ipykernel)",
   "language": "python",
   "name": "python3"
  },
  "language_info": {
   "codemirror_mode": {
    "name": "ipython",
    "version": 3
   },
   "file_extension": ".py",
   "mimetype": "text/x-python",
   "name": "python",
   "nbconvert_exporter": "python",
   "pygments_lexer": "ipython3",
   "version": "3.10.4"
  }
 },
 "nbformat": 4,
 "nbformat_minor": 5
}
