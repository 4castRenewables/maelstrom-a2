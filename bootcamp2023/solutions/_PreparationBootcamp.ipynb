{
 "cells": [
  {
   "cell_type": "markdown",
   "id": "2a57ad24-f9cf-40da-b68e-c045d2fe54cc",
   "metadata": {},
   "source": [
    "# Code used to prepare Exercises for Bootcamp (Just for reference)"
   ]
  },
  {
   "cell_type": "code",
   "execution_count": null,
   "id": "df1badcd-2d3a-4666-8cdc-5282975b5b82",
   "metadata": {},
   "outputs": [],
   "source": [
    "# allows update of external libraries without need to reload package\n",
    "%load_ext autoreload\n",
    "%autoreload 2"
   ]
  },
  {
   "cell_type": "code",
   "execution_count": null,
   "id": "067746c1-b69d-4aba-a282-09367ccdf416",
   "metadata": {},
   "outputs": [],
   "source": [
    "import sys\n",
    "import os\n",
    "import pathlib\n",
    "import datetime\n",
    "import numpy as np\n",
    "import xarray\n",
    "import matplotlib\n",
    "import a2.plotting\n",
    "\n",
    "sys.path.append(\"../scripts\")\n",
    "import normalize_text_bootcamp\n",
    "import dataset_bootcamp\n",
    "import utils_bootcamp\n",
    "import plotting\n",
    "\n",
    "import re"
   ]
  },
  {
   "cell_type": "code",
   "execution_count": null,
   "id": "3ff0c69a-5b8b-469c-9936-5de7464d69cb",
   "metadata": {},
   "outputs": [],
   "source": [
    "FOLDER_DATA = \"../../data/bootcamp2023/\"\n",
    "FOLDER_TWEETS = FOLDER_DATA + \"tweets/\"\n",
    "FOLDER_PRECIPITATION = FOLDER_DATA + \"precipitation/\"\n",
    "\n",
    "FILE_TWEETS = (\n",
    "    FOLDER_TWEETS\n",
    "    + \"2017_2020_tweets_rain_sun_vocab_emojis_locations_bba_Tp_era5_no_bots_normalized_filtered_weather_stations_fix_predicted_simpledeberta_radar.nc\"\n",
    ")\n",
    "\n",
    "\n",
    "def load_tweets(folder):\n",
    "    ds = xarray.load_dataset(folder)\n",
    "    ds = dataset_bootcamp.reset_index_coordinate(ds)\n",
    "    return ds\n",
    "\n",
    "\n",
    "def save_tweets(ds, filename):\n",
    "    ds = dataset_bootcamp.reset_index_coordinate(ds)\n",
    "    ds.to_netcdf(filename)"
   ]
  },
  {
   "cell_type": "code",
   "execution_count": null,
   "id": "7030c22d-8142-4918-876d-5376398b0ea5",
   "metadata": {},
   "outputs": [],
   "source": [
    "ds = load_tweets(FILE_TWEETS)"
   ]
  },
  {
   "cell_type": "code",
   "execution_count": null,
   "id": "b7082443",
   "metadata": {},
   "outputs": [],
   "source": [
    "tp = ds.tp_h.values\n",
    "tp_cleaned = np.zeros_like(tp)\n",
    "tp_cleaned[tp > 0] = tp[tp > 0]\n",
    "ds[\"tp_h\"] = ([\"index\"], tp_cleaned)"
   ]
  },
  {
   "cell_type": "code",
   "execution_count": null,
   "id": "c29fedc3",
   "metadata": {},
   "outputs": [],
   "source": [
    "tp_mm_rain_thresh = 6e-3\n",
    "\n",
    "ds[\"tp_h_mm\"] = ([\"index\"], ds[\"tp_h\"].values.copy() * 1e3)\n",
    "ds[\"raining\"] = ([\"index\"], np.array(ds[\"tp_h_mm\"].values >= tp_mm_rain_thresh, int))\n",
    "\n",
    "ds[\"tp_mm_station\"] = ([\"index\"], ds[\"station_tp_mm\"].values.copy() * 1e3)\n",
    "ds[\"raining_station\"] = ([\"index\"], np.array(ds[\"station_tp_mm\"].values >= 0.1, int))\n",
    "\n",
    "ds[\"raining_radar\"] = ([\"index\"], np.array(ds[\"tp_mm_radar\"].values >= 0.1, int))"
   ]
  },
  {
   "cell_type": "code",
   "execution_count": null,
   "id": "8edcb7d8",
   "metadata": {},
   "outputs": [],
   "source": [
    "a2.plotting.histograms.plot_histogram(\n",
    "    ds.tp_h.values[~np.isnan(ds.tp_h.values)], log=[\"symlog\", \"log\"], symlog_linear_threshold=1e-8\n",
    ")"
   ]
  },
  {
   "cell_type": "code",
   "execution_count": null,
   "id": "9b02339e",
   "metadata": {},
   "outputs": [],
   "source": [
    "ds[\"raining\"].plot.hist(bins=2);"
   ]
  },
  {
   "cell_type": "code",
   "execution_count": null,
   "id": "47857afb",
   "metadata": {},
   "outputs": [],
   "source": [
    "ds[\"raining_station\"].plot.hist(bins=2);"
   ]
  },
  {
   "cell_type": "code",
   "execution_count": null,
   "id": "d1a6ba2f",
   "metadata": {},
   "outputs": [],
   "source": [
    "ds[\"raining_radar\"].plot.hist(bins=2);"
   ]
  },
  {
   "cell_type": "code",
   "execution_count": null,
   "id": "f472fcba",
   "metadata": {},
   "outputs": [],
   "source": [
    "a2.plotting.histograms.plot_histogram_2d(\"raining_radar\", \"raining\", df=ds, n_bins=2, annotate=True);"
   ]
  },
  {
   "cell_type": "code",
   "execution_count": null,
   "id": "98d9f92a",
   "metadata": {},
   "outputs": [],
   "source": [
    "a2.plotting.analysis.plot_confusion_matrix(\n",
    "    truth=ds.raining.values, prediction=ds.raining_station.values, normalize=\"all\"\n",
    ");"
   ]
  },
  {
   "cell_type": "code",
   "execution_count": null,
   "id": "45485c0a",
   "metadata": {},
   "outputs": [],
   "source": [
    "a2.plotting.histograms.plot_histogram_2d(\"raining_station\", \"raining\", df=ds, n_bins=2, annotate=True);"
   ]
  },
  {
   "cell_type": "code",
   "execution_count": null,
   "id": "45ab7dc4",
   "metadata": {},
   "outputs": [],
   "source": [
    "sorted(list(ds.keys()))"
   ]
  },
  {
   "cell_type": "code",
   "execution_count": null,
   "id": "aaada90f-71d5-4f52-9a6b-88d021ca8da4",
   "metadata": {},
   "outputs": [],
   "source": [
    "ds = dataset_bootcamp.reset_index_coordinate(\n",
    "    ds.drop_vars(\n",
    "        [\n",
    "            \"withheld.copyright\",\n",
    "            \"withheld.country_codes\",\n",
    "            \"withheld.scope\",\n",
    "            \"time\",\n",
    "            \"reply_settings\",\n",
    "            \"prediction\",\n",
    "            \"prediction_probability_not_raining\",\n",
    "            \"prediction_probability_raining\",\n",
    "            # \"created_at_h\",\n",
    "            \"created_at_rounded_5\",\n",
    "            \"difference_tp\",\n",
    "            \"inconsistent_rain\",\n",
    "            \"difference_tp\",\n",
    "            \"station_tp_mm\",\n",
    "            \"time_radar\",\n",
    "            \"time_radar_int\",\n",
    "            # \"time_half\",\n",
    "            \"x_ngt\",\n",
    "            \"x_ngt_rounded\",\n",
    "            \"y_ngt\",\n",
    "            \"y_ngt_rounded\",\n",
    "            \"bounding_box\",\n",
    "        ],\n",
    "        errors=\"ignore\",\n",
    "    )\n",
    ")\n",
    "ds"
   ]
  },
  {
   "cell_type": "code",
   "execution_count": null,
   "id": "c5f084c1",
   "metadata": {},
   "outputs": [],
   "source": [
    "sorted(list(ds.keys()))"
   ]
  },
  {
   "cell_type": "code",
   "execution_count": null,
   "id": "b42c9416-f5bb-4379-9608-849096432a3d",
   "metadata": {},
   "outputs": [],
   "source": [
    "ds[\"text_original\"] = ([\"index\"], ds.text.values.copy())"
   ]
  },
  {
   "cell_type": "code",
   "execution_count": null,
   "id": "246c190b-23c0-488b-b39e-1ac0adcbbc0d",
   "metadata": {},
   "outputs": [],
   "source": [
    "def generate_datasets(ds, subfix):\n",
    "    ds_17 = ds.where(\n",
    "        (ds.created_at > np.datetime64(\"2017-01-01T00:00:00\")) & (ds.created_at < np.datetime64(\"2018-01-01T00:00:00\")),\n",
    "        drop=True,\n",
    "    )\n",
    "    ds_17_01 = ds.where(\n",
    "        (ds.created_at > np.datetime64(\"2017-01-01T00:00:00\")) & (ds.created_at < np.datetime64(\"2017-02-01T00:00:00\")),\n",
    "        drop=True,\n",
    "    )\n",
    "    save_tweets(ds_17_01, FOLDER_TWEETS + f\"tweets_2017_01_{subfix}.nc\")\n",
    "    save_tweets(ds_17, FOLDER_TWEETS + f\"tweets_2017_{subfix}.nc\")\n",
    "    save_tweets(ds, FOLDER_TWEETS + f\"tweets_2017-2020_{subfix}.nc\")"
   ]
  },
  {
   "cell_type": "code",
   "execution_count": null,
   "id": "4f46075c",
   "metadata": {},
   "outputs": [],
   "source": [
    "# ds_norm = normalize_text_bootcamp.normalize_text_dataset(ds)\n",
    "# generate_datasets(ds_norm, \"era5_normed\")"
   ]
  },
  {
   "cell_type": "code",
   "execution_count": null,
   "id": "2e2a8d86-804a-4fa0-9a2d-fde3a56aab26",
   "metadata": {},
   "outputs": [],
   "source": [
    "ds_norm_filtered = normalize_text_bootcamp.normalize_filter_dataset(\n",
    "    ds,\n",
    "    remove_punctuations=\"all\",\n",
    "    replace_keyword_emojis=False,\n",
    ")"
   ]
  },
  {
   "cell_type": "code",
   "execution_count": null,
   "id": "eedbc8da-4e92-45aa-8dd0-a6a537933b6f",
   "metadata": {},
   "outputs": [],
   "source": [
    "generate_datasets(ds_norm_filtered, \"era5_normed_filtered\")"
   ]
  },
  {
   "cell_type": "markdown",
   "id": "77abda25",
   "metadata": {},
   "source": [
    "### Check small dataset"
   ]
  },
  {
   "cell_type": "code",
   "execution_count": null,
   "id": "097a651b",
   "metadata": {},
   "outputs": [],
   "source": [
    "ds_tmp = load_tweets(FOLDER_TWEETS + \"tweets_2017_01_era5_normed_filtered.nc\")"
   ]
  },
  {
   "cell_type": "code",
   "execution_count": null,
   "id": "99f8b5ea",
   "metadata": {},
   "outputs": [],
   "source": [
    "sorted(list(ds_tmp.keys()))"
   ]
  },
  {
   "cell_type": "markdown",
   "id": "377fb140-ed96-48d5-9dd4-aea494ffd009",
   "metadata": {},
   "source": [
    "### **Precipitation**"
   ]
  },
  {
   "cell_type": "code",
   "execution_count": null,
   "id": "028bdf80-c5f4-4131-a091-c0c076128bf6",
   "metadata": {},
   "outputs": [],
   "source": [
    "ds_prec = xarray.load_dataset(FOLDER_PRECIPITATION + \"ds_prec_era5_uk_2017-2020_decum.nc\")"
   ]
  },
  {
   "cell_type": "code",
   "execution_count": null,
   "id": "fec605e7",
   "metadata": {},
   "outputs": [],
   "source": [
    "ds_prec"
   ]
  },
  {
   "cell_type": "code",
   "execution_count": null,
   "id": "5ce7c00e",
   "metadata": {},
   "outputs": [],
   "source": [
    "a2.plotting.histograms.plot_histogram(ds_prec.tp_h.values[~np.isnan(ds_prec.tp_h.values)], log=[\"symlog\", \"log\"])"
   ]
  },
  {
   "cell_type": "code",
   "execution_count": null,
   "id": "b6c22d00",
   "metadata": {},
   "outputs": [],
   "source": [
    "ds_prec[\"tp_h\"].values[np.logical_and(~np.isnan(ds_prec.tp_h.values), ds_prec.tp_h.values > 0)].min()"
   ]
  },
  {
   "cell_type": "code",
   "execution_count": null,
   "id": "b3fa1e18",
   "metadata": {},
   "outputs": [],
   "source": [
    "tp = ds_prec.tp_h.values.copy()\n",
    "tp[tp < 0] = 0\n",
    "ds_prec[\"tp_h\"] = (ds_prec.coords, tp)"
   ]
  },
  {
   "cell_type": "code",
   "execution_count": null,
   "id": "c707cc57",
   "metadata": {},
   "outputs": [],
   "source": [
    "a2.plotting.histograms.plot_histogram(\n",
    "    ds_prec.tp_h.values[~np.isnan(ds_prec.tp_h.values)], log=[\"symlog\", \"log\"], symlog_linear_threshold=1e-8\n",
    ")"
   ]
  },
  {
   "cell_type": "markdown",
   "id": "6b41a9a7",
   "metadata": {},
   "source": [
    "### Precipitation map at location of Tweets"
   ]
  },
  {
   "cell_type": "code",
   "execution_count": null,
   "id": "f6fcc526-a691-4842-9e94-5ed0a14d134e",
   "metadata": {},
   "outputs": [],
   "source": [
    "a2.plotting.weather_maps.plot_precipiation_map(ds_prec, ds_tmp.sel(index=slice(10, 20)));"
   ]
  },
  {
   "cell_type": "code",
   "execution_count": null,
   "id": "fc5a1cba-3239-4579-999e-23e1fb0a38e4",
   "metadata": {},
   "outputs": [],
   "source": [
    "def split_dataset_by_year(\n",
    "    ds,\n",
    "    prefix=\"ds_precipitation_\",\n",
    "    years=[2017, 2021],\n",
    "    folder=FOLDER_PRECIPITATION,\n",
    "    key_time=\"time_half\",\n",
    "):\n",
    "    years_range = np.arange(*years)\n",
    "    for y in years_range:\n",
    "        ds_y = ds.where(\n",
    "            (ds[key_time] > np.datetime64(f\"{y}-01-01T00:00:00\"))\n",
    "            & (ds[key_time] < np.datetime64(f\"{y+1}-01-01T00:00:00\")),\n",
    "            drop=True,\n",
    "        )\n",
    "        ds_y.to_netcdf(f\"{folder}{prefix}{y}.nc\")\n",
    "\n",
    "\n",
    "split_dataset_by_year(ds_prec)\n",
    "ds_prec"
   ]
  },
  {
   "cell_type": "code",
   "execution_count": null,
   "id": "bc2c1875-46ee-4730-87ec-1d2bd8c3a3c0",
   "metadata": {},
   "outputs": [],
   "source": [
    "ds_17 = xarray.load_dataset(FOLDER_PRECIPITATION + \"ds_precipitation_2017.nc\")"
   ]
  },
  {
   "cell_type": "code",
   "execution_count": null,
   "id": "947e02c7",
   "metadata": {},
   "outputs": [],
   "source": [
    "np.nanmin(ds_17[\"tp_h\"].values)"
   ]
  },
  {
   "cell_type": "code",
   "execution_count": null,
   "id": "fac061ad-93c7-445a-afef-c7c83bb7eb89",
   "metadata": {},
   "outputs": [],
   "source": []
  }
 ],
 "metadata": {
  "kernelspec": {
   "display_name": ".venv",
   "language": "python",
   "name": "python3"
  },
  "language_info": {
   "codemirror_mode": {
    "name": "ipython",
    "version": 3
   },
   "file_extension": ".py",
   "mimetype": "text/x-python",
   "name": "python",
   "nbconvert_exporter": "python",
   "pygments_lexer": "ipython3",
   "version": "3.10.12"
  }
 },
 "nbformat": 4,
 "nbformat_minor": 5
}
