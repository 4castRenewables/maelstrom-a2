{
 "cells": [
  {
   "cell_type": "markdown",
   "id": "9ce363c5-7dc5-43d0-90e2-b9c8b1cc6fb3",
   "metadata": {},
   "source": [
    "# Jupyter kernel setup\n",
    "To setup the kernel, the following steps were taken \n",
    "- Built the apptainer image from `bootcamp2023.def`. \n",
    "- Defined the kernel json in folder `/p/project/training2330/ehlert1/jupyter/kernels/bootcamp2023`\n",
    "- Created symlink from folder containing the `.json` to local kernel folder of project  \n",
    "\n",
    "Note, Makefile of [`a2` repository](https://github.com/4castRenewables/maelstrom-a2/blob/15ac31a430ac7e4a5c907ff9f753cc912b3dc530/Makefile#L161C1-L161C1) provides additional information. "
   ]
  },
  {
   "cell_type": "markdown",
   "id": "c58e1344-6638-4c6e-8712-02366ad7b748",
   "metadata": {},
   "source": [
    "`kernel.json` contains the following \n",
    "\n",
    "```raw\n",
    "{\n",
    "\"argv\": [\n",
    "   \"singularity\",\n",
    "   \"exec\",\n",
    "   \"--nv\",\n",
    "   \"--cleanenv\",\n",
    "   \"$(JSC_IMAGE_FOLDER)/$(IMAGE_NAME).sif\",\n",
    "   \"python3\",\n",
    "   \"-m\",\n",
    "   \"ipykernel\",\n",
    "   \"-f\",\n",
    "   \"{connection_file}\"\n",
    " ],\n",
    " \"language\": \"python\",\n",
    " \"display_name\": \"$(KERNEL_DISPLAY_NAME)\"\n",
    "}\n",
    "```\n",
    "Here, we assume that the apptainer image is stored as `\"$(JSC_IMAGE_FOLDER)/$(IMAGE_NAME).sif\"`"
   ]
  },
  {
   "cell_type": "code",
   "execution_count": null,
   "id": "8d4def9b-4049-4608-ad89-211623ccdde0",
   "metadata": {
    "tags": []
   },
   "outputs": [],
   "source": [
    "!cat /p/project/training2330/.local/share/jupyter/kernels/ap2/kernel.json"
   ]
  },
  {
   "cell_type": "markdown",
   "id": "136eb0cc-7a0c-4370-8938-469917811965",
   "metadata": {
    "tags": []
   },
   "source": [
    "### Created symlink for main kernel used bootcamp tasks"
   ]
  },
  {
   "cell_type": "code",
   "execution_count": null,
   "id": "cae3717e-711b-451e-8e4e-06c596748a49",
   "metadata": {
    "tags": []
   },
   "outputs": [],
   "source": [
    "# !ln -s /p/project/training2330/ehlert1/jupyter/kernels/bootcamp2023 /p/project/training2330/.local/share/jupyter/kernels/ap2"
   ]
  },
  {
   "cell_type": "markdown",
   "id": "c51a25e7-c865-4907-ab79-85c6b58df496",
   "metadata": {},
   "source": [
    "### Created symlink for secondary kernel used for running LLM Falcon model\n",
    "Image built from `HFfinetuningBnB.def`"
   ]
  },
  {
   "cell_type": "code",
   "execution_count": null,
   "id": "6f86dc84-a016-4c65-ac1a-9b3419fcea30",
   "metadata": {
    "tags": []
   },
   "outputs": [],
   "source": [
    "# !ln -s /p/project/training2330/ehlert1/jupyter/kernels/HFfinetuningBnB /p/project/training2330/.local/share/jupyter/kernels/HFfinetuningBnB"
   ]
  },
  {
   "cell_type": "markdown",
   "id": "79b4c1fc-2e2b-4932-bb22-b4fcb73a5402",
   "metadata": {},
   "source": [
    "### Show available kernels to notebook"
   ]
  },
  {
   "cell_type": "code",
   "execution_count": null,
   "id": "57b51a84-e421-4013-9259-96caa0897223",
   "metadata": {
    "tags": []
   },
   "outputs": [],
   "source": [
    "!jupyter kernelspec list"
   ]
  }
 ],
 "metadata": {
  "kernelspec": {
   "display_name": "Python 3 (ipykernel)",
   "language": "python",
   "name": "python3"
  },
  "language_info": {
   "codemirror_mode": {
    "name": "ipython",
    "version": 3
   },
   "file_extension": ".py",
   "mimetype": "text/x-python",
   "name": "python",
   "nbconvert_exporter": "python",
   "pygments_lexer": "ipython3",
   "version": "3.10.12"
  }
 },
 "nbformat": 4,
 "nbformat_minor": 5
}
